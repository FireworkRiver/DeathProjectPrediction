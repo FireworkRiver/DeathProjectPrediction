{
 "cells": [
  {
   "cell_type": "code",
   "execution_count": 1,
   "metadata": {
    "collapsed": true,
    "pycharm": {
     "is_executing": false
    }
   },
   "outputs": [],
   "source": [
    "import csv\n",
    "def intRow(row):\n",
    "    temp = []\n",
    "    for t in row:\n",
    "        temp.append(int(t))\n",
    "    return temp\n",
    "\n",
    "def read_x(address):\n",
    "    reader = csv.reader(open(address))\n",
    "    x= [intRow(row) for row in reader]\n",
    "    return x\n",
    "\n",
    "def read_y(address):\n",
    "    reader = csv.reader(open(address))\n",
    "    list=[intRow(row) for row in reader]\n",
    "    y=sum(list,[])\n",
    "    return y\n",
    "\n",
    "def NormalLine(row):\n",
    "    total = sum(row[-4:])\n",
    "    if total == 0:\n",
    "        total = 1\n",
    "    return [i/total for i in row]\n",
    "\n",
    "def differences(row):\n",
    "    total_list = row[-4:]\n",
    "    num_list = row[:-4]\n",
    "    differences_list = []\n",
    "    for i in range(int(len(num_list)/4)-1):\n",
    "        t1=num_list[i*4:(i+1)*4]\n",
    "        t2=num_list[(i+1)*4:(i+2)*4]\n",
    "        differences_list += [t2[j]-t1[j] for j in range(len(t1))]\n",
    "       \n",
    "    return num_list + differences_list +total_list\n"
   ]
  },
  {
   "cell_type": "code",
   "execution_count": 2,
   "outputs": [],
   "source": [
    "from sklearn.model_selection import train_test_split\n",
    "from imblearn.under_sampling import RandomUnderSampler\n",
    "from imblearn.over_sampling import SMOTE \n",
    "from sklearn.metrics import recall_score\n",
    "from sklearn.metrics import precision_score\n",
    "from sklearn.metrics import f1_score\n",
    "\n",
    "from sklearn.ensemble import RandomForestClassifier\n",
    "\n",
    "def get_metrics(y_true,y_pre):    \n",
    "    result1=[recall_score(y_true, y_pre),\n",
    "             precision_score(y_true, y_pre),\n",
    "             f1_score(y_true, y_pre)]\n",
    "    \n",
    "    y_flip_true = [0 if i else 1 for i in y_true]\n",
    "    y_flip_pre = [0 if i else 1 for i in y_pre]\n",
    "    \n",
    "    result2=[recall_score(y_flip_true, y_flip_pre),\n",
    "             precision_score(y_flip_true, y_flip_pre),\n",
    "             f1_score(y_flip_true, y_flip_pre)]\n",
    "    \n",
    "    return result1,result2\n",
    "\n",
    "def knn_best_parameter(X_original,Y,random_seed):\n",
    "    x_normal = [NormalLine(row) for row in X_original]\n",
    "    x_diff = [differences(row) for row in X_original]\n",
    "    x_diff_normal = [differences(NormalLine(row)) for row in X_original]\n",
    "    \n",
    "    X_list = [X_original,x_normal,x_diff,x_diff_normal]\n",
    "    \n",
    "    total_result =[]\n",
    "    for X in X_list:\n",
    "        x_random_train, x_test, y_random_train, y_test = train_test_split(X, Y, test_size=0.3, random_state=random_seed)\n",
    "        rus = RandomUnderSampler(random_state=random_seed)\n",
    "        x_under_train, y_under_train = rus.fit_resample(x_random_train, y_random_train)\n",
    "        sm = SMOTE(random_state=random_seed)\n",
    "        x_smote_train, y_smote_train = sm.fit_resample(x_random_train, y_random_train)\n",
    "        \n",
    "        train_list = [(x_random_train,y_random_train),(x_under_train,y_under_train),(x_smote_train, y_smote_train)]\n",
    "        \n",
    "        print(\"train\")\n",
    "        for x_train,y_train in train_list:\n",
    "            dead_result_total =[]\n",
    "            alive_result_total =[]\n",
    "            for criterion in ['gini', 'entropy']:\n",
    "                for n in [10,50,100,200]:\n",
    "                    rf = RandomForestClassifier(n_estimators=n,criterion=criterion)\n",
    "                    rf.fit(x_train,y_train)\n",
    "                    y_pre = rf.predict(x_test)\n",
    "                    dead_result,alive_result = get_metrics(y_test,y_pre)\n",
    "                    dead_result_total +=dead_result\n",
    "                    alive_result_total += alive_result\n",
    "            total_result.append(dead_result_total)\n",
    "            total_result.append(alive_result_total)\n",
    "    \n",
    "    return total_result"
   ],
   "metadata": {
    "collapsed": false,
    "pycharm": {
     "name": "#%%\n",
     "is_executing": false
    }
   }
  },
  {
   "cell_type": "code",
   "execution_count": 6,
   "outputs": [],
   "source": [
    "random_seed = 54321\n",
    "X_address = 'X_m.csv'\n",
    "Y_address = 'Y_m.csv'\n",
    "\n",
    "root = \"./result/rf/\"\n",
    "result_address = 'rf_m_'+str(random_seed)+'.csv'"
   ],
   "metadata": {
    "collapsed": false,
    "pycharm": {
     "name": "#%%\n",
     "is_executing": false
    }
   }
  },
  {
   "cell_type": "code",
   "execution_count": 7,
   "outputs": [
    {
     "name": "stdout",
     "text": [
      "train\n",
      "train\n",
      "train\n",
      "train\n",
      "24\n24\n"
     ],
     "output_type": "stream"
    }
   ],
   "source": [
    "X = read_x(X_address)\n",
    "Y = read_y(Y_address)\n",
    "\n",
    "result = knn_best_parameter(X,Y,random_seed)\n",
    "\n",
    "print(len(result))\n",
    "print(len(result[0]))"
   ],
   "metadata": {
    "collapsed": false,
    "pycharm": {
     "name": "#%%\n",
     "is_executing": false
    }
   }
  },
  {
   "cell_type": "code",
   "execution_count": 8,
   "outputs": [
    {
     "name": "stdout",
     "text": [
      "writing..\nfinish..\n"
     ],
     "output_type": "stream"
    }
   ],
   "source": [
    "with open(root+result_address, 'w',newline='') as f:\n",
    "    print(\"writing..\")\n",
    "    writer = csv.writer(f)\n",
    "    for row in result:\n",
    "        writer.writerow(row)\n",
    "print(\"finish..\")\n",
    "\n"
   ],
   "metadata": {
    "collapsed": false,
    "pycharm": {
     "name": "#%%\n",
     "is_executing": false
    }
   }
  }
 ],
 "metadata": {
  "language_info": {
   "codemirror_mode": {
    "name": "ipython",
    "version": 2
   },
   "file_extension": ".py",
   "mimetype": "text/x-python",
   "name": "python",
   "nbconvert_exporter": "python",
   "pygments_lexer": "ipython2",
   "version": "2.7.6"
  },
  "kernelspec": {
   "name": "python3",
   "language": "python",
   "display_name": "Python 3"
  },
  "pycharm": {
   "stem_cell": {
    "cell_type": "raw",
    "source": [],
    "metadata": {
     "collapsed": false
    }
   }
  }
 },
 "nbformat": 4,
 "nbformat_minor": 0
}