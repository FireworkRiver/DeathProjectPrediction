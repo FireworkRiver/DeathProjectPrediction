{
 "cells": [
  {
   "cell_type": "code",
   "execution_count": 1,
   "metadata": {
    "collapsed": true,
    "pycharm": {
     "is_executing": false
    }
   },
   "outputs": [
    {
     "name": "stdout",
     "text": [
      "data1: 9989\ndata2: 9989\nissues: 9989\n"
     ],
     "output_type": "stream"
    }
   ],
   "source": [
    "import csv\n",
    "\n",
    "reader = csv.reader(open('rep_commit.csv', \"r\"))\n",
    "data1 = [row for row in reader]\n",
    "reader = csv.reader(open('rep_list.csv', \"r\"))\n",
    "data2 = [row for row in reader]\n",
    "\n",
    "reader = csv.reader(open('repo_issues.csv', \"r\"))\n",
    "issues = [row for row in reader]\n",
    "\n",
    "\n",
    "print(\"data1:\",len(data1))\n",
    "print(\"data2:\",len(data2))\n",
    "print(\"issues:\",len(issues))"
   ]
  },
  {
   "cell_type": "code",
   "execution_count": 7,
   "outputs": [
    {
     "name": "stdout",
     "text": [
      "total: 5222\n"
     ],
     "output_type": "stream"
    }
   ],
   "source": [
    "x =[]\n",
    "y = []\n",
    "\n",
    "for i in range(len(data1)):\n",
    "    row1 = data1[i]\n",
    "    row2 = data2[i]\n",
    "    \n",
    "    mark = row1[2]\n",
    "    star_num = int(row2[1])\n",
    "    \n",
    "    if star_num>10000 or star_num<4000:\n",
    "        continue    \n",
    "    \n",
    "    if mark == \"dead\":\n",
    "        y.append('1')\n",
    "        x.append(issues[i])\n",
    "    else:\n",
    "        y.append('0')\n",
    "        x.append(issues[i])\n",
    "\n",
    "print(\"total:\",len(x))\n"
   ],
   "metadata": {
    "collapsed": false,
    "pycharm": {
     "name": "#%%\n",
     "is_executing": false
    }
   }
  },
  {
   "cell_type": "code",
   "execution_count": 9,
   "outputs": [
    {
     "name": "stdout",
     "text": [
      "writing..\nwriting..\n"
     ],
     "output_type": "stream"
    }
   ],
   "source": [
    "with open('X.csv', 'w',newline='') as f:\n",
    "    print(\"writing..\")\n",
    "    writer = csv.writer(f)\n",
    "    for row in x:\n",
    "        writer.writerow(row)\n",
    "\n",
    "with open('Y.csv', 'w',newline='') as f:\n",
    "    print(\"writing..\")\n",
    "    writer = csv.writer(f)\n",
    "    for row in y:\n",
    "        writer.writerow(row)\n"
   ],
   "metadata": {
    "collapsed": false,
    "pycharm": {
     "name": "#%%\n",
     "is_executing": false
    }
   }
  }
 ],
 "metadata": {
  "language_info": {
   "codemirror_mode": {
    "name": "ipython",
    "version": 2
   },
   "file_extension": ".py",
   "mimetype": "text/x-python",
   "name": "python",
   "nbconvert_exporter": "python",
   "pygments_lexer": "ipython2",
   "version": "2.7.6"
  },
  "kernelspec": {
   "name": "python3",
   "language": "python",
   "display_name": "Python 3"
  },
  "pycharm": {
   "stem_cell": {
    "cell_type": "raw",
    "source": [],
    "metadata": {
     "collapsed": false
    }
   }
  }
 },
 "nbformat": 4,
 "nbformat_minor": 0
}