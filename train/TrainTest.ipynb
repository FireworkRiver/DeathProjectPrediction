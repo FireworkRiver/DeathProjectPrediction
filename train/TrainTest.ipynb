{
 "cells": [
  {
   "cell_type": "code",
   "execution_count": 1,
   "metadata": {
    "pycharm": {
     "is_executing": false
    }
   },
   "outputs": [],
   "source": [
    "import csv\n",
    "\n",
    "def intRow(row):\n",
    "    temp = []\n",
    "    for t in row:\n",
    "        temp.append(int(t))\n",
    "    return temp\n",
    "\n",
    "def read_x(address):\n",
    "    reader = csv.reader(open(address))\n",
    "    x= [intRow(row) for row in reader]\n",
    "    return x\n",
    "\n",
    "def read_y(address):\n",
    "    reader = csv.reader(open(address))\n",
    "    list=[intRow(row) for row in reader]\n",
    "    y=sum(list,[])\n",
    "    return y\n",
    "\n",
    "x_balance_test = read_x('x_balance_test.csv')\n",
    "y_balance_test = read_y('y_balance_test.csv')\n",
    "x_balance_train = read_x('x_balance_train.csv')\n",
    "y_balance_train = read_y('y_balance_train.csv')\n",
    "\n",
    "x_balance_2_test = read_x('x_balance2_test.csv')\n",
    "y_balance_2_test = read_y('y_balance2_test.csv')\n",
    "x_balance_2_train = read_x('x_balance2_train.csv')\n",
    "y_balance_2_train = read_y('y_balance2_train.csv')\n",
    "\n",
    "x_random_test = read_x('x_random_test.csv')\n",
    "y_random_test = read_y('y_random_test.csv')\n",
    "x_random_train = read_x('x_random_train.csv')\n",
    "y_random_train = read_y('y_random_train.csv')"
   ]
  },
  {
   "cell_type": "code",
   "execution_count": 2,
   "metadata": {
    "pycharm": {
     "is_executing": false,
     "name": "#%%\n"
    }
   },
   "outputs": [
    {
     "name": "stdout",
     "output_type": "stream",
     "text": [
      "ZeroR balance dead recall 0.00 precision 0.00 f1_score 0.00\n",
      "ZeroR balance alive recall 1.00 precision 0.87 f1_score 0.93\n",
      "ZeroR balance_2 dead recall 0.00 precision 0.00 f1_score 0.00\n",
      "ZeroR balance_2 alive recall 1.00 precision 0.72 f1_score 0.84\n",
      "ZeroR random dead recall 0.00 precision 0.00 f1_score 0.00\n",
      "ZeroR random alive recall 1.00 precision 0.72 f1_score 0.84\n"
     ]
    },
    {
     "name": "stderr",
     "output_type": "stream",
     "text": [
      "D:\\Anaconda\\envs\\NLP\\lib\\site-packages\\sklearn\\metrics\\_classification.py:1318: UndefinedMetricWarning: Precision is ill-defined and being set to 0.0 due to no predicted samples. Use `zero_division` parameter to control this behavior.\n",
      "  _warn_prf(average, modifier, msg_start, len(result))\n",
      "D:\\Anaconda\\envs\\NLP\\lib\\site-packages\\sklearn\\metrics\\_classification.py:1318: UndefinedMetricWarning: Precision is ill-defined and being set to 0.0 due to no predicted samples. Use `zero_division` parameter to control this behavior.\n",
      "  _warn_prf(average, modifier, msg_start, len(result))\n",
      "D:\\Anaconda\\envs\\NLP\\lib\\site-packages\\sklearn\\metrics\\_classification.py:1318: UndefinedMetricWarning: Precision is ill-defined and being set to 0.0 due to no predicted samples. Use `zero_division` parameter to control this behavior.\n",
      "  _warn_prf(average, modifier, msg_start, len(result))\n"
     ]
    }
   ],
   "source": [
    "from sklearn.metrics import accuracy_score\n",
    "from sklearn.metrics import recall_score\n",
    "from sklearn.metrics import precision_score\n",
    "from sklearn.metrics import f1_score\n",
    "\n",
    "def print_metrics(title,y_true,y_pre):\n",
    "    print(title+\" dead\",end = \" \")\n",
    "    print(\"recall %.2f\"%recall_score(y_true, y_pre),end =\" \")\n",
    "    print(\"precision %.2f\"%precision_score(y_true, y_pre),end=\" \")\n",
    "    print(\"f1_score %.2f\"%f1_score(y_true, y_pre))\n",
    "    \n",
    "    y_flip_true = [0 if i else 1 for i in y_true]\n",
    "    y_flip_pre = [0 if i else 1 for i in y_pre]\n",
    "    \n",
    "    print(title+\" alive\",end = \" \")\n",
    "    print(\"recall %.2f\"%recall_score(y_flip_true, y_flip_pre),end =\" \")\n",
    "    print(\"precision %.2f\"%precision_score(y_flip_true, y_flip_pre),end=\" \")\n",
    "    print(\"f1_score %.2f\"%f1_score(y_flip_true, y_flip_pre))\n",
    "\n",
    "y_pre_random_zeroR = [0 for i in range(len(y_random_test))]\n",
    "y_pre_balance_zeroR = [0 for i in range(len(y_balance_test))]\n",
    "y_pre_balance_2_zeroR = [0 for i in range(len(y_balance_2_test))]\n",
    "\n",
    "print_metrics(\"ZeroR balance\",y_balance_test,y_pre_balance_zeroR)\n",
    "print_metrics(\"ZeroR balance_2\",y_balance_2_test,y_pre_balance_2_zeroR)\n",
    "print_metrics(\"ZeroR random\",y_random_test,y_pre_random_zeroR)\n"
   ]
  },
  {
   "cell_type": "code",
   "execution_count": 3,
   "metadata": {
    "pycharm": {
     "is_executing": false,
     "name": "#%%\n"
    }
   },
   "outputs": [
    {
     "name": "stdout",
     "output_type": "stream",
     "text": [
      "Knn balance dead recall 0.64 precision 0.26 f1_score 0.37\n",
      "Knn balance alive recall 0.74 precision 0.93 f1_score 0.82\n",
      "Knn balance_2 dead recall 0.60 precision 0.47 f1_score 0.53\n",
      "Knn balance_2 alive recall 0.74 precision 0.83 f1_score 0.78\n",
      "Knn random dead recall 0.34 precision 0.52 f1_score 0.41\n",
      "Knn random alive recall 0.88 precision 0.78 f1_score 0.83\n"
     ]
    }
   ],
   "source": [
    "from sklearn.neighbors import KNeighborsClassifier\n",
    "\n",
    "knn_random = KNeighborsClassifier()\n",
    "knn_random.fit(x_random_train, y_random_train)\n",
    "y_pre_random_knn = knn_random.predict(x_random_test)\n",
    "\n",
    "knn_balance = KNeighborsClassifier()\n",
    "knn_balance.fit(x_balance_train, y_balance_train)\n",
    "y_pre_balance_knn = knn_balance.predict(x_balance_test)\n",
    "\n",
    "knn_balance_2 = KNeighborsClassifier()\n",
    "knn_balance_2.fit(x_balance_2_train, y_balance_2_train)\n",
    "y_pre_balance_2_knn = knn_balance_2.predict(x_balance_2_test)\n",
    "\n",
    "print_metrics(\"Knn balance\",y_balance_test,y_pre_balance_knn)\n",
    "print_metrics(\"Knn balance_2\",y_balance_2_test,y_pre_balance_2_knn)\n",
    "print_metrics(\"Knn random\",y_random_test,y_pre_random_knn)"
   ]
  },
  {
   "cell_type": "code",
   "execution_count": 4,
   "metadata": {
    "pycharm": {
     "is_executing": false,
     "name": "#%%\n"
    }
   },
   "outputs": [
    {
     "name": "stdout",
     "output_type": "stream",
     "text": [
      "NB balance dead recall 0.96 precision 0.16 f1_score 0.28\n",
      "NB balance alive recall 0.25 precision 0.98 f1_score 0.40\n",
      "NB balance_2 dead recall 0.96 precision 0.33 f1_score 0.50\n",
      "NB balance_2 alive recall 0.27 precision 0.95 f1_score 0.42\n",
      "NB random dead recall 0.97 precision 0.34 f1_score 0.50\n",
      "NB random alive recall 0.27 precision 0.95 f1_score 0.42\n"
     ]
    }
   ],
   "source": [
    "from sklearn.naive_bayes import GaussianNB,MultinomialNB,ComplementNB\n",
    "from sklearn.preprocessing import MinMaxScaler\n",
    "\n",
    "GaussianNB_random = GaussianNB()\n",
    "GaussianNB_random.fit(x_random_train, y_random_train)\n",
    "y_pre_random_GNB = GaussianNB_random.predict(x_random_test)\n",
    "\n",
    "GaussianNB_balance = GaussianNB()\n",
    "GaussianNB_balance.fit(x_balance_train, y_balance_train)\n",
    "y_pre_balance_GNB = GaussianNB_balance.predict(x_balance_test)\n",
    "\n",
    "GaussianNB_balance_2 = GaussianNB()\n",
    "GaussianNB_balance_2.fit(x_balance_2_train, y_balance_2_train)\n",
    "y_pre_balance_2_GNB = GaussianNB_balance_2.predict(x_balance_2_test)\n",
    "\n",
    "\n",
    "print_metrics(\"NB balance\",y_balance_test,y_pre_balance_GNB)\n",
    "print_metrics(\"NB balance_2\",y_balance_2_test,y_pre_balance_2_GNB)\n",
    "print_metrics(\"NB random\",y_random_test,y_pre_random_GNB)\n"
   ]
  },
  {
   "cell_type": "code",
   "execution_count": 5,
   "metadata": {
    "pycharm": {
     "is_executing": false,
     "name": "#%%\n"
    }
   },
   "outputs": [
    {
     "name": "stderr",
     "output_type": "stream",
     "text": [
      "D:\\Anaconda\\envs\\NLP\\lib\\site-packages\\sklearn\\neural_network\\_multilayer_perceptron.py:692: ConvergenceWarning: Stochastic Optimizer: Maximum iterations (300) reached and the optimization hasn't converged yet.\n",
      "  warnings.warn(\n"
     ]
    },
    {
     "name": "stdout",
     "output_type": "stream",
     "text": [
      "MLP balance dead recall 0.64 precision 0.26 f1_score 0.37\n",
      "MLP balance alive recall 0.74 precision 0.93 f1_score 0.82\n",
      "MLP balance_2 dead recall 0.76 precision 0.46 f1_score 0.57\n",
      "MLP balance_2 alive recall 0.65 precision 0.88 f1_score 0.75\n",
      "MLP random dead recall 0.48 precision 0.50 f1_score 0.49\n",
      "MLP random alive recall 0.82 precision 0.80 f1_score 0.81\n"
     ]
    },
    {
     "name": "stderr",
     "output_type": "stream",
     "text": [
      "D:\\Anaconda\\envs\\NLP\\lib\\site-packages\\sklearn\\neural_network\\_multilayer_perceptron.py:692: ConvergenceWarning: Stochastic Optimizer: Maximum iterations (300) reached and the optimization hasn't converged yet.\n",
      "  warnings.warn(\n"
     ]
    }
   ],
   "source": [
    "from sklearn.neural_network import MLPClassifier\n",
    "\n",
    "MLP_balance = MLPClassifier(activation='logistic',max_iter=300)\n",
    "MLP_balance.fit(x_balance_train, y_balance_train)\n",
    "y_pre_balance_MLP = knn_balance.predict(x_balance_test)\n",
    "\n",
    "MLP_balance_2 = MLPClassifier(activation='logistic',max_iter=300)\n",
    "MLP_balance_2.fit(x_balance_2_train, y_balance_2_train)\n",
    "y_pre_balance_2_MLP = MLP_balance_2.predict(x_balance_2_test)\n",
    "\n",
    "MLP_random = MLPClassifier(activation='logistic',max_iter=300)\n",
    "MLP_random.fit(x_random_train, y_random_train)\n",
    "y_pre_random_MLP = MLP_random.predict(x_random_test)\n",
    "\n",
    "print_metrics(\"MLP balance\",y_balance_test,y_pre_balance_MLP)\n",
    "print_metrics(\"MLP balance_2\",y_balance_2_test,y_pre_balance_2_MLP)\n",
    "print_metrics(\"MLP random\",y_random_test,y_pre_random_MLP)"
   ]
  },
  {
   "cell_type": "code",
   "execution_count": 6,
   "metadata": {
    "pycharm": {
     "is_executing": false,
     "name": "#%%\n"
    }
   },
   "outputs": [
    {
     "name": "stdout",
     "output_type": "stream",
     "text": [
      "RandomForeset balance dead recall 0.82 precision 0.27 f1_score 0.41\n",
      "RandomForeset balance alive recall 0.68 precision 0.96 f1_score 0.79\n",
      "RandomForeset balance_2 dead recall 0.82 precision 0.49 f1_score 0.61\n",
      "RandomForeset balance_2 alive recall 0.68 precision 0.91 f1_score 0.78\n",
      "RandomForeset random dead recall 0.40 precision 0.62 f1_score 0.49\n",
      "RandomForeset random alive recall 0.90 precision 0.80 f1_score 0.85\n"
     ]
    }
   ],
   "source": [
    "from sklearn.ensemble import RandomForestClassifier\n",
    "\n",
    "rf_balance = RandomForestClassifier(random_state=0)\n",
    "rf_balance.fit(x_balance_train, y_balance_train)\n",
    "y_pre_balance_rf = rf_balance.predict(x_balance_test)\n",
    "\n",
    "rf_balance_2 = RandomForestClassifier(random_state=0)\n",
    "rf_balance_2.fit(x_balance_2_train, y_balance_2_train)\n",
    "y_pre_balance_2_rf = rf_balance_2.predict(x_balance_2_test)\n",
    "\n",
    "rf_random = RandomForestClassifier(random_state=0)\n",
    "rf_random.fit(x_random_train, y_random_train)\n",
    "y_pre_random_rf = rf_random.predict(x_random_test)\n",
    "\n",
    "print_metrics(\"RandomForeset balance\",y_balance_test,y_pre_balance_rf)\n",
    "print_metrics(\"RandomForeset balance_2\",y_balance_2_test,y_pre_balance_2_rf)\n",
    "print_metrics(\"RandomForeset random\",y_random_test,y_pre_random_rf)\n"
   ]
  },
  {
   "cell_type": "code",
   "execution_count": 7,
   "metadata": {
    "pycharm": {
     "is_executing": false,
     "name": "#%%\n"
    }
   },
   "outputs": [],
   "source": [
    "import tensorflow as tf\n",
    "from tensorflow import keras\n",
    "from tensorflow.keras import layers\n",
    "import matplotlib.pyplot as plt\n",
    "import matplotlib.cm as cm\n",
    "import numpy as np\n",
    "\n",
    "\n",
    "input_length = len(x_balance_test[0])\n",
    "callback = tf.keras.callbacks.EarlyStopping(monitor='val_loss', patience=3)\n"
   ]
  },
  {
   "cell_type": "code",
   "execution_count": 8,
   "metadata": {},
   "outputs": [
    {
     "name": "stdout",
     "output_type": "stream",
     "text": [
      "Epoch 1/20\n",
      "100/100 [==============================] - 8s 27ms/step - loss: 0.5924 - accuracy: 0.6941 - recall: 0.7244 - val_loss: 0.5976 - val_accuracy: 0.6837 - val_recall: 0.7076\n",
      "Epoch 2/20\n",
      "100/100 [==============================] - 1s 15ms/step - loss: 0.5825 - accuracy: 0.7072 - recall: 0.7640 - val_loss: 0.5812 - val_accuracy: 0.7100 - val_recall: 0.7469\n",
      "Epoch 3/20\n",
      "100/100 [==============================] - 1s 14ms/step - loss: 0.5676 - accuracy: 0.7106 - recall: 0.7784 - val_loss: 0.5761 - val_accuracy: 0.7113 - val_recall: 0.8010\n",
      "Epoch 4/20\n",
      "100/100 [==============================] - 1s 15ms/step - loss: 0.5658 - accuracy: 0.7178 - recall: 0.7834 - val_loss: 0.5746 - val_accuracy: 0.7125 - val_recall: 0.7789\n",
      "Epoch 5/20\n",
      "100/100 [==============================] - 2s 15ms/step - loss: 0.5610 - accuracy: 0.7144 - recall: 0.7740 - val_loss: 0.5697 - val_accuracy: 0.7125 - val_recall: 0.8280\n",
      "Epoch 6/20\n",
      "100/100 [==============================] - 1s 15ms/step - loss: 0.5587 - accuracy: 0.7178 - recall: 0.7972 - val_loss: 0.5692 - val_accuracy: 0.7063 - val_recall: 0.8231\n",
      "Epoch 7/20\n",
      "100/100 [==============================] - 1s 15ms/step - loss: 0.5560 - accuracy: 0.7156 - recall: 0.7884 - val_loss: 0.5640 - val_accuracy: 0.7212 - val_recall: 0.7715\n",
      "Epoch 8/20\n",
      "100/100 [==============================] - 1s 15ms/step - loss: 0.5528 - accuracy: 0.7206 - recall: 0.7872 - val_loss: 0.5647 - val_accuracy: 0.7075 - val_recall: 0.8452\n",
      "Epoch 9/20\n",
      "100/100 [==============================] - 1s 15ms/step - loss: 0.5567 - accuracy: 0.7178 - recall: 0.7853 - val_loss: 0.5581 - val_accuracy: 0.7237 - val_recall: 0.7838\n",
      "Epoch 10/20\n",
      "100/100 [==============================] - 1s 14ms/step - loss: 0.5510 - accuracy: 0.7281 - recall: 0.8029 - val_loss: 0.5578 - val_accuracy: 0.7225 - val_recall: 0.7887\n",
      "Epoch 11/20\n",
      "100/100 [==============================] - 1s 15ms/step - loss: 0.5504 - accuracy: 0.7181 - recall: 0.7859 - val_loss: 0.5629 - val_accuracy: 0.7325 - val_recall: 0.7740\n",
      "Epoch 12/20\n",
      "100/100 [==============================] - 1s 15ms/step - loss: 0.5495 - accuracy: 0.7234 - recall: 0.7954 - val_loss: 0.5684 - val_accuracy: 0.7212 - val_recall: 0.6978\n",
      "Epoch 13/20\n",
      "100/100 [==============================] - 1s 15ms/step - loss: 0.5477 - accuracy: 0.7197 - recall: 0.7891 - val_loss: 0.5640 - val_accuracy: 0.7337 - val_recall: 0.7764\n"
     ]
    },
    {
     "data": {
      "image/png": "[encoded data removed]",
      "text/plain": [
       "<Figure size 432x288 with 1 Axes>"
      ]
     },
     "metadata": {
      "needs_background": "light"
     },
     "output_type": "display_data"
    },
    {
     "name": "stdout",
     "output_type": "stream",
     "text": [
      "188/188 [==============================] - 2s 7ms/step\n",
      "lstm balance dead recall 0.78 precision 0.26 f1_score 0.39\n",
      "lstm balance alive recall 0.66 precision 0.95 f1_score 0.78\n"
     ]
    }
   ],
   "source": [
    "lstm = keras.Sequential()\n",
    "lstm.add(layers.LSTM(units=100, activation='tanh', return_sequences=True, input_shape=(input_length, 1)))\n",
    "lstm.add(layers.Dropout(0.5))\n",
    "lstm.add(layers.LSTM(units=50, activation='tanh', return_sequences=False))\n",
    "lstm.add(layers.Dropout(0.5))\n",
    "lstm.add(layers.Dense(1, activation='sigmoid'))\n",
    "\n",
    "lstm.compile(optimizer='adam',\n",
    "            loss='binary_crossentropy',\n",
    "            metrics=['accuracy',tf.keras.metrics.Recall()])\n",
    "\n",
    "history_lstm = lstm.fit(np.array(x_balance_train), np.array(y_balance_train),validation_split=0.2,callbacks=[callback],epochs=20)\n",
    "plt.plot(history_lstm.history['accuracy'], label='Train')\n",
    "plt.plot(history_lstm.history['val_accuracy'], label='Validation')\n",
    "plt.ylabel('Accuracy')\n",
    "plt.xlabel('Epoch')\n",
    "plt.title('Training and validating accuracy')\n",
    "plt.legend()\n",
    "plt.show()\n",
    "\n",
    "y_pre_balance_lstm = (lstm.predict(x_balance_test) > 0.5).astype(\"int32\").flatten()\n",
    "print_metrics(\"lstm balance\",y_balance_test,y_pre_balance_lstm.tolist())"
   ]
  },
  {
   "cell_type": "code",
   "execution_count": 9,
   "metadata": {
    "pycharm": {
     "name": "#%%\n"
    }
   },
   "outputs": [
    {
     "name": "stdout",
     "output_type": "stream",
     "text": [
      "Epoch 1/20\n",
      "98/98 [==============================] - 5s 27ms/step - loss: 0.6099 - accuracy: 0.6779 - recall_1: 0.7263 - val_loss: 0.5922 - val_accuracy: 0.7132 - val_recall_1: 0.6948\n",
      "Epoch 2/20\n",
      "98/98 [==============================] - 2s 15ms/step - loss: 0.5796 - accuracy: 0.7000 - recall_1: 0.7611 - val_loss: 0.5834 - val_accuracy: 0.6953 - val_recall_1: 0.7667\n",
      "Epoch 3/20\n",
      "98/98 [==============================] - 2s 15ms/step - loss: 0.5775 - accuracy: 0.7025 - recall_1: 0.7760 - val_loss: 0.5747 - val_accuracy: 0.6901 - val_recall_1: 0.8065\n",
      "Epoch 4/20\n",
      "98/98 [==============================] - 2s 15ms/step - loss: 0.5750 - accuracy: 0.7125 - recall_1: 0.8050 - val_loss: 0.5737 - val_accuracy: 0.6940 - val_recall_1: 0.7965\n",
      "Epoch 5/20\n",
      "98/98 [==============================] - 2s 16ms/step - loss: 0.5708 - accuracy: 0.7179 - recall_1: 0.8096 - val_loss: 0.5826 - val_accuracy: 0.7017 - val_recall_1: 0.7370\n",
      "Epoch 6/20\n",
      "98/98 [==============================] - 2s 15ms/step - loss: 0.5668 - accuracy: 0.7153 - recall_1: 0.8057 - val_loss: 0.5738 - val_accuracy: 0.7017 - val_recall_1: 0.7395\n",
      "Epoch 7/20\n",
      "98/98 [==============================] - 2s 15ms/step - loss: 0.5585 - accuracy: 0.7211 - recall_1: 0.8005 - val_loss: 0.5714 - val_accuracy: 0.7055 - val_recall_1: 0.7444\n",
      "Epoch 8/20\n",
      "98/98 [==============================] - 2s 15ms/step - loss: 0.5638 - accuracy: 0.7163 - recall_1: 0.7973 - val_loss: 0.5657 - val_accuracy: 0.7004 - val_recall_1: 0.7618\n",
      "Epoch 9/20\n",
      "98/98 [==============================] - 1s 15ms/step - loss: 0.5613 - accuracy: 0.7169 - recall_1: 0.7902 - val_loss: 0.5685 - val_accuracy: 0.7004 - val_recall_1: 0.7742\n",
      "Epoch 10/20\n",
      "98/98 [==============================] - 2s 15ms/step - loss: 0.5622 - accuracy: 0.7211 - recall_1: 0.8057 - val_loss: 0.5791 - val_accuracy: 0.6965 - val_recall_1: 0.7792\n",
      "Epoch 11/20\n",
      "98/98 [==============================] - 2s 15ms/step - loss: 0.5599 - accuracy: 0.7233 - recall_1: 0.7889 - val_loss: 0.5668 - val_accuracy: 0.6953 - val_recall_1: 0.8089\n"
     ]
    },
    {
     "data": {
      "image/png": "[encoded data removed]",
      "text/plain": [
       "<Figure size 432x288 with 1 Axes>"
      ]
     },
     "metadata": {
      "needs_background": "light"
     },
     "output_type": "display_data"
    },
    {
     "name": "stdout",
     "output_type": "stream",
     "text": [
      "94/94 [==============================] - 1s 8ms/step\n",
      "lstm balance_2 dead recall 0.82 precision 0.45 f1_score 0.58\n",
      "lstm balance_2 alive recall 0.62 precision 0.90 f1_score 0.73\n"
     ]
    }
   ],
   "source": [
    "lstm3 = keras.Sequential()\n",
    "lstm3.add(layers.LSTM(units=100, activation='tanh', return_sequences=True, input_shape=(input_length, 1)))\n",
    "lstm3.add(layers.Dropout(0.5))\n",
    "lstm3.add(layers.LSTM(units=50, activation='tanh', return_sequences=False))\n",
    "lstm3.add(layers.Dropout(0.5))\n",
    "lstm3.add(layers.Dense(1, activation='sigmoid'))\n",
    "\n",
    "lstm3.compile(optimizer='adam',\n",
    "            loss='binary_crossentropy',\n",
    "            metrics=['accuracy',tf.keras.metrics.Recall()])\n",
    "\n",
    "history_lstm3 = lstm3.fit(np.array(x_balance_2_train), np.array(y_balance_2_train),validation_split=0.2,callbacks=[callback],epochs=20)\n",
    "plt.plot(history_lstm.history['accuracy'], label='Train')\n",
    "plt.plot(history_lstm.history['val_accuracy'], label='Validation')\n",
    "plt.ylabel('Accuracy')\n",
    "plt.xlabel('Epoch')\n",
    "plt.title('Training and validating accuracy')\n",
    "plt.legend()\n",
    "plt.show()\n",
    "\n",
    "y_pre_balance_2_lstm = (lstm3.predict(x_balance_2_test) > 0.5).astype(\"int32\").flatten()\n",
    "print_metrics(\"lstm balance_2\",y_balance_2_test,y_pre_balance_2_lstm.tolist())"
   ]
  },
  {
   "cell_type": "code",
   "execution_count": 10,
   "metadata": {
    "pycharm": {
     "is_executing": true,
     "name": "#%%\n"
    }
   },
   "outputs": [
    {
     "name": "stdout",
     "output_type": "stream",
     "text": [
      "Epoch 1/20\n",
      "175/175 [==============================] - 6s 23ms/step - loss: 0.5095 - accuracy: 0.7304 - recall_2: 0.2827 - val_loss: 0.4907 - val_accuracy: 0.7407 - val_recall_2: 0.2423\n",
      "Epoch 2/20\n",
      "175/175 [==============================] - 3s 15ms/step - loss: 0.4966 - accuracy: 0.7446 - recall_2: 0.3577 - val_loss: 0.4880 - val_accuracy: 0.7400 - val_recall_2: 0.3325\n",
      "Epoch 3/20\n",
      "175/175 [==============================] - 3s 15ms/step - loss: 0.4906 - accuracy: 0.7423 - recall_2: 0.3929 - val_loss: 0.4839 - val_accuracy: 0.7400 - val_recall_2: 0.1753\n",
      "Epoch 4/20\n",
      "175/175 [==============================] - 3s 15ms/step - loss: 0.4890 - accuracy: 0.7402 - recall_2: 0.3519 - val_loss: 0.4822 - val_accuracy: 0.7457 - val_recall_2: 0.4407\n",
      "Epoch 5/20\n",
      "175/175 [==============================] - 3s 15ms/step - loss: 0.4852 - accuracy: 0.7514 - recall_2: 0.4212 - val_loss: 0.4795 - val_accuracy: 0.7471 - val_recall_2: 0.3840\n",
      "Epoch 6/20\n",
      "175/175 [==============================] - 3s 15ms/step - loss: 0.4840 - accuracy: 0.7513 - recall_2: 0.4179 - val_loss: 0.4796 - val_accuracy: 0.7500 - val_recall_2: 0.5052\n",
      "Epoch 7/20\n",
      "175/175 [==============================] - 3s 15ms/step - loss: 0.4812 - accuracy: 0.7564 - recall_2: 0.4263 - val_loss: 0.4777 - val_accuracy: 0.7514 - val_recall_2: 0.4665\n",
      "Epoch 8/20\n",
      "175/175 [==============================] - 3s 15ms/step - loss: 0.4799 - accuracy: 0.7563 - recall_2: 0.4301 - val_loss: 0.4780 - val_accuracy: 0.7607 - val_recall_2: 0.3505\n",
      "Epoch 9/20\n",
      "175/175 [==============================] - 3s 15ms/step - loss: 0.4769 - accuracy: 0.7527 - recall_2: 0.4071 - val_loss: 0.4746 - val_accuracy: 0.7643 - val_recall_2: 0.4175\n",
      "Epoch 10/20\n",
      "175/175 [==============================] - 3s 15ms/step - loss: 0.4761 - accuracy: 0.7516 - recall_2: 0.4135 - val_loss: 0.4775 - val_accuracy: 0.7536 - val_recall_2: 0.5052\n",
      "Epoch 11/20\n",
      "175/175 [==============================] - 3s 15ms/step - loss: 0.4743 - accuracy: 0.7559 - recall_2: 0.4308 - val_loss: 0.4766 - val_accuracy: 0.7579 - val_recall_2: 0.3557\n",
      "Epoch 12/20\n",
      "175/175 [==============================] - 3s 15ms/step - loss: 0.4736 - accuracy: 0.7589 - recall_2: 0.4122 - val_loss: 0.4749 - val_accuracy: 0.7607 - val_recall_2: 0.3505\n"
     ]
    },
    {
     "data": {
      "image/png": "[encoded data removed]",
      "text/plain": [
       "<Figure size 432x288 with 1 Axes>"
      ]
     },
     "metadata": {
      "needs_background": "light"
     },
     "output_type": "display_data"
    },
    {
     "name": "stdout",
     "output_type": "stream",
     "text": [
      "94/94 [==============================] - 2s 8ms/step\n",
      "lstm random dead recall 0.35 precision 0.61 f1_score 0.44\n",
      "lstm random alive recall 0.91 precision 0.79 f1_score 0.84\n"
     ]
    }
   ],
   "source": [
    "lstm2 = keras.Sequential()\n",
    "lstm2.add(layers.LSTM(units=100, activation='tanh', return_sequences=True, input_shape=(input_length, 1)))\n",
    "lstm2.add(layers.Dropout(0.2))\n",
    "lstm2.add(layers.LSTM(units=50, activation='tanh', return_sequences=False))\n",
    "lstm2.add(layers.Dropout(0.2))\n",
    "lstm2.add(layers.Dense(1, activation='sigmoid'))\n",
    "\n",
    "\n",
    "lstm2.compile(optimizer='adam',\n",
    "            loss='binary_crossentropy',\n",
    "            metrics=['accuracy',tf.keras.metrics.Recall()])\n",
    "\n",
    "history_lstm2 = lstm2.fit(np.array(x_random_train), np.array(y_random_train),validation_split=0.2,callbacks=[callback], epochs=20)\n",
    "plt.plot(history_lstm2.history['accuracy'], label='train')\n",
    "plt.plot(history_lstm2.history['val_accuracy'], label='Validation')\n",
    "plt.ylabel('Accuracy')\n",
    "plt.xlabel('Epoch')\n",
    "plt.title('Training and validating accuracy')\n",
    "plt.legend()\n",
    "plt.show()\n",
    "\n",
    "y_pre_random_lstm = (lstm2.predict(x_random_test) > 0.5).astype(\"int32\").flatten()\n",
    "print_metrics(\"lstm random\",y_random_test,y_pre_random_lstm.tolist())"
   ]
  },
  {
   "cell_type": "code",
   "execution_count": 16,
   "metadata": {
    "pycharm": {
     "is_executing": true,
     "name": "#%%\n"
    }
   },
   "outputs": [
    {
     "name": "stderr",
     "output_type": "stream",
     "text": [
      "D:\\Anaconda\\envs\\NLP\\lib\\site-packages\\sklearn\\metrics\\_classification.py:1318: UndefinedMetricWarning: Precision is ill-defined and being set to 0.0 due to no predicted samples. Use `zero_division` parameter to control this behavior.\n",
      "  _warn_prf(average, modifier, msg_start, len(result))\n",
      "D:\\Anaconda\\envs\\NLP\\lib\\site-packages\\sklearn\\metrics\\_classification.py:1318: UndefinedMetricWarning: Precision is ill-defined and being set to 0.0 due to no predicted samples. Use `zero_division` parameter to control this behavior.\n",
      "  _warn_prf(average, modifier, msg_start, len(result))\n",
      "D:\\Anaconda\\envs\\NLP\\lib\\site-packages\\sklearn\\metrics\\_classification.py:1318: UndefinedMetricWarning: Precision is ill-defined and being set to 0.0 due to no predicted samples. Use `zero_division` parameter to control this behavior.\n",
      "  _warn_prf(average, modifier, msg_start, len(result))\n"
     ]
    },
    {
     "name": "stdout",
     "output_type": "stream",
     "text": [
      "writing..\n",
      "finish..\n"
     ]
    }
   ],
   "source": [
    "balance_pre_list = [y_pre_balance_zeroR,\n",
    "                    y_pre_balance_knn,\n",
    "                    y_pre_balance_GNB,\n",
    "                    y_pre_balance_MLP,\n",
    "                    y_pre_balance_rf,\n",
    "                    y_pre_balance_lstm.tolist()\n",
    "                    ]\n",
    "\n",
    "balance_2_pre_list = [y_pre_balance_2_zeroR,\n",
    "                      y_pre_balance_2_knn,\n",
    "                      y_pre_balance_2_GNB,\n",
    "                      y_pre_balance_2_MLP,\n",
    "                      y_pre_balance_2_rf,\n",
    "                      y_pre_balance_2_lstm.tolist()\n",
    "                      ]\n",
    "\n",
    "random_pre_list = [y_pre_random_zeroR,\n",
    "                   y_pre_random_knn,\n",
    "                   y_pre_random_GNB,\n",
    "                   y_pre_random_MLP,\n",
    "                   y_pre_random_rf,\n",
    "                   y_pre_random_lstm.tolist()\n",
    "                   ]\n",
    "\n",
    "test_list = [y_balance_test,y_balance_2_test,y_random_test]\n",
    "pre_list =[balance_pre_list, balance_2_pre_list,random_pre_list]\n",
    "\n",
    "def get_metrics(y_true,y_pre):    \n",
    "    result1=[recall_score(y_true, y_pre),\n",
    "             precision_score(y_true, y_pre),\n",
    "             f1_score(y_true, y_pre)]\n",
    "    \n",
    "    y_flip_true = [0 if i else 1 for i in y_true]\n",
    "    y_flip_pre = [0 if i else 1 for i in y_pre]\n",
    "    \n",
    "    result2=[recall_score(y_flip_true, y_flip_pre),\n",
    "             precision_score(y_flip_true, y_flip_pre),\n",
    "             f1_score(y_flip_true, y_flip_pre)]\n",
    "    \n",
    "    return result1,result2\n",
    "\n",
    "result= []\n",
    "for i in range(len(test_list)):\n",
    "    test_y = test_list[i]\n",
    "    pre_y_list = pre_list[i]\n",
    "    result_list1=[]\n",
    "    result_list2=[]\n",
    "    for pre_y in pre_y_list:\n",
    "        result1,result2 = get_metrics(test_y,pre_y)\n",
    "        result_list1+=result1\n",
    "        result_list2+=result2\n",
    "    result.append(result_list1)\n",
    "    result.append(result_list2)\n",
    "\n",
    "with open('./result/original_result.csv', 'w',newline='') as f:\n",
    "    print(\"writing..\")\n",
    "    writer = csv.writer(f)\n",
    "    for row in result:\n",
    "        writer.writerow(row)\n",
    "print(\"finish..\")"
   ]
  },
  {
   "cell_type": "code",
   "execution_count": null,
   "metadata": {},
   "outputs": [],
   "source": []
  }
 ],
 "metadata": {
  "kernelspec": {
   "display_name": "Python 3 (ipykernel)",
   "language": "python",
   "name": "python3"
  },
  "language_info": {
   "codemirror_mode": {
    "name": "ipython",
    "version": 3
   },
   "file_extension": ".py",
   "mimetype": "text/x-python",
   "name": "python",
   "nbconvert_exporter": "python",
   "pygments_lexer": "ipython3",
   "version": "3.8.12"
  },
  "pycharm": {
   "stem_cell": {
    "cell_type": "raw",
    "source": [],
    "metadata": {
     "collapsed": false
    }
   }
  }
 },
 "nbformat": 4,
 "nbformat_minor": 1
}