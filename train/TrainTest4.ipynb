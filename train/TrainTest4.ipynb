{
 "cells": [
  {
   "cell_type": "code",
   "execution_count": 1,
   "metadata": {
    "pycharm": {
     "is_executing": false,
     "name": "#%%\n"
    }
   },
   "outputs": [],
   "source": [
    "import csv\n",
    "\n",
    "def intRow(row):\n",
    "    temp = []\n",
    "    for t in row:\n",
    "        temp.append(int(t))\n",
    "    return temp\n",
    "\n",
    "def read_x(address):\n",
    "    reader = csv.reader(open(address))\n",
    "    x= [intRow(row) for row in reader]\n",
    "    return x\n",
    "\n",
    "def read_y(address):\n",
    "    reader = csv.reader(open(address))\n",
    "    list=[intRow(row) for row in reader]\n",
    "    y=sum(list,[])\n",
    "    return y\n",
    "\n",
    "x_balance_test_0 = read_x('x_balance_test.csv')\n",
    "y_balance_test = read_y('y_balance_test.csv')\n",
    "x_balance_train_0 = read_x('x_balance_train.csv')\n",
    "y_balance_train = read_y('y_balance_train.csv')\n",
    "\n",
    "x_balance_2_test_0 = read_x('x_balance2_test.csv')\n",
    "y_balance_2_test = read_y('y_balance2_test.csv')\n",
    "x_balance_2_train_0 = read_x('x_balance2_train.csv')\n",
    "y_balance_2_train = read_y('y_balance2_train.csv')\n",
    "\n",
    "x_random_test_0 = read_x('x_random_test.csv')\n",
    "y_random_test = read_y('y_random_test.csv')\n",
    "x_random_train_0 = read_x('x_random_train.csv')\n",
    "y_random_train = read_y('y_random_train.csv')\n"
   ]
  },
  {
   "cell_type": "code",
   "execution_count": 2,
   "metadata": {
    "pycharm": {
     "is_executing": false,
     "name": "#%%\n"
    }
   },
   "outputs": [],
   "source": [
    "def NormalLine(row):\n",
    "    total = sum(row[-4:])\n",
    "    if total == 0:\n",
    "        total = 1\n",
    "    return [i/total for i in row]\n",
    "\n",
    "def differences(row):\n",
    "    total_list = row[-4:]\n",
    "    num_list = row[:-4]\n",
    "    differences_list = []\n",
    "    for i in range(int(len(num_list)/4)-1):\n",
    "        t1=num_list[i*4:(i+1)*4]\n",
    "        t2=num_list[(i+1)*4:(i+2)*4]\n",
    "        differences_list += [t2[j]-t1[j] for j in range(len(t1))]\n",
    "       \n",
    "    return num_list + differences_list +total_list\n",
    "\n",
    "x_balance_test = [differences(NormalLine(row)) for row in x_balance_test_0]\n",
    "x_balance_train = [differences(NormalLine(row)) for row in x_balance_train_0]\n",
    "\n",
    "x_balance_2_test = [differences(NormalLine(row)) for row in x_balance_2_test_0]\n",
    "x_balance_2_train = [differences(NormalLine(row)) for row in x_balance_2_train_0]\n",
    "\n",
    "x_random_test =  [differences(NormalLine(row)) for row in x_random_test_0]\n",
    "x_random_train =  [differences(NormalLine(row)) for row in x_random_train_0]\n"
   ]
  },
  {
   "cell_type": "code",
   "execution_count": 3,
   "metadata": {
    "pycharm": {
     "name": "#%%\n"
    }
   },
   "outputs": [
    {
     "name": "stdout",
     "output_type": "stream",
     "text": [
      "ZeroR balance dead recall 0.00 precision 0.00 f1_score 0.00\n",
      "ZeroR balance alive recall 1.00 precision 0.87 f1_score 0.93\n",
      "ZeroR balance_2 dead recall 0.00 precision 0.00 f1_score 0.00\n",
      "ZeroR balance_2 alive recall 1.00 precision 0.72 f1_score 0.84\n",
      "ZeroR random dead recall 0.00 precision 0.00 f1_score 0.00\n",
      "ZeroR random alive recall 1.00 precision 0.72 f1_score 0.84\n"
     ]
    },
    {
     "name": "stderr",
     "output_type": "stream",
     "text": [
      "D:\\Anaconda\\envs\\NLP\\lib\\site-packages\\sklearn\\metrics\\_classification.py:1318: UndefinedMetricWarning: Precision is ill-defined and being set to 0.0 due to no predicted samples. Use `zero_division` parameter to control this behavior.\n",
      "  _warn_prf(average, modifier, msg_start, len(result))\n",
      "D:\\Anaconda\\envs\\NLP\\lib\\site-packages\\sklearn\\metrics\\_classification.py:1318: UndefinedMetricWarning: Precision is ill-defined and being set to 0.0 due to no predicted samples. Use `zero_division` parameter to control this behavior.\n",
      "  _warn_prf(average, modifier, msg_start, len(result))\n",
      "D:\\Anaconda\\envs\\NLP\\lib\\site-packages\\sklearn\\metrics\\_classification.py:1318: UndefinedMetricWarning: Precision is ill-defined and being set to 0.0 due to no predicted samples. Use `zero_division` parameter to control this behavior.\n",
      "  _warn_prf(average, modifier, msg_start, len(result))\n"
     ]
    }
   ],
   "source": [
    "from sklearn.metrics import accuracy_score\n",
    "from sklearn.metrics import recall_score\n",
    "from sklearn.metrics import precision_score\n",
    "from sklearn.metrics import f1_score\n",
    "\n",
    "def print_metrics(title,y_true,y_pre):\n",
    "    print(title+\" dead\",end = \" \")\n",
    "    print(\"recall %.2f\"%recall_score(y_true, y_pre),end =\" \")\n",
    "    print(\"precision %.2f\"%precision_score(y_true, y_pre),end=\" \")\n",
    "    print(\"f1_score %.2f\"%f1_score(y_true, y_pre))\n",
    "    \n",
    "    y_flip_true = [0 if i else 1 for i in y_true]\n",
    "    y_flip_pre = [0 if i else 1 for i in y_pre]\n",
    "    \n",
    "    print(title+\" alive\",end = \" \")\n",
    "    print(\"recall %.2f\"%recall_score(y_flip_true, y_flip_pre),end =\" \")\n",
    "    print(\"precision %.2f\"%precision_score(y_flip_true, y_flip_pre),end=\" \")\n",
    "    print(\"f1_score %.2f\"%f1_score(y_flip_true, y_flip_pre))\n",
    "\n",
    "y_pre_random_zeroR = [0 for i in range(len(y_random_test))]\n",
    "y_pre_balance_zeroR = [0 for i in range(len(y_balance_test))]\n",
    "y_pre_balance_2_zeroR = [0 for i in range(len(y_balance_2_test))]\n",
    "\n",
    "print_metrics(\"ZeroR balance\",y_balance_test,y_pre_balance_zeroR)\n",
    "print_metrics(\"ZeroR balance_2\",y_balance_2_test,y_pre_balance_2_zeroR)\n",
    "print_metrics(\"ZeroR random\",y_random_test,y_pre_random_zeroR)\n"
   ]
  },
  {
   "cell_type": "code",
   "execution_count": 4,
   "metadata": {
    "pycharm": {
     "name": "#%%\n"
    }
   },
   "outputs": [
    {
     "name": "stdout",
     "output_type": "stream",
     "text": [
      "Knn balance dead recall 0.44 precision 0.28 f1_score 0.34\n",
      "Knn balance alive recall 0.83 precision 0.91 f1_score 0.87\n",
      "Knn balance_2 dead recall 0.40 precision 0.51 f1_score 0.45\n",
      "Knn balance_2 alive recall 0.85 precision 0.79 f1_score 0.82\n",
      "Knn random dead recall 0.23 precision 0.59 f1_score 0.33\n",
      "Knn random alive recall 0.94 precision 0.76 f1_score 0.84\n"
     ]
    }
   ],
   "source": [
    "from sklearn.neighbors import KNeighborsClassifier\n",
    "\n",
    "knn_random = KNeighborsClassifier()\n",
    "knn_random.fit(x_random_train, y_random_train)\n",
    "y_pre_random_knn = knn_random.predict(x_random_test)\n",
    "\n",
    "knn_balance = KNeighborsClassifier()\n",
    "knn_balance.fit(x_balance_train, y_balance_train)\n",
    "y_pre_balance_knn = knn_balance.predict(x_balance_test)\n",
    "\n",
    "knn_balance_2 = KNeighborsClassifier()\n",
    "knn_balance_2.fit(x_balance_2_train, y_balance_2_train)\n",
    "y_pre_balance_2_knn = knn_balance_2.predict(x_balance_2_test)\n",
    "\n",
    "print_metrics(\"Knn balance\",y_balance_test,y_pre_balance_knn)\n",
    "print_metrics(\"Knn balance_2\",y_balance_2_test,y_pre_balance_2_knn)\n",
    "print_metrics(\"Knn random\",y_random_test,y_pre_random_knn)"
   ]
  },
  {
   "cell_type": "code",
   "execution_count": 5,
   "metadata": {
    "pycharm": {
     "name": "#%%\n"
    }
   },
   "outputs": [
    {
     "name": "stdout",
     "output_type": "stream",
     "text": [
      "NB balance dead recall 0.44 precision 0.27 f1_score 0.34\n",
      "NB balance alive recall 0.82 precision 0.91 f1_score 0.86\n",
      "NB balance_2 dead recall 0.44 precision 0.48 f1_score 0.46\n",
      "NB balance_2 alive recall 0.82 precision 0.79 f1_score 0.81\n",
      "NB random dead recall 0.44 precision 0.51 f1_score 0.47\n",
      "NB random alive recall 0.84 precision 0.80 f1_score 0.82\n"
     ]
    }
   ],
   "source": [
    "from sklearn.naive_bayes import GaussianNB,MultinomialNB,ComplementNB\n",
    "from sklearn.preprocessing import MinMaxScaler\n",
    "\n",
    "GaussianNB_random = GaussianNB()\n",
    "GaussianNB_random.fit(x_random_train, y_random_train)\n",
    "y_pre_random_GNB = GaussianNB_random.predict(x_random_test)\n",
    "\n",
    "GaussianNB_balance = GaussianNB()\n",
    "GaussianNB_balance.fit(x_balance_train, y_balance_train)\n",
    "y_pre_balance_GNB = GaussianNB_balance.predict(x_balance_test)\n",
    "\n",
    "GaussianNB_balance_2 = GaussianNB()\n",
    "GaussianNB_balance_2.fit(x_balance_2_train, y_balance_2_train)\n",
    "y_pre_balance_2_GNB = GaussianNB_balance_2.predict(x_balance_2_test)\n",
    "\n",
    "\n",
    "print_metrics(\"NB balance\",y_balance_test,y_pre_balance_GNB)\n",
    "print_metrics(\"NB balance_2\",y_balance_2_test,y_pre_balance_2_GNB)\n",
    "print_metrics(\"NB random\",y_random_test,y_pre_random_GNB)\n"
   ]
  },
  {
   "cell_type": "code",
   "execution_count": 6,
   "metadata": {
    "pycharm": {
     "name": "#%%\n"
    }
   },
   "outputs": [
    {
     "name": "stdout",
     "output_type": "stream",
     "text": [
      "MLP balance dead recall 0.44 precision 0.28 f1_score 0.34\n",
      "MLP balance alive recall 0.83 precision 0.91 f1_score 0.87\n",
      "MLP balance_2 dead recall 0.64 precision 0.44 f1_score 0.52\n",
      "MLP balance_2 alive recall 0.69 precision 0.84 f1_score 0.76\n",
      "MLP random dead recall 0.19 precision 0.61 f1_score 0.29\n",
      "MLP random alive recall 0.95 precision 0.75 f1_score 0.84\n"
     ]
    }
   ],
   "source": [
    "from sklearn.neural_network import MLPClassifier\n",
    "\n",
    "MLP_balance = MLPClassifier(activation='logistic',max_iter=300)\n",
    "MLP_balance.fit(x_balance_train, y_balance_train)\n",
    "y_pre_balance_MLP = knn_balance.predict(x_balance_test)\n",
    "\n",
    "MLP_balance_2 = MLPClassifier(activation='logistic',max_iter=300)\n",
    "MLP_balance_2.fit(x_balance_2_train, y_balance_2_train)\n",
    "y_pre_balance_2_MLP = MLP_balance_2.predict(x_balance_2_test)\n",
    "\n",
    "MLP_random = MLPClassifier(activation='logistic',max_iter=300)\n",
    "MLP_random.fit(x_random_train, y_random_train)\n",
    "y_pre_random_MLP = MLP_random.predict(x_random_test)\n",
    "\n",
    "print_metrics(\"MLP balance\",y_balance_test,y_pre_balance_MLP)\n",
    "print_metrics(\"MLP balance_2\",y_balance_2_test,y_pre_balance_2_MLP)\n",
    "print_metrics(\"MLP random\",y_random_test,y_pre_random_MLP)"
   ]
  },
  {
   "cell_type": "code",
   "execution_count": 7,
   "metadata": {
    "pycharm": {
     "name": "#%%\n"
    }
   },
   "outputs": [
    {
     "name": "stdout",
     "output_type": "stream",
     "text": [
      "RandomForeset balance dead recall 0.83 precision 0.26 f1_score 0.40\n",
      "RandomForeset balance alive recall 0.65 precision 0.96 f1_score 0.78\n",
      "RandomForeset balance_2 dead recall 0.83 precision 0.48 f1_score 0.61\n",
      "RandomForeset balance_2 alive recall 0.66 precision 0.91 f1_score 0.77\n",
      "RandomForeset random dead recall 0.37 precision 0.59 f1_score 0.45\n",
      "RandomForeset random alive recall 0.90 precision 0.79 f1_score 0.84\n"
     ]
    }
   ],
   "source": [
    "from sklearn.ensemble import RandomForestClassifier\n",
    "\n",
    "rf_balance = RandomForestClassifier(random_state=0)\n",
    "rf_balance.fit(x_balance_train, y_balance_train)\n",
    "y_pre_balance_rf = rf_balance.predict(x_balance_test)\n",
    "\n",
    "rf_balance_2 = RandomForestClassifier(random_state=0)\n",
    "rf_balance_2.fit(x_balance_2_train, y_balance_2_train)\n",
    "y_pre_balance_2_rf = rf_balance_2.predict(x_balance_2_test)\n",
    "\n",
    "rf_random = RandomForestClassifier(random_state=0)\n",
    "rf_random.fit(x_random_train, y_random_train)\n",
    "y_pre_random_rf = rf_random.predict(x_random_test)\n",
    "\n",
    "print_metrics(\"RandomForeset balance\",y_balance_test,y_pre_balance_rf)\n",
    "print_metrics(\"RandomForeset balance_2\",y_balance_2_test,y_pre_balance_2_rf)\n",
    "print_metrics(\"RandomForeset random\",y_random_test,y_pre_random_rf)\n"
   ]
  },
  {
   "cell_type": "code",
   "execution_count": 8,
   "metadata": {
    "pycharm": {
     "name": "#%%\n"
    }
   },
   "outputs": [],
   "source": [
    "import tensorflow as tf\n",
    "from tensorflow import keras\n",
    "from tensorflow.keras import layers\n",
    "import matplotlib.pyplot as plt\n",
    "import matplotlib.cm as cm\n",
    "import numpy as np\n",
    "\n",
    "\n",
    "input_length = len(x_balance_test[0])\n",
    "callback = tf.keras.callbacks.EarlyStopping(monitor='val_loss', patience=3)\n"
   ]
  },
  {
   "cell_type": "code",
   "execution_count": 9,
   "metadata": {
    "pycharm": {
     "name": "#%%\n"
    }
   },
   "outputs": [
    {
     "name": "stdout",
     "output_type": "stream",
     "text": [
      "Epoch 1/20\n",
      "100/100 [==============================] - 10s 55ms/step - loss: 0.6932 - accuracy: 0.5013 - recall: 0.5229 - val_loss: 0.6910 - val_accuracy: 0.6350 - val_recall: 0.7297\n",
      "Epoch 2/20\n",
      "100/100 [==============================] - 7s 66ms/step - loss: 0.6916 - accuracy: 0.5303 - recall: 0.5016 - val_loss: 0.6861 - val_accuracy: 0.6137 - val_recall: 0.3857\n",
      "Epoch 3/20\n",
      "100/100 [==============================] - 6s 63ms/step - loss: 0.6851 - accuracy: 0.5553 - recall: 0.5951 - val_loss: 0.6661 - val_accuracy: 0.6538 - val_recall: 0.6929\n",
      "Epoch 4/20\n",
      "100/100 [==============================] - 6s 61ms/step - loss: 0.6742 - accuracy: 0.5838 - recall: 0.5399 - val_loss: 0.6503 - val_accuracy: 0.6525 - val_recall: 0.7150\n",
      "Epoch 5/20\n",
      "100/100 [==============================] - 7s 68ms/step - loss: 0.6731 - accuracy: 0.6006 - recall: 0.5330 - val_loss: 0.6509 - val_accuracy: 0.6538 - val_recall: 0.6757\n",
      "Epoch 6/20\n",
      "100/100 [==============================] - 6s 65ms/step - loss: 0.6704 - accuracy: 0.5931 - recall: 0.5386 - val_loss: 0.6538 - val_accuracy: 0.6513 - val_recall: 0.4939\n",
      "Epoch 7/20\n",
      "100/100 [==============================] - 6s 64ms/step - loss: 0.6680 - accuracy: 0.5997 - recall: 0.5154 - val_loss: 0.6537 - val_accuracy: 0.6500 - val_recall: 0.4717\n"
     ]
    },
    {
     "data": {
      "image/png": "[encoded data removed]",
      "text/plain": [
       "<Figure size 432x288 with 1 Axes>"
      ]
     },
     "metadata": {
      "needs_background": "light"
     },
     "output_type": "display_data"
    },
    {
     "name": "stdout",
     "output_type": "stream",
     "text": [
      "188/188 [==============================] - 4s 18ms/step\n",
      "lstm balance dead recall 0.45 precision 0.22 f1_score 0.30\n",
      "lstm balance alive recall 0.76 precision 0.90 f1_score 0.83\n"
     ]
    }
   ],
   "source": [
    "lstm = keras.Sequential()\n",
    "lstm.add(layers.LSTM(units=100, activation='tanh', return_sequences=True, input_shape=(input_length, 1)))\n",
    "lstm.add(layers.Dropout(0.5))\n",
    "lstm.add(layers.LSTM(units=50, activation='tanh', return_sequences=False))\n",
    "lstm.add(layers.Dropout(0.5))\n",
    "lstm.add(layers.Dense(1, activation='sigmoid'))\n",
    "\n",
    "lstm.compile(optimizer='adam',\n",
    "            loss='binary_crossentropy',\n",
    "            metrics=['accuracy',tf.keras.metrics.Recall()])\n",
    "\n",
    "history_lstm = lstm.fit(np.array(x_balance_train), np.array(y_balance_train),validation_split=0.2,callbacks=[callback],epochs=20)\n",
    "plt.plot(history_lstm.history['accuracy'], label='Train')\n",
    "plt.plot(history_lstm.history['val_accuracy'], label='Validation')\n",
    "plt.ylabel('Accuracy')\n",
    "plt.xlabel('Epoch')\n",
    "plt.title('Training and validating accuracy')\n",
    "plt.legend()\n",
    "plt.show()\n",
    "\n",
    "y_pre_balance_lstm = (lstm.predict(x_balance_test) > 0.5).astype(\"int32\").flatten()\n",
    "print_metrics(\"lstm balance\",y_balance_test,y_pre_balance_lstm.tolist())"
   ]
  },
  {
   "cell_type": "code",
   "execution_count": 10,
   "metadata": {
    "pycharm": {
     "name": "#%%\n"
    }
   },
   "outputs": [
    {
     "name": "stdout",
     "output_type": "stream",
     "text": [
      "Epoch 1/20\n",
      "98/98 [==============================] - 9s 53ms/step - loss: 0.6931 - accuracy: 0.5059 - recall_1: 0.5249 - val_loss: 0.6913 - val_accuracy: 0.5160 - val_recall_1: 1.0000\n",
      "Epoch 2/20\n",
      "98/98 [==============================] - 2s 24ms/step - loss: 0.6926 - accuracy: 0.5280 - recall_1: 0.5229 - val_loss: 0.6886 - val_accuracy: 0.5224 - val_recall_1: 0.8933\n",
      "Epoch 3/20\n",
      "98/98 [==============================] - 3s 35ms/step - loss: 0.6926 - accuracy: 0.5370 - recall_1: 0.3150 - val_loss: 0.6905 - val_accuracy: 0.6018 - val_recall_1: 0.5236\n",
      "Epoch 4/20\n",
      "98/98 [==============================] - 2s 22ms/step - loss: 0.6878 - accuracy: 0.5767 - recall_1: 0.5391 - val_loss: 0.6875 - val_accuracy: 0.5723 - val_recall_1: 0.4218\n",
      "Epoch 5/20\n",
      "98/98 [==============================] - 4s 38ms/step - loss: 0.6792 - accuracy: 0.5812 - recall_1: 0.5933 - val_loss: 0.6768 - val_accuracy: 0.5787 - val_recall_1: 0.6576\n",
      "Epoch 6/20\n",
      "98/98 [==============================] - 5s 50ms/step - loss: 0.6717 - accuracy: 0.5946 - recall_1: 0.5913 - val_loss: 0.6768 - val_accuracy: 0.5851 - val_recall_1: 0.4516\n",
      "Epoch 7/20\n",
      "98/98 [==============================] - 5s 47ms/step - loss: 0.6686 - accuracy: 0.6055 - recall_1: 0.5707 - val_loss: 0.6701 - val_accuracy: 0.5967 - val_recall_1: 0.5980\n",
      "Epoch 8/20\n",
      "98/98 [==============================] - 4s 41ms/step - loss: 0.6640 - accuracy: 0.6055 - recall_1: 0.5494 - val_loss: 0.6703 - val_accuracy: 0.6056 - val_recall_1: 0.5459\n",
      "Epoch 9/20\n",
      "98/98 [==============================] - 5s 52ms/step - loss: 0.6672 - accuracy: 0.6010 - recall_1: 0.5539 - val_loss: 0.6689 - val_accuracy: 0.5928 - val_recall_1: 0.6055\n",
      "Epoch 10/20\n",
      "98/98 [==============================] - 5s 53ms/step - loss: 0.6644 - accuracy: 0.6074 - recall_1: 0.5436 - val_loss: 0.6721 - val_accuracy: 0.5877 - val_recall_1: 0.6799\n",
      "Epoch 11/20\n",
      "98/98 [==============================] - 5s 48ms/step - loss: 0.6624 - accuracy: 0.6110 - recall_1: 0.5462 - val_loss: 0.6684 - val_accuracy: 0.5967 - val_recall_1: 0.5955\n",
      "Epoch 12/20\n",
      "98/98 [==============================] - 5s 52ms/step - loss: 0.6633 - accuracy: 0.6039 - recall_1: 0.5378 - val_loss: 0.6681 - val_accuracy: 0.6031 - val_recall_1: 0.5310\n",
      "Epoch 13/20\n",
      "98/98 [==============================] - 5s 53ms/step - loss: 0.6665 - accuracy: 0.5975 - recall_1: 0.4990 - val_loss: 0.6678 - val_accuracy: 0.5941 - val_recall_1: 0.6079\n",
      "Epoch 14/20\n",
      "98/98 [==============================] - 5s 54ms/step - loss: 0.6637 - accuracy: 0.6049 - recall_1: 0.5403 - val_loss: 0.6683 - val_accuracy: 0.5967 - val_recall_1: 0.5906\n",
      "Epoch 15/20\n",
      "98/98 [==============================] - 5s 52ms/step - loss: 0.6614 - accuracy: 0.6122 - recall_1: 0.5429 - val_loss: 0.6675 - val_accuracy: 0.5992 - val_recall_1: 0.5112\n",
      "Epoch 16/20\n",
      "98/98 [==============================] - 5s 55ms/step - loss: 0.6576 - accuracy: 0.6161 - recall_1: 0.5526 - val_loss: 0.6797 - val_accuracy: 0.5685 - val_recall_1: 0.3722\n",
      "Epoch 17/20\n",
      "98/98 [==============================] - 5s 53ms/step - loss: 0.6681 - accuracy: 0.6119 - recall_1: 0.5817 - val_loss: 0.6767 - val_accuracy: 0.5736 - val_recall_1: 0.3846\n",
      "Epoch 18/20\n",
      "98/98 [==============================] - 5s 53ms/step - loss: 0.6649 - accuracy: 0.6068 - recall_1: 0.5429 - val_loss: 0.6681 - val_accuracy: 0.5992 - val_recall_1: 0.5484\n"
     ]
    },
    {
     "data": {
      "image/png": "[encoded data removed]",
      "text/plain": [
       "<Figure size 432x288 with 1 Axes>"
      ]
     },
     "metadata": {
      "needs_background": "light"
     },
     "output_type": "display_data"
    },
    {
     "name": "stdout",
     "output_type": "stream",
     "text": [
      "94/94 [==============================] - 2s 18ms/step\n",
      "lstm balance_2 dead recall 0.53 precision 0.39 f1_score 0.45\n",
      "lstm balance_2 alive recall 0.68 precision 0.79 f1_score 0.73\n"
     ]
    }
   ],
   "source": [
    "lstm3 = keras.Sequential()\n",
    "lstm3.add(layers.LSTM(units=100, activation='tanh', return_sequences=True, input_shape=(input_length, 1)))\n",
    "lstm3.add(layers.Dropout(0.5))\n",
    "lstm3.add(layers.LSTM(units=50, activation='tanh', return_sequences=False))\n",
    "lstm3.add(layers.Dropout(0.5))\n",
    "lstm3.add(layers.Dense(1, activation='sigmoid'))\n",
    "\n",
    "lstm3.compile(optimizer='adam',\n",
    "            loss='binary_crossentropy',\n",
    "            metrics=['accuracy',tf.keras.metrics.Recall()])\n",
    "\n",
    "history_lstm3 = lstm3.fit(np.array(x_balance_2_train), np.array(y_balance_2_train),validation_split=0.2,callbacks=[callback],epochs=20)\n",
    "plt.plot(history_lstm.history['accuracy'], label='Train')\n",
    "plt.plot(history_lstm.history['val_accuracy'], label='Validation')\n",
    "plt.ylabel('Accuracy')\n",
    "plt.xlabel('Epoch')\n",
    "plt.title('Training and validating accuracy')\n",
    "plt.legend()\n",
    "plt.show()\n",
    "\n",
    "y_pre_balance_2_lstm = (lstm3.predict(x_balance_2_test) > 0.5).astype(\"int32\").flatten()\n",
    "print_metrics(\"lstm balance_2\",y_balance_2_test,y_pre_balance_2_lstm.tolist())"
   ]
  },
  {
   "cell_type": "code",
   "execution_count": 11,
   "metadata": {
    "pycharm": {
     "name": "#%%\n"
    }
   },
   "outputs": [
    {
     "name": "stdout",
     "output_type": "stream",
     "text": [
      "Epoch 1/20\n",
      "175/175 [==============================] - 16s 75ms/step - loss: 0.5990 - accuracy: 0.7179 - recall_2: 0.0019 - val_loss: 0.5910 - val_accuracy: 0.7229 - val_recall_2: 0.0000e+00\n",
      "Epoch 2/20\n",
      "175/175 [==============================] - 12s 70ms/step - loss: 0.5934 - accuracy: 0.7214 - recall_2: 0.0000e+00 - val_loss: 0.5883 - val_accuracy: 0.7229 - val_recall_2: 0.0000e+00\n",
      "Epoch 3/20\n",
      "175/175 [==============================] - 13s 74ms/step - loss: 0.5843 - accuracy: 0.7214 - recall_2: 0.0013 - val_loss: 0.5637 - val_accuracy: 0.7229 - val_recall_2: 0.0000e+00\n",
      "Epoch 4/20\n",
      "175/175 [==============================] - 10s 60ms/step - loss: 0.5754 - accuracy: 0.7198 - recall_2: 0.0346 - val_loss: 0.5615 - val_accuracy: 0.7243 - val_recall_2: 0.0077\n",
      "Epoch 5/20\n",
      "175/175 [==============================] - 21s 123ms/step - loss: 0.5696 - accuracy: 0.7225 - recall_2: 0.0353 - val_loss: 0.5564 - val_accuracy: 0.7243 - val_recall_2: 0.0722\n",
      "Epoch 6/20\n",
      "175/175 [==============================] - 12s 71ms/step - loss: 0.5678 - accuracy: 0.7223 - recall_2: 0.0782 - val_loss: 0.5589 - val_accuracy: 0.7279 - val_recall_2: 0.1366\n",
      "Epoch 7/20\n",
      "175/175 [==============================] - 13s 76ms/step - loss: 0.5665 - accuracy: 0.7246 - recall_2: 0.0917 - val_loss: 0.5553 - val_accuracy: 0.7336 - val_recall_2: 0.1727\n",
      "Epoch 8/20\n",
      "175/175 [==============================] - 12s 67ms/step - loss: 0.5638 - accuracy: 0.7250 - recall_2: 0.1013 - val_loss: 0.5515 - val_accuracy: 0.7300 - val_recall_2: 0.1675\n",
      "Epoch 9/20\n",
      "175/175 [==============================] - 12s 67ms/step - loss: 0.5563 - accuracy: 0.7236 - recall_2: 0.1295 - val_loss: 0.5620 - val_accuracy: 0.7257 - val_recall_2: 0.0361\n",
      "Epoch 10/20\n",
      "175/175 [==============================] - 15s 87ms/step - loss: 0.5641 - accuracy: 0.7175 - recall_2: 0.1244 - val_loss: 0.5591 - val_accuracy: 0.7229 - val_recall_2: 0.0412\n",
      "Epoch 11/20\n",
      "175/175 [==============================] - 14s 78ms/step - loss: 0.5612 - accuracy: 0.7214 - recall_2: 0.1006 - val_loss: 0.5515 - val_accuracy: 0.7286 - val_recall_2: 0.1366\n"
     ]
    },
    {
     "data": {
      "image/png": "[encoded data removed]",
      "text/plain": [
       "<Figure size 432x288 with 1 Axes>"
      ]
     },
     "metadata": {
      "needs_background": "light"
     },
     "output_type": "display_data"
    },
    {
     "name": "stdout",
     "output_type": "stream",
     "text": [
      "94/94 [==============================] - 3s 28ms/step\n",
      "lstm random dead recall 0.12 precision 0.51 f1_score 0.19\n",
      "lstm random alive recall 0.95 precision 0.74 f1_score 0.83\n"
     ]
    }
   ],
   "source": [
    "lstm2 = keras.Sequential()\n",
    "lstm2.add(layers.LSTM(units=100, activation='tanh', return_sequences=True, input_shape=(input_length, 1)))\n",
    "lstm2.add(layers.Dropout(0.2))\n",
    "lstm2.add(layers.LSTM(units=50, activation='tanh', return_sequences=False))\n",
    "lstm2.add(layers.Dropout(0.2))\n",
    "lstm2.add(layers.Dense(1, activation='sigmoid'))\n",
    "\n",
    "\n",
    "lstm2.compile(optimizer='adam',\n",
    "            loss='binary_crossentropy',\n",
    "            metrics=['accuracy',tf.keras.metrics.Recall()])\n",
    "\n",
    "history_lstm2 = lstm2.fit(np.array(x_random_train), np.array(y_random_train),validation_split=0.2,callbacks=[callback], epochs=20)\n",
    "plt.plot(history_lstm2.history['accuracy'], label='train')\n",
    "plt.plot(history_lstm2.history['val_accuracy'], label='Validation')\n",
    "plt.ylabel('Accuracy')\n",
    "plt.xlabel('Epoch')\n",
    "plt.title('Training and validating accuracy')\n",
    "plt.legend()\n",
    "plt.show()\n",
    "\n",
    "y_pre_random_lstm = (lstm2.predict(x_random_test) > 0.5).astype(\"int32\").flatten()\n",
    "print_metrics(\"lstm random\",y_random_test,y_pre_random_lstm.tolist())"
   ]
  },
  {
   "cell_type": "code",
   "execution_count": 12,
   "metadata": {},
   "outputs": [
    {
     "name": "stderr",
     "output_type": "stream",
     "text": [
      "D:\\Anaconda\\envs\\NLP\\lib\\site-packages\\sklearn\\metrics\\_classification.py:1318: UndefinedMetricWarning: Precision is ill-defined and being set to 0.0 due to no predicted samples. Use `zero_division` parameter to control this behavior.\n",
      "  _warn_prf(average, modifier, msg_start, len(result))\n",
      "D:\\Anaconda\\envs\\NLP\\lib\\site-packages\\sklearn\\metrics\\_classification.py:1318: UndefinedMetricWarning: Precision is ill-defined and being set to 0.0 due to no predicted samples. Use `zero_division` parameter to control this behavior.\n",
      "  _warn_prf(average, modifier, msg_start, len(result))\n",
      "D:\\Anaconda\\envs\\NLP\\lib\\site-packages\\sklearn\\metrics\\_classification.py:1318: UndefinedMetricWarning: Precision is ill-defined and being set to 0.0 due to no predicted samples. Use `zero_division` parameter to control this behavior.\n",
      "  _warn_prf(average, modifier, msg_start, len(result))\n"
     ]
    },
    {
     "name": "stdout",
     "output_type": "stream",
     "text": [
      "writing..\n",
      "finish..\n"
     ]
    }
   ],
   "source": [
    "balance_pre_list = [y_pre_balance_zeroR,\n",
    "                    y_pre_balance_knn,\n",
    "                    y_pre_balance_GNB,\n",
    "                    y_pre_balance_MLP,\n",
    "                    y_pre_balance_rf,\n",
    "                    y_pre_balance_lstm.tolist()\n",
    "                    ]\n",
    "\n",
    "balance_2_pre_list = [y_pre_balance_2_zeroR,\n",
    "                      y_pre_balance_2_knn,\n",
    "                      y_pre_balance_2_GNB,\n",
    "                      y_pre_balance_2_MLP,\n",
    "                      y_pre_balance_2_rf,\n",
    "                      y_pre_balance_2_lstm.tolist()\n",
    "                      ]\n",
    "\n",
    "random_pre_list = [y_pre_random_zeroR,\n",
    "                   y_pre_random_knn,\n",
    "                   y_pre_random_GNB,\n",
    "                   y_pre_random_MLP,\n",
    "                   y_pre_random_rf,\n",
    "                   y_pre_random_lstm.tolist()\n",
    "                   ]\n",
    "\n",
    "test_list = [y_balance_test,y_balance_2_test,y_random_test]\n",
    "pre_list =[balance_pre_list, balance_2_pre_list,random_pre_list]\n",
    "\n",
    "def get_metrics(y_true,y_pre):    \n",
    "    result1=[recall_score(y_true, y_pre),\n",
    "             precision_score(y_true, y_pre),\n",
    "             f1_score(y_true, y_pre)]\n",
    "    \n",
    "    y_flip_true = [0 if i else 1 for i in y_true]\n",
    "    y_flip_pre = [0 if i else 1 for i in y_pre]\n",
    "    \n",
    "    result2=[recall_score(y_flip_true, y_flip_pre),\n",
    "             precision_score(y_flip_true, y_flip_pre),\n",
    "             f1_score(y_flip_true, y_flip_pre)]\n",
    "    \n",
    "    return result1,result2\n",
    "\n",
    "result= []\n",
    "for i in range(len(test_list)):\n",
    "    test_y = test_list[i]\n",
    "    pre_y_list = pre_list[i]\n",
    "    result_list1=[]\n",
    "    result_list2=[]\n",
    "    for pre_y in pre_y_list:\n",
    "        result1,result2 = get_metrics(test_y,pre_y)\n",
    "        result_list1+=result1\n",
    "        result_list2+=result2\n",
    "    result.append(result_list1)\n",
    "    result.append(result_list2)\n",
    "\n",
    "with open('./result/diffpercent_result.csv', 'w',newline='') as f:\n",
    "    print(\"writing..\")\n",
    "    writer = csv.writer(f)\n",
    "    for row in result:\n",
    "        writer.writerow(row)\n",
    "print(\"finish..\")"
   ]
  }
 ],
 "metadata": {
  "kernelspec": {
   "display_name": "Python 3 (ipykernel)",
   "language": "python",
   "name": "python3"
  },
  "language_info": {
   "codemirror_mode": {
    "name": "ipython",
    "version": 3
   },
   "file_extension": ".py",
   "mimetype": "text/x-python",
   "name": "python",
   "nbconvert_exporter": "python",
   "pygments_lexer": "ipython3",
   "version": "3.8.12"
  },
  "pycharm": {
   "stem_cell": {
    "cell_type": "raw",
    "metadata": {
     "collapsed": false
    },
    "source": []
   }
  }
 },
 "nbformat": 4,
 "nbformat_minor": 1
}
