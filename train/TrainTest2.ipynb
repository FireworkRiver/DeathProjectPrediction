{
 "cells": [
  {
   "cell_type": "code",
   "execution_count": 1,
   "metadata": {
    "pycharm": {
     "is_executing": true,
     "name": "#%%\n"
    }
   },
   "outputs": [],
   "source": [
    "import csv\n",
    "\n",
    "def intRow(row):\n",
    "    temp = []\n",
    "    for t in row:\n",
    "        temp.append(int(t))\n",
    "    return temp\n",
    "\n",
    "def read_x(address):\n",
    "    reader = csv.reader(open(address))\n",
    "    x= [intRow(row) for row in reader]\n",
    "    return x\n",
    "\n",
    "def read_y(address):\n",
    "    reader = csv.reader(open(address))\n",
    "    list=[intRow(row) for row in reader]\n",
    "    y=sum(list,[])\n",
    "    return y\n",
    "\n",
    "x_balance_test_0 = read_x('x_balance_test.csv')\n",
    "y_balance_test = read_y('y_balance_test.csv')\n",
    "x_balance_train_0 = read_x('x_balance_train.csv')\n",
    "y_balance_train = read_y('y_balance_train.csv')\n",
    "\n",
    "x_balance_2_test_0 = read_x('x_balance2_test.csv')\n",
    "y_balance_2_test = read_y('y_balance2_test.csv')\n",
    "x_balance_2_train_0 = read_x('x_balance2_train.csv')\n",
    "y_balance_2_train = read_y('y_balance2_train.csv')\n",
    "\n",
    "x_random_test_0 = read_x('x_random_test.csv')\n",
    "y_random_test = read_y('y_random_test.csv')\n",
    "x_random_train_0 = read_x('x_random_train.csv')\n",
    "y_random_train = read_y('y_random_train.csv')\n",
    "\n",
    "def NormalLine(row):\n",
    "    total = sum(row[-4:])\n",
    "    if total == 0:\n",
    "        total = 1\n",
    "    return [i/total for i in row]\n",
    "\n",
    "x_balance_test = [NormalLine(row) for row in x_balance_test_0]\n",
    "x_balance_train = [NormalLine(row) for row in x_balance_train_0]\n",
    "\n",
    "x_balance_2_test = [NormalLine(row) for row in x_balance_2_test_0]\n",
    "x_balance_2_train = [NormalLine(row) for row in x_balance_2_train_0]\n",
    "\n",
    "x_random_test =  [NormalLine(row) for row in x_random_test_0]\n",
    "x_random_train =  [NormalLine(row) for row in x_random_train_0]\n"
   ]
  },
  {
   "cell_type": "code",
   "execution_count": 2,
   "metadata": {
    "pycharm": {
     "is_executing": true,
     "name": "#%%\n"
    }
   },
   "outputs": [
    {
     "name": "stdout",
     "output_type": "stream",
     "text": [
      "ZeroR balance dead recall 0.00 precision 0.00 f1_score 0.00\n",
      "ZeroR balance alive recall 1.00 precision 0.87 f1_score 0.93\n",
      "ZeroR balance_2 dead recall 0.00 precision 0.00 f1_score 0.00\n",
      "ZeroR balance_2 alive recall 1.00 precision 0.72 f1_score 0.84\n",
      "ZeroR random dead recall 0.00 precision 0.00 f1_score 0.00\n",
      "ZeroR random alive recall 1.00 precision 0.72 f1_score 0.84\n"
     ]
    },
    {
     "name": "stderr",
     "output_type": "stream",
     "text": [
      "D:\\Anaconda\\envs\\NLP\\lib\\site-packages\\sklearn\\metrics\\_classification.py:1318: UndefinedMetricWarning: Precision is ill-defined and being set to 0.0 due to no predicted samples. Use `zero_division` parameter to control this behavior.\n",
      "  _warn_prf(average, modifier, msg_start, len(result))\n",
      "D:\\Anaconda\\envs\\NLP\\lib\\site-packages\\sklearn\\metrics\\_classification.py:1318: UndefinedMetricWarning: Precision is ill-defined and being set to 0.0 due to no predicted samples. Use `zero_division` parameter to control this behavior.\n",
      "  _warn_prf(average, modifier, msg_start, len(result))\n",
      "D:\\Anaconda\\envs\\NLP\\lib\\site-packages\\sklearn\\metrics\\_classification.py:1318: UndefinedMetricWarning: Precision is ill-defined and being set to 0.0 due to no predicted samples. Use `zero_division` parameter to control this behavior.\n",
      "  _warn_prf(average, modifier, msg_start, len(result))\n"
     ]
    }
   ],
   "source": [
    "from sklearn.metrics import accuracy_score\n",
    "from sklearn.metrics import recall_score\n",
    "from sklearn.metrics import precision_score\n",
    "from sklearn.metrics import f1_score\n",
    "\n",
    "def print_metrics(title,y_true,y_pre):\n",
    "    print(title+\" dead\",end = \" \")\n",
    "    print(\"recall %.2f\"%recall_score(y_true, y_pre),end =\" \")\n",
    "    print(\"precision %.2f\"%precision_score(y_true, y_pre),end=\" \")\n",
    "    print(\"f1_score %.2f\"%f1_score(y_true, y_pre))\n",
    "    \n",
    "    y_flip_true = [0 if i else 1 for i in y_true]\n",
    "    y_flip_pre = [0 if i else 1 for i in y_pre]\n",
    "    \n",
    "    print(title+\" alive\",end = \" \")\n",
    "    print(\"recall %.2f\"%recall_score(y_flip_true, y_flip_pre),end =\" \")\n",
    "    print(\"precision %.2f\"%precision_score(y_flip_true, y_flip_pre),end=\" \")\n",
    "    print(\"f1_score %.2f\"%f1_score(y_flip_true, y_flip_pre))\n",
    "\n",
    "y_pre_random_zeroR = [0 for i in range(len(y_random_test))]\n",
    "y_pre_balance_zeroR = [0 for i in range(len(y_balance_test))]\n",
    "y_pre_balance_2_zeroR = [0 for i in range(len(y_balance_2_test))]\n",
    "\n",
    "print_metrics(\"ZeroR balance\",y_balance_test,y_pre_balance_zeroR)\n",
    "print_metrics(\"ZeroR balance_2\",y_balance_2_test,y_pre_balance_2_zeroR)\n",
    "print_metrics(\"ZeroR random\",y_random_test,y_pre_random_zeroR)\n"
   ]
  },
  {
   "cell_type": "code",
   "execution_count": 3,
   "metadata": {
    "pycharm": {
     "is_executing": true,
     "name": "#%%\n"
    }
   },
   "outputs": [
    {
     "name": "stdout",
     "output_type": "stream",
     "text": [
      "Knn balance dead recall 0.44 precision 0.29 f1_score 0.35\n",
      "Knn balance alive recall 0.84 precision 0.91 f1_score 0.87\n",
      "Knn balance_2 dead recall 0.42 precision 0.50 f1_score 0.46\n",
      "Knn balance_2 alive recall 0.84 precision 0.79 f1_score 0.82\n",
      "Knn random dead recall 0.23 precision 0.55 f1_score 0.33\n",
      "Knn random alive recall 0.93 precision 0.76 f1_score 0.84\n"
     ]
    }
   ],
   "source": [
    "from sklearn.neighbors import KNeighborsClassifier\n",
    "\n",
    "knn_random = KNeighborsClassifier()\n",
    "knn_random.fit(x_random_train, y_random_train)\n",
    "y_pre_random_knn = knn_random.predict(x_random_test)\n",
    "\n",
    "knn_balance = KNeighborsClassifier()\n",
    "knn_balance.fit(x_balance_train, y_balance_train)\n",
    "y_pre_balance_knn = knn_balance.predict(x_balance_test)\n",
    "\n",
    "knn_balance_2 = KNeighborsClassifier()\n",
    "knn_balance_2.fit(x_balance_2_train, y_balance_2_train)\n",
    "y_pre_balance_2_knn = knn_balance_2.predict(x_balance_2_test)\n",
    "\n",
    "print_metrics(\"Knn balance\",y_balance_test,y_pre_balance_knn)\n",
    "print_metrics(\"Knn balance_2\",y_balance_2_test,y_pre_balance_2_knn)\n",
    "print_metrics(\"Knn random\",y_random_test,y_pre_random_knn)"
   ]
  },
  {
   "cell_type": "code",
   "execution_count": 4,
   "metadata": {
    "pycharm": {
     "is_executing": true,
     "name": "#%%\n"
    }
   },
   "outputs": [
    {
     "name": "stdout",
     "output_type": "stream",
     "text": [
      "NB balance dead recall 0.46 precision 0.27 f1_score 0.34\n",
      "NB balance alive recall 0.81 precision 0.91 f1_score 0.86\n",
      "NB balance_2 dead recall 0.45 precision 0.48 f1_score 0.47\n",
      "NB balance_2 alive recall 0.82 precision 0.80 f1_score 0.81\n",
      "NB random dead recall 0.45 precision 0.50 f1_score 0.48\n",
      "NB random alive recall 0.83 precision 0.80 f1_score 0.81\n"
     ]
    }
   ],
   "source": [
    "from sklearn.naive_bayes import GaussianNB,MultinomialNB,ComplementNB\n",
    "from sklearn.preprocessing import MinMaxScaler\n",
    "\n",
    "GaussianNB_random = GaussianNB()\n",
    "GaussianNB_random.fit(x_random_train, y_random_train)\n",
    "y_pre_random_GNB = GaussianNB_random.predict(x_random_test)\n",
    "\n",
    "GaussianNB_balance = GaussianNB()\n",
    "GaussianNB_balance.fit(x_balance_train, y_balance_train)\n",
    "y_pre_balance_GNB = GaussianNB_balance.predict(x_balance_test)\n",
    "\n",
    "GaussianNB_balance_2 = GaussianNB()\n",
    "GaussianNB_balance_2.fit(x_balance_2_train, y_balance_2_train)\n",
    "y_pre_balance_2_GNB = GaussianNB_balance_2.predict(x_balance_2_test)\n",
    "\n",
    "\n",
    "print_metrics(\"NB balance\",y_balance_test,y_pre_balance_GNB)\n",
    "print_metrics(\"NB balance_2\",y_balance_2_test,y_pre_balance_2_GNB)\n",
    "print_metrics(\"NB random\",y_random_test,y_pre_random_GNB)\n"
   ]
  },
  {
   "cell_type": "code",
   "execution_count": 5,
   "metadata": {
    "pycharm": {
     "is_executing": true,
     "name": "#%%\n"
    }
   },
   "outputs": [
    {
     "name": "stdout",
     "output_type": "stream",
     "text": [
      "MLP balance dead recall 0.44 precision 0.29 f1_score 0.35\n",
      "MLP balance alive recall 0.84 precision 0.91 f1_score 0.87\n",
      "MLP balance_2 dead recall 0.60 precision 0.46 f1_score 0.52\n",
      "MLP balance_2 alive recall 0.73 precision 0.83 f1_score 0.78\n",
      "MLP random dead recall 0.26 precision 0.60 f1_score 0.36\n",
      "MLP random alive recall 0.93 precision 0.77 f1_score 0.84\n"
     ]
    }
   ],
   "source": [
    "from sklearn.neural_network import MLPClassifier\n",
    "\n",
    "MLP_balance = MLPClassifier(activation='logistic',max_iter=300)\n",
    "MLP_balance.fit(x_balance_train, y_balance_train)\n",
    "y_pre_balance_MLP = knn_balance.predict(x_balance_test)\n",
    "\n",
    "MLP_balance_2 = MLPClassifier(activation='logistic',max_iter=300)\n",
    "MLP_balance_2.fit(x_balance_2_train, y_balance_2_train)\n",
    "y_pre_balance_2_MLP = MLP_balance_2.predict(x_balance_2_test)\n",
    "\n",
    "MLP_random = MLPClassifier(activation='logistic',max_iter=300)\n",
    "MLP_random.fit(x_random_train, y_random_train)\n",
    "y_pre_random_MLP = MLP_random.predict(x_random_test)\n",
    "\n",
    "print_metrics(\"MLP balance\",y_balance_test,y_pre_balance_MLP)\n",
    "print_metrics(\"MLP balance_2\",y_balance_2_test,y_pre_balance_2_MLP)\n",
    "print_metrics(\"MLP random\",y_random_test,y_pre_random_MLP)"
   ]
  },
  {
   "cell_type": "code",
   "execution_count": 6,
   "metadata": {
    "pycharm": {
     "is_executing": true,
     "name": "#%%\n"
    }
   },
   "outputs": [
    {
     "name": "stdout",
     "output_type": "stream",
     "text": [
      "RandomForeset balance dead recall 0.83 precision 0.26 f1_score 0.40\n",
      "RandomForeset balance alive recall 0.65 precision 0.96 f1_score 0.78\n",
      "RandomForeset balance_2 dead recall 0.83 precision 0.49 f1_score 0.62\n",
      "RandomForeset balance_2 alive recall 0.67 precision 0.91 f1_score 0.77\n",
      "RandomForeset random dead recall 0.40 precision 0.60 f1_score 0.48\n",
      "RandomForeset random alive recall 0.90 precision 0.79 f1_score 0.84\n"
     ]
    }
   ],
   "source": [
    "from sklearn.ensemble import RandomForestClassifier\n",
    "\n",
    "rf_balance = RandomForestClassifier(random_state=0)\n",
    "rf_balance.fit(x_balance_train, y_balance_train)\n",
    "y_pre_balance_rf = rf_balance.predict(x_balance_test)\n",
    "\n",
    "rf_balance_2 = RandomForestClassifier(random_state=0)\n",
    "rf_balance_2.fit(x_balance_2_train, y_balance_2_train)\n",
    "y_pre_balance_2_rf = rf_balance_2.predict(x_balance_2_test)\n",
    "\n",
    "rf_random = RandomForestClassifier(random_state=0)\n",
    "rf_random.fit(x_random_train, y_random_train)\n",
    "y_pre_random_rf = rf_random.predict(x_random_test)\n",
    "\n",
    "print_metrics(\"RandomForeset balance\",y_balance_test,y_pre_balance_rf)\n",
    "print_metrics(\"RandomForeset balance_2\",y_balance_2_test,y_pre_balance_2_rf)\n",
    "print_metrics(\"RandomForeset random\",y_random_test,y_pre_random_rf)\n"
   ]
  },
  {
   "cell_type": "code",
   "execution_count": 7,
   "metadata": {
    "pycharm": {
     "name": "#%%\n"
    }
   },
   "outputs": [],
   "source": [
    "import tensorflow as tf\n",
    "from tensorflow import keras\n",
    "from tensorflow.keras import layers\n",
    "import matplotlib.pyplot as plt\n",
    "import matplotlib.cm as cm\n",
    "import numpy as np\n",
    "\n",
    "\n",
    "input_length = len(x_balance_test[0])\n",
    "callback = tf.keras.callbacks.EarlyStopping(monitor='val_loss', patience=3)\n"
   ]
  },
  {
   "cell_type": "code",
   "execution_count": 8,
   "metadata": {
    "pycharm": {
     "name": "#%%\n"
    }
   },
   "outputs": [
    {
     "name": "stdout",
     "output_type": "stream",
     "text": [
      "Epoch 1/20\n",
      "100/100 [==============================] - 19s 88ms/step - loss: 0.6934 - accuracy: 0.5100 - recall: 0.4162 - val_loss: 0.6922 - val_accuracy: 0.5088 - val_recall: 1.0000\n",
      "Epoch 2/20\n",
      "100/100 [==============================] - 6s 59ms/step - loss: 0.6922 - accuracy: 0.5253 - recall: 0.4269 - val_loss: 0.6909 - val_accuracy: 0.5088 - val_recall: 1.0000\n",
      "Epoch 3/20\n",
      "100/100 [==============================] - 2s 20ms/step - loss: 0.6914 - accuracy: 0.5231 - recall: 0.5392 - val_loss: 0.6837 - val_accuracy: 0.5537 - val_recall: 0.9017\n",
      "Epoch 4/20\n",
      "100/100 [==============================] - 4s 36ms/step - loss: 0.6819 - accuracy: 0.5681 - recall: 0.6045 - val_loss: 0.6656 - val_accuracy: 0.6363 - val_recall: 0.4423\n",
      "Epoch 5/20\n",
      "100/100 [==============================] - 2s 16ms/step - loss: 0.6761 - accuracy: 0.5975 - recall: 0.5587 - val_loss: 0.6552 - val_accuracy: 0.6587 - val_recall: 0.6044\n",
      "Epoch 6/20\n",
      "100/100 [==============================] - 2s 16ms/step - loss: 0.6710 - accuracy: 0.6003 - recall: 0.5380 - val_loss: 0.6477 - val_accuracy: 0.6488 - val_recall: 0.6560\n",
      "Epoch 7/20\n",
      "100/100 [==============================] - 2s 16ms/step - loss: 0.6691 - accuracy: 0.6000 - recall: 0.5286 - val_loss: 0.6506 - val_accuracy: 0.6513 - val_recall: 0.5209\n",
      "Epoch 8/20\n",
      "100/100 [==============================] - 2s 17ms/step - loss: 0.6672 - accuracy: 0.6116 - recall: 0.5399 - val_loss: 0.6507 - val_accuracy: 0.6488 - val_recall: 0.6265\n",
      "Epoch 9/20\n",
      "100/100 [==============================] - 2s 16ms/step - loss: 0.6681 - accuracy: 0.6003 - recall: 0.4915 - val_loss: 0.6488 - val_accuracy: 0.6488 - val_recall: 0.6339\n"
     ]
    },
    {
     "data": {
      "image/png": "[encoded data removed]",
      "text/plain": [
       "<Figure size 432x288 with 1 Axes>"
      ]
     },
     "metadata": {
      "needs_background": "light"
     },
     "output_type": "display_data"
    },
    {
     "name": "stdout",
     "output_type": "stream",
     "text": [
      "188/188 [==============================] - 2s 7ms/step\n",
      "lstm balance dead recall 0.62 precision 0.19 f1_score 0.30\n",
      "lstm balance alive recall 0.62 precision 0.92 f1_score 0.74\n"
     ]
    }
   ],
   "source": [
    "lstm = keras.Sequential()\n",
    "lstm.add(layers.LSTM(units=100, activation='tanh', return_sequences=True, input_shape=(input_length, 1)))\n",
    "lstm.add(layers.Dropout(0.5))\n",
    "lstm.add(layers.LSTM(units=50, activation='tanh', return_sequences=False))\n",
    "lstm.add(layers.Dropout(0.5))\n",
    "lstm.add(layers.Dense(1, activation='sigmoid'))\n",
    "\n",
    "lstm.compile(optimizer='adam',\n",
    "            loss='binary_crossentropy',\n",
    "            metrics=['accuracy',tf.keras.metrics.Recall()])\n",
    "\n",
    "history_lstm = lstm.fit(np.array(x_balance_train), np.array(y_balance_train),validation_split=0.2,callbacks=[callback],epochs=20)\n",
    "plt.plot(history_lstm.history['accuracy'], label='Train')\n",
    "plt.plot(history_lstm.history['val_accuracy'], label='Validation')\n",
    "plt.ylabel('Accuracy')\n",
    "plt.xlabel('Epoch')\n",
    "plt.title('Training and validating accuracy')\n",
    "plt.legend()\n",
    "plt.show()\n",
    "\n",
    "y_pre_balance_lstm = (lstm.predict(x_balance_test) > 0.5).astype(\"int32\").flatten()\n",
    "print_metrics(\"lstm balance\",y_balance_test,y_pre_balance_lstm.tolist())"
   ]
  },
  {
   "cell_type": "code",
   "execution_count": 9,
   "metadata": {
    "pycharm": {
     "name": "#%%\n"
    }
   },
   "outputs": [
    {
     "name": "stdout",
     "output_type": "stream",
     "text": [
      "Epoch 1/20\n",
      "98/98 [==============================] - 6s 29ms/step - loss: 0.6932 - accuracy: 0.4966 - recall_1: 0.6133 - val_loss: 0.6922 - val_accuracy: 0.5890 - val_recall_1: 0.6352\n",
      "Epoch 2/20\n",
      "98/98 [==============================] - 2s 16ms/step - loss: 0.6911 - accuracy: 0.5271 - recall_1: 0.5946 - val_loss: 0.6979 - val_accuracy: 0.4840 - val_recall_1: 0.0000e+00\n",
      "Epoch 3/20\n",
      "98/98 [==============================] - 2s 16ms/step - loss: 0.6828 - accuracy: 0.5716 - recall_1: 0.5526 - val_loss: 0.6803 - val_accuracy: 0.6069 - val_recall_1: 0.5236\n",
      "Epoch 4/20\n",
      "98/98 [==============================] - 2s 16ms/step - loss: 0.6709 - accuracy: 0.5981 - recall_1: 0.5752 - val_loss: 0.6708 - val_accuracy: 0.5980 - val_recall_1: 0.6228\n",
      "Epoch 5/20\n",
      "98/98 [==============================] - 2s 16ms/step - loss: 0.6662 - accuracy: 0.6084 - recall_1: 0.5552 - val_loss: 0.6718 - val_accuracy: 0.5839 - val_recall_1: 0.6377\n",
      "Epoch 6/20\n",
      "98/98 [==============================] - 2s 16ms/step - loss: 0.6655 - accuracy: 0.6174 - recall_1: 0.5778 - val_loss: 0.6778 - val_accuracy: 0.5634 - val_recall_1: 0.3797\n",
      "Epoch 7/20\n",
      "98/98 [==============================] - 2s 16ms/step - loss: 0.6663 - accuracy: 0.6013 - recall_1: 0.5307 - val_loss: 0.6716 - val_accuracy: 0.6005 - val_recall_1: 0.5236\n"
     ]
    },
    {
     "data": {
      "image/png": "[encoded data removed]",
      "text/plain": [
       "<Figure size 432x288 with 1 Axes>"
      ]
     },
     "metadata": {
      "needs_background": "light"
     },
     "output_type": "display_data"
    },
    {
     "name": "stdout",
     "output_type": "stream",
     "text": [
      "94/94 [==============================] - 1s 8ms/step\n",
      "lstm balance_2 dead recall 0.49 precision 0.40 f1_score 0.44\n",
      "lstm balance_2 alive recall 0.72 precision 0.79 f1_score 0.75\n"
     ]
    }
   ],
   "source": [
    "lstm3 = keras.Sequential()\n",
    "lstm3.add(layers.LSTM(units=100, activation='tanh', return_sequences=True, input_shape=(input_length, 1)))\n",
    "lstm3.add(layers.Dropout(0.5))\n",
    "lstm3.add(layers.LSTM(units=50, activation='tanh', return_sequences=False))\n",
    "lstm3.add(layers.Dropout(0.5))\n",
    "lstm3.add(layers.Dense(1, activation='sigmoid'))\n",
    "\n",
    "lstm3.compile(optimizer='adam',\n",
    "            loss='binary_crossentropy',\n",
    "            metrics=['accuracy',tf.keras.metrics.Recall()])\n",
    "\n",
    "history_lstm3 = lstm3.fit(np.array(x_balance_2_train), np.array(y_balance_2_train),validation_split=0.2,callbacks=[callback],epochs=20)\n",
    "plt.plot(history_lstm.history['accuracy'], label='Train')\n",
    "plt.plot(history_lstm.history['val_accuracy'], label='Validation')\n",
    "plt.ylabel('Accuracy')\n",
    "plt.xlabel('Epoch')\n",
    "plt.title('Training and validating accuracy')\n",
    "plt.legend()\n",
    "plt.show()\n",
    "\n",
    "y_pre_balance_2_lstm = (lstm3.predict(x_balance_2_test) > 0.5).astype(\"int32\").flatten()\n",
    "print_metrics(\"lstm balance_2\",y_balance_2_test,y_pre_balance_2_lstm.tolist())"
   ]
  },
  {
   "cell_type": "code",
   "execution_count": 10,
   "metadata": {
    "pycharm": {
     "name": "#%%\n"
    }
   },
   "outputs": [
    {
     "name": "stdout",
     "output_type": "stream",
     "text": [
      "Epoch 1/20\n",
      "175/175 [==============================] - 7s 23ms/step - loss: 0.5996 - accuracy: 0.7209 - recall_2: 0.0096 - val_loss: 0.5900 - val_accuracy: 0.7229 - val_recall_2: 0.0000e+00\n",
      "Epoch 2/20\n",
      "175/175 [==============================] - 3s 16ms/step - loss: 0.5920 - accuracy: 0.7214 - recall_2: 0.0000e+00 - val_loss: 0.5882 - val_accuracy: 0.7229 - val_recall_2: 0.0000e+00\n",
      "Epoch 3/20\n",
      "175/175 [==============================] - 3s 17ms/step - loss: 0.5841 - accuracy: 0.7207 - recall_2: 0.0013 - val_loss: 0.5658 - val_accuracy: 0.7229 - val_recall_2: 0.0000e+00\n",
      "Epoch 4/20\n",
      "175/175 [==============================] - 3s 16ms/step - loss: 0.5731 - accuracy: 0.7218 - recall_2: 0.0186 - val_loss: 0.5602 - val_accuracy: 0.7250 - val_recall_2: 0.0309\n",
      "Epoch 5/20\n",
      "175/175 [==============================] - 3s 15ms/step - loss: 0.5675 - accuracy: 0.7205 - recall_2: 0.0397 - val_loss: 0.5572 - val_accuracy: 0.7264 - val_recall_2: 0.1005\n",
      "Epoch 6/20\n",
      "175/175 [==============================] - 3s 16ms/step - loss: 0.5656 - accuracy: 0.7189 - recall_2: 0.0692 - val_loss: 0.5588 - val_accuracy: 0.7229 - val_recall_2: 0.1701\n",
      "Epoch 7/20\n",
      "175/175 [==============================] - 3s 15ms/step - loss: 0.5670 - accuracy: 0.7236 - recall_2: 0.0923 - val_loss: 0.5557 - val_accuracy: 0.7264 - val_recall_2: 0.0722\n",
      "Epoch 8/20\n",
      "175/175 [==============================] - 3s 15ms/step - loss: 0.5662 - accuracy: 0.7229 - recall_2: 0.0776 - val_loss: 0.5582 - val_accuracy: 0.7229 - val_recall_2: 0.0387\n",
      "Epoch 9/20\n",
      "175/175 [==============================] - 3s 16ms/step - loss: 0.5635 - accuracy: 0.7227 - recall_2: 0.0897 - val_loss: 0.5556 - val_accuracy: 0.7300 - val_recall_2: 0.1469\n",
      "Epoch 10/20\n",
      "175/175 [==============================] - 3s 16ms/step - loss: 0.5613 - accuracy: 0.7227 - recall_2: 0.1192 - val_loss: 0.5545 - val_accuracy: 0.7286 - val_recall_2: 0.1289\n",
      "Epoch 11/20\n",
      "175/175 [==============================] - 3s 16ms/step - loss: 0.5611 - accuracy: 0.7236 - recall_2: 0.1051 - val_loss: 0.5518 - val_accuracy: 0.7214 - val_recall_2: 0.0619\n",
      "Epoch 12/20\n",
      "175/175 [==============================] - 3s 16ms/step - loss: 0.5557 - accuracy: 0.7241 - recall_2: 0.1154 - val_loss: 0.5511 - val_accuracy: 0.7279 - val_recall_2: 0.1031\n",
      "Epoch 13/20\n",
      "175/175 [==============================] - 3s 15ms/step - loss: 0.5560 - accuracy: 0.7307 - recall_2: 0.1224 - val_loss: 0.5507 - val_accuracy: 0.7279 - val_recall_2: 0.1108\n",
      "Epoch 14/20\n",
      "175/175 [==============================] - 3s 15ms/step - loss: 0.5505 - accuracy: 0.7227 - recall_2: 0.1519 - val_loss: 0.5533 - val_accuracy: 0.7257 - val_recall_2: 0.0902\n",
      "Epoch 15/20\n",
      "175/175 [==============================] - 3s 16ms/step - loss: 0.5625 - accuracy: 0.7261 - recall_2: 0.1397 - val_loss: 0.5485 - val_accuracy: 0.7307 - val_recall_2: 0.1108\n",
      "Epoch 16/20\n",
      "175/175 [==============================] - 3s 15ms/step - loss: 0.5514 - accuracy: 0.7307 - recall_2: 0.1199 - val_loss: 0.5537 - val_accuracy: 0.7329 - val_recall_2: 0.1727\n",
      "Epoch 17/20\n",
      "175/175 [==============================] - 3s 16ms/step - loss: 0.5557 - accuracy: 0.7287 - recall_2: 0.1115 - val_loss: 0.5531 - val_accuracy: 0.7329 - val_recall_2: 0.1237\n",
      "Epoch 18/20\n",
      "175/175 [==============================] - 3s 15ms/step - loss: 0.5568 - accuracy: 0.7273 - recall_2: 0.0917 - val_loss: 0.5518 - val_accuracy: 0.7393 - val_recall_2: 0.1598\n"
     ]
    },
    {
     "data": {
      "image/png": "[encoded data removed]",
      "text/plain": [
       "<Figure size 432x288 with 1 Axes>"
      ]
     },
     "metadata": {
      "needs_background": "light"
     },
     "output_type": "display_data"
    },
    {
     "name": "stdout",
     "output_type": "stream",
     "text": [
      "94/94 [==============================] - 2s 9ms/step\n",
      "lstm random dead recall 0.13 precision 0.52 f1_score 0.21\n",
      "lstm random alive recall 0.95 precision 0.74 f1_score 0.83\n"
     ]
    }
   ],
   "source": [
    "lstm2 = keras.Sequential()\n",
    "lstm2.add(layers.LSTM(units=100, activation='tanh', return_sequences=True, input_shape=(input_length, 1)))\n",
    "lstm2.add(layers.Dropout(0.2))\n",
    "lstm2.add(layers.LSTM(units=50, activation='tanh', return_sequences=False))\n",
    "lstm2.add(layers.Dropout(0.2))\n",
    "lstm2.add(layers.Dense(1, activation='sigmoid'))\n",
    "\n",
    "\n",
    "lstm2.compile(optimizer='adam',\n",
    "            loss='binary_crossentropy',\n",
    "            metrics=['accuracy',tf.keras.metrics.Recall()])\n",
    "\n",
    "history_lstm2 = lstm2.fit(np.array(x_random_train), np.array(y_random_train),validation_split=0.2,callbacks=[callback], epochs=20)\n",
    "plt.plot(history_lstm2.history['accuracy'], label='train')\n",
    "plt.plot(history_lstm2.history['val_accuracy'], label='Validation')\n",
    "plt.ylabel('Accuracy')\n",
    "plt.xlabel('Epoch')\n",
    "plt.title('Training and validating accuracy')\n",
    "plt.legend()\n",
    "plt.show()\n",
    "\n",
    "y_pre_random_lstm = (lstm2.predict(x_random_test) > 0.5).astype(\"int32\").flatten()\n",
    "print_metrics(\"lstm random\",y_random_test,y_pre_random_lstm.tolist())"
   ]
  },
  {
   "cell_type": "code",
   "execution_count": 11,
   "metadata": {},
   "outputs": [
    {
     "name": "stderr",
     "output_type": "stream",
     "text": [
      "D:\\Anaconda\\envs\\NLP\\lib\\site-packages\\sklearn\\metrics\\_classification.py:1318: UndefinedMetricWarning: Precision is ill-defined and being set to 0.0 due to no predicted samples. Use `zero_division` parameter to control this behavior.\n",
      "  _warn_prf(average, modifier, msg_start, len(result))\n",
      "D:\\Anaconda\\envs\\NLP\\lib\\site-packages\\sklearn\\metrics\\_classification.py:1318: UndefinedMetricWarning: Precision is ill-defined and being set to 0.0 due to no predicted samples. Use `zero_division` parameter to control this behavior.\n",
      "  _warn_prf(average, modifier, msg_start, len(result))\n",
      "D:\\Anaconda\\envs\\NLP\\lib\\site-packages\\sklearn\\metrics\\_classification.py:1318: UndefinedMetricWarning: Precision is ill-defined and being set to 0.0 due to no predicted samples. Use `zero_division` parameter to control this behavior.\n",
      "  _warn_prf(average, modifier, msg_start, len(result))\n"
     ]
    },
    {
     "name": "stdout",
     "output_type": "stream",
     "text": [
      "writing..\n",
      "finish..\n"
     ]
    }
   ],
   "source": [
    "balance_pre_list = [y_pre_balance_zeroR,\n",
    "                    y_pre_balance_knn,\n",
    "                    y_pre_balance_GNB,\n",
    "                    y_pre_balance_MLP,\n",
    "                    y_pre_balance_rf,\n",
    "                    y_pre_balance_lstm.tolist()\n",
    "                    ]\n",
    "\n",
    "balance_2_pre_list = [y_pre_balance_2_zeroR,\n",
    "                      y_pre_balance_2_knn,\n",
    "                      y_pre_balance_2_GNB,\n",
    "                      y_pre_balance_2_MLP,\n",
    "                      y_pre_balance_2_rf,\n",
    "                      y_pre_balance_2_lstm.tolist()\n",
    "                      ]\n",
    "\n",
    "random_pre_list = [y_pre_random_zeroR,\n",
    "                   y_pre_random_knn,\n",
    "                   y_pre_random_GNB,\n",
    "                   y_pre_random_MLP,\n",
    "                   y_pre_random_rf,\n",
    "                   y_pre_random_lstm.tolist()\n",
    "                   ]\n",
    "\n",
    "test_list = [y_balance_test,y_balance_2_test,y_random_test]\n",
    "pre_list =[balance_pre_list, balance_2_pre_list,random_pre_list]\n",
    "\n",
    "def get_metrics(y_true,y_pre):    \n",
    "    result1=[recall_score(y_true, y_pre),\n",
    "             precision_score(y_true, y_pre),\n",
    "             f1_score(y_true, y_pre)]\n",
    "    \n",
    "    y_flip_true = [0 if i else 1 for i in y_true]\n",
    "    y_flip_pre = [0 if i else 1 for i in y_pre]\n",
    "    \n",
    "    result2=[recall_score(y_flip_true, y_flip_pre),\n",
    "             precision_score(y_flip_true, y_flip_pre),\n",
    "             f1_score(y_flip_true, y_flip_pre)]\n",
    "    \n",
    "    return result1,result2\n",
    "\n",
    "result= []\n",
    "for i in range(len(test_list)):\n",
    "    test_y = test_list[i]\n",
    "    pre_y_list = pre_list[i]\n",
    "    result_list1=[]\n",
    "    result_list2=[]\n",
    "    for pre_y in pre_y_list:\n",
    "        result1,result2 = get_metrics(test_y,pre_y)\n",
    "        result_list1+=result1\n",
    "        result_list2+=result2\n",
    "    result.append(result_list1)\n",
    "    result.append(result_list2)\n",
    "\n",
    "with open('./result/percent_result.csv', 'w',newline='') as f:\n",
    "    print(\"writing..\")\n",
    "    writer = csv.writer(f)\n",
    "    for row in result:\n",
    "        writer.writerow(row)\n",
    "print(\"finish..\")"
   ]
  },
  {
   "cell_type": "code",
   "execution_count": null,
   "metadata": {},
   "outputs": [],
   "source": []
  }
 ],
 "metadata": {
  "kernelspec": {
   "display_name": "Python 3 (ipykernel)",
   "language": "python",
   "name": "python3"
  },
  "language_info": {
   "codemirror_mode": {
    "name": "ipython",
    "version": 3
   },
   "file_extension": ".py",
   "mimetype": "text/x-python",
   "name": "python",
   "nbconvert_exporter": "python",
   "pygments_lexer": "ipython3",
   "version": "3.8.12"
  },
  "pycharm": {
   "stem_cell": {
    "cell_type": "raw",
    "metadata": {
     "collapsed": false
    },
    "source": []
   }
  }
 },
 "nbformat": 4,
 "nbformat_minor": 1
}
