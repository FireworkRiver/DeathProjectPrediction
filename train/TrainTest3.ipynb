{
 "cells": [
  {
   "cell_type": "code",
   "execution_count": 1,
   "metadata": {
    "pycharm": {
     "is_executing": false,
     "name": "#%%\n"
    }
   },
   "outputs": [],
   "source": [
    "import csv\n",
    "\n",
    "def intRow(row):\n",
    "    temp = []\n",
    "    for t in row:\n",
    "        temp.append(int(t))\n",
    "    return temp\n",
    "\n",
    "def read_x(address):\n",
    "    reader = csv.reader(open(address))\n",
    "    x= [intRow(row) for row in reader]\n",
    "    return x\n",
    "\n",
    "def read_y(address):\n",
    "    reader = csv.reader(open(address))\n",
    "    list=[intRow(row) for row in reader]\n",
    "    y=sum(list,[])\n",
    "    return y\n",
    "\n",
    "x_balance_test_0 = read_x('x_balance_test.csv')\n",
    "y_balance_test = read_y('y_balance_test.csv')\n",
    "x_balance_train_0 = read_x('x_balance_train.csv')\n",
    "y_balance_train = read_y('y_balance_train.csv')\n",
    "\n",
    "x_balance_2_test_0 = read_x('x_balance2_test.csv')\n",
    "y_balance_2_test = read_y('y_balance2_test.csv')\n",
    "x_balance_2_train_0 = read_x('x_balance2_train.csv')\n",
    "y_balance_2_train = read_y('y_balance2_train.csv')\n",
    "\n",
    "x_random_test_0 = read_x('x_random_test.csv')\n",
    "y_random_test = read_y('y_random_test.csv')\n",
    "x_random_train_0 = read_x('x_random_train.csv')\n",
    "y_random_train = read_y('y_random_train.csv')\n"
   ]
  },
  {
   "cell_type": "code",
   "execution_count": 2,
   "metadata": {
    "pycharm": {
     "is_executing": false,
     "name": "#%%\n"
    }
   },
   "outputs": [],
   "source": [
    "def differences(row):\n",
    "    total_list = row[-4:]\n",
    "    num_list = row[:-4]\n",
    "    differences_list = []\n",
    "    for i in range(int(len(num_list)/4)-1):\n",
    "        t1=num_list[i*4:(i+1)*4]\n",
    "        t2=num_list[(i+1)*4:(i+2)*4]\n",
    "        differences_list += [t2[j]-t1[j] for j in range(len(t1))]\n",
    "       \n",
    "    return num_list + differences_list +total_list\n",
    "\n",
    "x_balance_test = [differences(row) for row in x_balance_test_0]\n",
    "x_balance_train = [differences(row) for row in x_balance_train_0]\n",
    "\n",
    "x_balance_2_test = [differences(row) for row in x_balance_2_test_0]\n",
    "x_balance_2_train = [differences(row) for row in x_balance_2_train_0]\n",
    "\n",
    "x_random_test =  [differences(row) for row in x_random_test_0]\n",
    "x_random_train =  [differences(row) for row in x_random_train_0]\n"
   ]
  },
  {
   "cell_type": "code",
   "execution_count": 3,
   "metadata": {
    "pycharm": {
     "name": "#%%\n"
    }
   },
   "outputs": [
    {
     "name": "stdout",
     "output_type": "stream",
     "text": [
      "ZeroR balance dead recall 0.00 precision 0.00 f1_score 0.00\n",
      "ZeroR balance alive recall 1.00 precision 0.87 f1_score 0.93\n",
      "ZeroR balance_2 dead recall 0.00 precision 0.00 f1_score 0.00\n",
      "ZeroR balance_2 alive recall 1.00 precision 0.72 f1_score 0.84\n",
      "ZeroR random dead recall 0.00 precision 0.00 f1_score 0.00\n",
      "ZeroR random alive recall 1.00 precision 0.72 f1_score 0.84\n"
     ]
    },
    {
     "name": "stderr",
     "output_type": "stream",
     "text": [
      "D:\\Anaconda\\envs\\NLP\\lib\\site-packages\\sklearn\\metrics\\_classification.py:1318: UndefinedMetricWarning: Precision is ill-defined and being set to 0.0 due to no predicted samples. Use `zero_division` parameter to control this behavior.\n",
      "  _warn_prf(average, modifier, msg_start, len(result))\n",
      "D:\\Anaconda\\envs\\NLP\\lib\\site-packages\\sklearn\\metrics\\_classification.py:1318: UndefinedMetricWarning: Precision is ill-defined and being set to 0.0 due to no predicted samples. Use `zero_division` parameter to control this behavior.\n",
      "  _warn_prf(average, modifier, msg_start, len(result))\n",
      "D:\\Anaconda\\envs\\NLP\\lib\\site-packages\\sklearn\\metrics\\_classification.py:1318: UndefinedMetricWarning: Precision is ill-defined and being set to 0.0 due to no predicted samples. Use `zero_division` parameter to control this behavior.\n",
      "  _warn_prf(average, modifier, msg_start, len(result))\n"
     ]
    }
   ],
   "source": [
    "from sklearn.metrics import accuracy_score\n",
    "from sklearn.metrics import recall_score\n",
    "from sklearn.metrics import precision_score\n",
    "from sklearn.metrics import f1_score\n",
    "\n",
    "def print_metrics(title,y_true,y_pre):\n",
    "    print(title+\" dead\",end = \" \")\n",
    "    print(\"recall %.2f\"%recall_score(y_true, y_pre),end =\" \")\n",
    "    print(\"precision %.2f\"%precision_score(y_true, y_pre),end=\" \")\n",
    "    print(\"f1_score %.2f\"%f1_score(y_true, y_pre))\n",
    "    \n",
    "    y_flip_true = [0 if i else 1 for i in y_true]\n",
    "    y_flip_pre = [0 if i else 1 for i in y_pre]\n",
    "    \n",
    "    print(title+\" alive\",end = \" \")\n",
    "    print(\"recall %.2f\"%recall_score(y_flip_true, y_flip_pre),end =\" \")\n",
    "    print(\"precision %.2f\"%precision_score(y_flip_true, y_flip_pre),end=\" \")\n",
    "    print(\"f1_score %.2f\"%f1_score(y_flip_true, y_flip_pre))\n",
    "\n",
    "y_pre_random_zeroR = [0 for i in range(len(y_random_test))]\n",
    "y_pre_balance_zeroR = [0 for i in range(len(y_balance_test))]\n",
    "y_pre_balance_2_zeroR = [0 for i in range(len(y_balance_2_test))]\n",
    "\n",
    "print_metrics(\"ZeroR balance\",y_balance_test,y_pre_balance_zeroR)\n",
    "print_metrics(\"ZeroR balance_2\",y_balance_2_test,y_pre_balance_2_zeroR)\n",
    "print_metrics(\"ZeroR random\",y_random_test,y_pre_random_zeroR)\n"
   ]
  },
  {
   "cell_type": "code",
   "execution_count": 4,
   "metadata": {
    "pycharm": {
     "name": "#%%\n"
    }
   },
   "outputs": [
    {
     "name": "stdout",
     "output_type": "stream",
     "text": [
      "Knn balance dead recall 0.63 precision 0.25 f1_score 0.36\n",
      "Knn balance alive recall 0.73 precision 0.93 f1_score 0.82\n",
      "Knn balance_2 dead recall 0.63 precision 0.47 f1_score 0.54\n",
      "Knn balance_2 alive recall 0.73 precision 0.84 f1_score 0.78\n",
      "Knn random dead recall 0.37 precision 0.53 f1_score 0.44\n",
      "Knn random alive recall 0.87 precision 0.78 f1_score 0.83\n"
     ]
    }
   ],
   "source": [
    "from sklearn.neighbors import KNeighborsClassifier\n",
    "\n",
    "knn_random = KNeighborsClassifier()\n",
    "knn_random.fit(x_random_train, y_random_train)\n",
    "y_pre_random_knn = knn_random.predict(x_random_test)\n",
    "\n",
    "knn_balance = KNeighborsClassifier()\n",
    "knn_balance.fit(x_balance_train, y_balance_train)\n",
    "y_pre_balance_knn = knn_balance.predict(x_balance_test)\n",
    "\n",
    "knn_balance_2 = KNeighborsClassifier()\n",
    "knn_balance_2.fit(x_balance_2_train, y_balance_2_train)\n",
    "y_pre_balance_2_knn = knn_balance_2.predict(x_balance_2_test)\n",
    "\n",
    "print_metrics(\"Knn balance\",y_balance_test,y_pre_balance_knn)\n",
    "print_metrics(\"Knn balance_2\",y_balance_2_test,y_pre_balance_2_knn)\n",
    "print_metrics(\"Knn random\",y_random_test,y_pre_random_knn)"
   ]
  },
  {
   "cell_type": "code",
   "execution_count": 5,
   "metadata": {
    "pycharm": {
     "name": "#%%\n"
    }
   },
   "outputs": [
    {
     "name": "stdout",
     "output_type": "stream",
     "text": [
      "NB balance dead recall 0.95 precision 0.16 f1_score 0.28\n",
      "NB balance alive recall 0.28 precision 0.97 f1_score 0.43\n",
      "NB balance_2 dead recall 0.95 precision 0.34 f1_score 0.50\n",
      "NB balance_2 alive recall 0.29 precision 0.94 f1_score 0.44\n",
      "NB random dead recall 0.96 precision 0.34 f1_score 0.50\n",
      "NB random alive recall 0.28 precision 0.94 f1_score 0.43\n"
     ]
    }
   ],
   "source": [
    "from sklearn.naive_bayes import GaussianNB,MultinomialNB,ComplementNB\n",
    "from sklearn.preprocessing import MinMaxScaler\n",
    "\n",
    "GaussianNB_random = GaussianNB()\n",
    "GaussianNB_random.fit(x_random_train, y_random_train)\n",
    "y_pre_random_GNB = GaussianNB_random.predict(x_random_test)\n",
    "\n",
    "GaussianNB_balance = GaussianNB()\n",
    "GaussianNB_balance.fit(x_balance_train, y_balance_train)\n",
    "y_pre_balance_GNB = GaussianNB_balance.predict(x_balance_test)\n",
    "\n",
    "GaussianNB_balance_2 = GaussianNB()\n",
    "GaussianNB_balance_2.fit(x_balance_2_train, y_balance_2_train)\n",
    "y_pre_balance_2_GNB = GaussianNB_balance_2.predict(x_balance_2_test)\n",
    "\n",
    "\n",
    "print_metrics(\"NB balance\",y_balance_test,y_pre_balance_GNB)\n",
    "print_metrics(\"NB balance_2\",y_balance_2_test,y_pre_balance_2_GNB)\n",
    "print_metrics(\"NB random\",y_random_test,y_pre_random_GNB)\n"
   ]
  },
  {
   "cell_type": "code",
   "execution_count": 6,
   "metadata": {
    "pycharm": {
     "name": "#%%\n"
    }
   },
   "outputs": [
    {
     "name": "stderr",
     "output_type": "stream",
     "text": [
      "D:\\Anaconda\\envs\\NLP\\lib\\site-packages\\sklearn\\neural_network\\_multilayer_perceptron.py:692: ConvergenceWarning: Stochastic Optimizer: Maximum iterations (300) reached and the optimization hasn't converged yet.\n",
      "  warnings.warn(\n"
     ]
    },
    {
     "name": "stdout",
     "output_type": "stream",
     "text": [
      "MLP balance dead recall 0.63 precision 0.25 f1_score 0.36\n",
      "MLP balance alive recall 0.73 precision 0.93 f1_score 0.82\n",
      "MLP balance_2 dead recall 0.75 precision 0.45 f1_score 0.56\n",
      "MLP balance_2 alive recall 0.65 precision 0.87 f1_score 0.75\n",
      "MLP random dead recall 0.50 precision 0.51 f1_score 0.51\n",
      "MLP random alive recall 0.81 precision 0.81 f1_score 0.81\n"
     ]
    }
   ],
   "source": [
    "from sklearn.neural_network import MLPClassifier\n",
    "\n",
    "MLP_balance = MLPClassifier(activation='logistic',max_iter=300)\n",
    "MLP_balance.fit(x_balance_train, y_balance_train)\n",
    "y_pre_balance_MLP = knn_balance.predict(x_balance_test)\n",
    "\n",
    "MLP_balance_2 = MLPClassifier(activation='logistic',max_iter=300)\n",
    "MLP_balance_2.fit(x_balance_2_train, y_balance_2_train)\n",
    "y_pre_balance_2_MLP = MLP_balance_2.predict(x_balance_2_test)\n",
    "\n",
    "MLP_random = MLPClassifier(activation='logistic',max_iter=300)\n",
    "MLP_random.fit(x_random_train, y_random_train)\n",
    "y_pre_random_MLP = MLP_random.predict(x_random_test)\n",
    "\n",
    "print_metrics(\"MLP balance\",y_balance_test,y_pre_balance_MLP)\n",
    "print_metrics(\"MLP balance_2\",y_balance_2_test,y_pre_balance_2_MLP)\n",
    "print_metrics(\"MLP random\",y_random_test,y_pre_random_MLP)"
   ]
  },
  {
   "cell_type": "code",
   "execution_count": 7,
   "metadata": {
    "pycharm": {
     "name": "#%%\n"
    }
   },
   "outputs": [
    {
     "name": "stdout",
     "output_type": "stream",
     "text": [
      "RandomForeset balance dead recall 0.81 precision 0.28 f1_score 0.41\n",
      "RandomForeset balance alive recall 0.68 precision 0.96 f1_score 0.80\n",
      "RandomForeset balance_2 dead recall 0.80 precision 0.50 f1_score 0.61\n",
      "RandomForeset balance_2 alive recall 0.69 precision 0.90 f1_score 0.78\n",
      "RandomForeset random dead recall 0.37 precision 0.59 f1_score 0.45\n",
      "RandomForeset random alive recall 0.90 precision 0.79 f1_score 0.84\n"
     ]
    }
   ],
   "source": [
    "from sklearn.ensemble import RandomForestClassifier\n",
    "\n",
    "rf_balance = RandomForestClassifier(random_state=0)\n",
    "rf_balance.fit(x_balance_train, y_balance_train)\n",
    "y_pre_balance_rf = rf_balance.predict(x_balance_test)\n",
    "\n",
    "rf_balance_2 = RandomForestClassifier(random_state=0)\n",
    "rf_balance_2.fit(x_balance_2_train, y_balance_2_train)\n",
    "y_pre_balance_2_rf = rf_balance_2.predict(x_balance_2_test)\n",
    "\n",
    "rf_random = RandomForestClassifier(random_state=0)\n",
    "rf_random.fit(x_random_train, y_random_train)\n",
    "y_pre_random_rf = rf_random.predict(x_random_test)\n",
    "\n",
    "print_metrics(\"RandomForeset balance\",y_balance_test,y_pre_balance_rf)\n",
    "print_metrics(\"RandomForeset balance_2\",y_balance_2_test,y_pre_balance_2_rf)\n",
    "print_metrics(\"RandomForeset random\",y_random_test,y_pre_random_rf)\n"
   ]
  },
  {
   "cell_type": "code",
   "execution_count": 8,
   "metadata": {
    "pycharm": {
     "name": "#%%\n"
    }
   },
   "outputs": [],
   "source": [
    "import tensorflow as tf\n",
    "from tensorflow import keras\n",
    "from tensorflow.keras import layers\n",
    "import matplotlib.pyplot as plt\n",
    "import matplotlib.cm as cm\n",
    "import numpy as np\n",
    "\n",
    "\n",
    "input_length = len(x_balance_test[0])\n",
    "callback = tf.keras.callbacks.EarlyStopping(monitor='val_loss', patience=3)\n"
   ]
  },
  {
   "cell_type": "code",
   "execution_count": 9,
   "metadata": {
    "pycharm": {
     "name": "#%%\n"
    }
   },
   "outputs": [
    {
     "name": "stdout",
     "output_type": "stream",
     "text": [
      "Epoch 1/20\n",
      "100/100 [==============================] - 10s 34ms/step - loss: 0.5960 - accuracy: 0.6906 - recall: 0.6987 - val_loss: 0.5964 - val_accuracy: 0.6737 - val_recall: 0.7125\n",
      "Epoch 2/20\n",
      "100/100 [==============================] - 2s 21ms/step - loss: 0.5816 - accuracy: 0.7088 - recall: 0.7740 - val_loss: 0.5797 - val_accuracy: 0.6975 - val_recall: 0.7568\n",
      "Epoch 3/20\n",
      "100/100 [==============================] - 2s 21ms/step - loss: 0.5711 - accuracy: 0.7100 - recall: 0.7665 - val_loss: 0.5875 - val_accuracy: 0.7013 - val_recall: 0.7125\n",
      "Epoch 4/20\n",
      "100/100 [==============================] - 2s 21ms/step - loss: 0.5682 - accuracy: 0.7103 - recall: 0.8010 - val_loss: 0.5823 - val_accuracy: 0.6975 - val_recall: 0.7592\n",
      "Epoch 5/20\n",
      "100/100 [==============================] - 2s 21ms/step - loss: 0.5673 - accuracy: 0.7169 - recall: 0.7834 - val_loss: 0.5829 - val_accuracy: 0.7000 - val_recall: 0.7912\n"
     ]
    },
    {
     "data": {
      "image/png": "[encoded data removed]",
      "text/plain": [
       "<Figure size 432x288 with 1 Axes>"
      ]
     },
     "metadata": {
      "needs_background": "light"
     },
     "output_type": "display_data"
    },
    {
     "name": "stdout",
     "output_type": "stream",
     "text": [
      "188/188 [==============================] - 2s 10ms/step\n",
      "lstm balance dead recall 0.80 precision 0.24 f1_score 0.37\n",
      "lstm balance alive recall 0.61 precision 0.95 f1_score 0.75\n"
     ]
    }
   ],
   "source": [
    "lstm = keras.Sequential()\n",
    "lstm.add(layers.LSTM(units=100, activation='tanh', return_sequences=True, input_shape=(input_length, 1)))\n",
    "lstm.add(layers.Dropout(0.5))\n",
    "lstm.add(layers.LSTM(units=50, activation='tanh', return_sequences=False))\n",
    "lstm.add(layers.Dropout(0.5))\n",
    "lstm.add(layers.Dense(1, activation='sigmoid'))\n",
    "\n",
    "lstm.compile(optimizer='adam',\n",
    "            loss='binary_crossentropy',\n",
    "            metrics=['accuracy',tf.keras.metrics.Recall()])\n",
    "\n",
    "history_lstm = lstm.fit(np.array(x_balance_train), np.array(y_balance_train),validation_split=0.2,callbacks=[callback],epochs=20)\n",
    "plt.plot(history_lstm.history['accuracy'], label='Train')\n",
    "plt.plot(history_lstm.history['val_accuracy'], label='Validation')\n",
    "plt.ylabel('Accuracy')\n",
    "plt.xlabel('Epoch')\n",
    "plt.title('Training and validating accuracy')\n",
    "plt.legend()\n",
    "plt.show()\n",
    "\n",
    "y_pre_balance_lstm = (lstm.predict(x_balance_test) > 0.5).astype(\"int32\").flatten()\n",
    "print_metrics(\"lstm balance\",y_balance_test,y_pre_balance_lstm.tolist())"
   ]
  },
  {
   "cell_type": "code",
   "execution_count": 10,
   "metadata": {
    "pycharm": {
     "name": "#%%\n"
    }
   },
   "outputs": [
    {
     "name": "stdout",
     "output_type": "stream",
     "text": [
      "Epoch 1/20\n",
      "98/98 [==============================] - 9s 57ms/step - loss: 0.6074 - accuracy: 0.6776 - recall_1: 0.7185 - val_loss: 0.5949 - val_accuracy: 0.6965 - val_recall_1: 0.7270\n",
      "Epoch 2/20\n",
      "98/98 [==============================] - 5s 55ms/step - loss: 0.5879 - accuracy: 0.7035 - recall_1: 0.7715 - val_loss: 0.5847 - val_accuracy: 0.6940 - val_recall_1: 0.8015\n",
      "Epoch 3/20\n",
      "98/98 [==============================] - 6s 61ms/step - loss: 0.5758 - accuracy: 0.7125 - recall_1: 0.8037 - val_loss: 0.5847 - val_accuracy: 0.6914 - val_recall_1: 0.7717\n",
      "Epoch 4/20\n",
      "98/98 [==============================] - 6s 60ms/step - loss: 0.5678 - accuracy: 0.7185 - recall_1: 0.8050 - val_loss: 0.5814 - val_accuracy: 0.6825 - val_recall_1: 0.8015\n",
      "Epoch 5/20\n",
      "98/98 [==============================] - 6s 61ms/step - loss: 0.5774 - accuracy: 0.7054 - recall_1: 0.7824 - val_loss: 0.5800 - val_accuracy: 0.6889 - val_recall_1: 0.8213\n",
      "Epoch 6/20\n",
      "98/98 [==============================] - 6s 61ms/step - loss: 0.5727 - accuracy: 0.7150 - recall_1: 0.8025 - val_loss: 0.5811 - val_accuracy: 0.6940 - val_recall_1: 0.7568\n",
      "Epoch 7/20\n",
      "98/98 [==============================] - 6s 61ms/step - loss: 0.5688 - accuracy: 0.7176 - recall_1: 0.8089 - val_loss: 0.5787 - val_accuracy: 0.6940 - val_recall_1: 0.7270\n",
      "Epoch 8/20\n",
      "98/98 [==============================] - 5s 52ms/step - loss: 0.5681 - accuracy: 0.7118 - recall_1: 0.8025 - val_loss: 0.5840 - val_accuracy: 0.6940 - val_recall_1: 0.7717\n",
      "Epoch 9/20\n",
      "98/98 [==============================] - 3s 28ms/step - loss: 0.5686 - accuracy: 0.7128 - recall_1: 0.7902 - val_loss: 0.5784 - val_accuracy: 0.6901 - val_recall_1: 0.7940\n",
      "Epoch 10/20\n",
      "98/98 [==============================] - 3s 31ms/step - loss: 0.5674 - accuracy: 0.7176 - recall_1: 0.7992 - val_loss: 0.5711 - val_accuracy: 0.7068 - val_recall_1: 0.7643\n",
      "Epoch 11/20\n",
      "98/98 [==============================] - 4s 42ms/step - loss: 0.5655 - accuracy: 0.7157 - recall_1: 0.8057 - val_loss: 0.5800 - val_accuracy: 0.6914 - val_recall_1: 0.8015\n",
      "Epoch 12/20\n",
      "98/98 [==============================] - 3s 28ms/step - loss: 0.5642 - accuracy: 0.7233 - recall_1: 0.7986 - val_loss: 0.5774 - val_accuracy: 0.6850 - val_recall_1: 0.7916\n",
      "Epoch 13/20\n",
      "98/98 [==============================] - 5s 48ms/step - loss: 0.5589 - accuracy: 0.7208 - recall_1: 0.8076 - val_loss: 0.5757 - val_accuracy: 0.7017 - val_recall_1: 0.7568\n"
     ]
    },
    {
     "data": {
      "image/png": "[encoded data removed]",
      "text/plain": [
       "<Figure size 432x288 with 1 Axes>"
      ]
     },
     "metadata": {
      "needs_background": "light"
     },
     "output_type": "display_data"
    },
    {
     "name": "stdout",
     "output_type": "stream",
     "text": [
      "94/94 [==============================] - 3s 24ms/step\n",
      "lstm balance_2 dead recall 0.77 precision 0.47 f1_score 0.58\n",
      "lstm balance_2 alive recall 0.67 precision 0.88 f1_score 0.76\n"
     ]
    }
   ],
   "source": [
    "lstm3 = keras.Sequential()\n",
    "lstm3.add(layers.LSTM(units=100, activation='tanh', return_sequences=True, input_shape=(input_length, 1)))\n",
    "lstm3.add(layers.Dropout(0.5))\n",
    "lstm3.add(layers.LSTM(units=50, activation='tanh', return_sequences=False))\n",
    "lstm3.add(layers.Dropout(0.5))\n",
    "lstm3.add(layers.Dense(1, activation='sigmoid'))\n",
    "\n",
    "lstm3.compile(optimizer='adam',\n",
    "            loss='binary_crossentropy',\n",
    "            metrics=['accuracy',tf.keras.metrics.Recall()])\n",
    "\n",
    "history_lstm3 = lstm3.fit(np.array(x_balance_2_train), np.array(y_balance_2_train),validation_split=0.2,callbacks=[callback],epochs=20)\n",
    "plt.plot(history_lstm.history['accuracy'], label='Train')\n",
    "plt.plot(history_lstm.history['val_accuracy'], label='Validation')\n",
    "plt.ylabel('Accuracy')\n",
    "plt.xlabel('Epoch')\n",
    "plt.title('Training and validating accuracy')\n",
    "plt.legend()\n",
    "plt.show()\n",
    "\n",
    "y_pre_balance_2_lstm = (lstm3.predict(x_balance_2_test) > 0.5).astype(\"int32\").flatten()\n",
    "print_metrics(\"lstm balance_2\",y_balance_2_test,y_pre_balance_2_lstm.tolist())"
   ]
  },
  {
   "cell_type": "code",
   "execution_count": 11,
   "metadata": {
    "pycharm": {
     "name": "#%%\n"
    }
   },
   "outputs": [
    {
     "name": "stdout",
     "output_type": "stream",
     "text": [
      "Epoch 1/20\n",
      "175/175 [==============================] - 17s 81ms/step - loss: 0.5180 - accuracy: 0.7154 - recall_2: 0.2628 - val_loss: 0.4994 - val_accuracy: 0.7336 - val_recall_2: 0.4485\n",
      "Epoch 2/20\n",
      "175/175 [==============================] - 14s 80ms/step - loss: 0.4979 - accuracy: 0.7334 - recall_2: 0.3455 - val_loss: 0.4912 - val_accuracy: 0.7371 - val_recall_2: 0.1804\n",
      "Epoch 3/20\n",
      "175/175 [==============================] - 13s 76ms/step - loss: 0.4969 - accuracy: 0.7329 - recall_2: 0.3423 - val_loss: 0.4906 - val_accuracy: 0.7421 - val_recall_2: 0.2758\n",
      "Epoch 4/20\n",
      "175/175 [==============================] - 14s 79ms/step - loss: 0.4934 - accuracy: 0.7380 - recall_2: 0.3391 - val_loss: 0.4875 - val_accuracy: 0.7386 - val_recall_2: 0.2577\n",
      "Epoch 5/20\n",
      "175/175 [==============================] - 13s 74ms/step - loss: 0.4907 - accuracy: 0.7420 - recall_2: 0.3788 - val_loss: 0.4865 - val_accuracy: 0.7500 - val_recall_2: 0.4536\n",
      "Epoch 6/20\n",
      "175/175 [==============================] - 6s 37ms/step - loss: 0.4883 - accuracy: 0.7496 - recall_2: 0.3942 - val_loss: 0.4858 - val_accuracy: 0.7371 - val_recall_2: 0.5026\n",
      "Epoch 7/20\n",
      "175/175 [==============================] - 9s 54ms/step - loss: 0.4867 - accuracy: 0.7504 - recall_2: 0.3923 - val_loss: 0.4907 - val_accuracy: 0.7450 - val_recall_2: 0.2088\n",
      "Epoch 8/20\n",
      "175/175 [==============================] - 12s 71ms/step - loss: 0.4920 - accuracy: 0.7441 - recall_2: 0.3590 - val_loss: 0.4853 - val_accuracy: 0.7464 - val_recall_2: 0.3969\n",
      "Epoch 9/20\n",
      "175/175 [==============================] - 16s 93ms/step - loss: 0.4913 - accuracy: 0.7471 - recall_2: 0.3910 - val_loss: 0.4848 - val_accuracy: 0.7493 - val_recall_2: 0.4072\n",
      "Epoch 10/20\n",
      "175/175 [==============================] - 37s 211ms/step - loss: 0.4861 - accuracy: 0.7452 - recall_2: 0.3878 - val_loss: 0.4863 - val_accuracy: 0.7450 - val_recall_2: 0.4665\n",
      "Epoch 11/20\n",
      "175/175 [==============================] - 16s 91ms/step - loss: 0.4879 - accuracy: 0.7462 - recall_2: 0.4026 - val_loss: 0.4825 - val_accuracy: 0.7479 - val_recall_2: 0.3711\n",
      "Epoch 12/20\n",
      "175/175 [==============================] - 16s 90ms/step - loss: 0.4885 - accuracy: 0.7437 - recall_2: 0.3718 - val_loss: 0.4884 - val_accuracy: 0.7450 - val_recall_2: 0.2680\n",
      "Epoch 13/20\n",
      "175/175 [==============================] - 15s 86ms/step - loss: 0.4882 - accuracy: 0.7402 - recall_2: 0.3596 - val_loss: 0.4906 - val_accuracy: 0.7464 - val_recall_2: 0.3763\n",
      "Epoch 14/20\n",
      "175/175 [==============================] - 19s 110ms/step - loss: 0.4855 - accuracy: 0.7436 - recall_2: 0.3949 - val_loss: 0.4909 - val_accuracy: 0.7450 - val_recall_2: 0.3119\n"
     ]
    },
    {
     "data": {
      "image/png": "[encoded data removed]",
      "text/plain": [
       "<Figure size 432x288 with 1 Axes>"
      ]
     },
     "metadata": {
      "needs_background": "light"
     },
     "output_type": "display_data"
    },
    {
     "name": "stdout",
     "output_type": "stream",
     "text": [
      "94/94 [==============================] - 7s 68ms/step\n",
      "lstm random dead recall 0.31 precision 0.56 f1_score 0.40\n",
      "lstm random alive recall 0.91 precision 0.78 f1_score 0.84\n"
     ]
    }
   ],
   "source": [
    "lstm2 = keras.Sequential()\n",
    "lstm2.add(layers.LSTM(units=100, activation='tanh', return_sequences=True, input_shape=(input_length, 1)))\n",
    "lstm2.add(layers.Dropout(0.2))\n",
    "lstm2.add(layers.LSTM(units=50, activation='tanh', return_sequences=False))\n",
    "lstm2.add(layers.Dropout(0.2))\n",
    "lstm2.add(layers.Dense(1, activation='sigmoid'))\n",
    "\n",
    "\n",
    "lstm2.compile(optimizer='adam',\n",
    "            loss='binary_crossentropy',\n",
    "            metrics=['accuracy',tf.keras.metrics.Recall()])\n",
    "\n",
    "history_lstm2 = lstm2.fit(np.array(x_random_train), np.array(y_random_train),validation_split=0.2,callbacks=[callback], epochs=20)\n",
    "plt.plot(history_lstm2.history['accuracy'], label='train')\n",
    "plt.plot(history_lstm2.history['val_accuracy'], label='Validation')\n",
    "plt.ylabel('Accuracy')\n",
    "plt.xlabel('Epoch')\n",
    "plt.title('Training and validating accuracy')\n",
    "plt.legend()\n",
    "plt.show()\n",
    "\n",
    "y_pre_random_lstm = (lstm2.predict(x_random_test) > 0.5).astype(\"int32\").flatten()\n",
    "print_metrics(\"lstm random\",y_random_test,y_pre_random_lstm.tolist())"
   ]
  },
  {
   "cell_type": "code",
   "execution_count": 12,
   "metadata": {},
   "outputs": [
    {
     "name": "stderr",
     "output_type": "stream",
     "text": [
      "D:\\Anaconda\\envs\\NLP\\lib\\site-packages\\sklearn\\metrics\\_classification.py:1318: UndefinedMetricWarning: Precision is ill-defined and being set to 0.0 due to no predicted samples. Use `zero_division` parameter to control this behavior.\n",
      "  _warn_prf(average, modifier, msg_start, len(result))\n",
      "D:\\Anaconda\\envs\\NLP\\lib\\site-packages\\sklearn\\metrics\\_classification.py:1318: UndefinedMetricWarning: Precision is ill-defined and being set to 0.0 due to no predicted samples. Use `zero_division` parameter to control this behavior.\n",
      "  _warn_prf(average, modifier, msg_start, len(result))\n",
      "D:\\Anaconda\\envs\\NLP\\lib\\site-packages\\sklearn\\metrics\\_classification.py:1318: UndefinedMetricWarning: Precision is ill-defined and being set to 0.0 due to no predicted samples. Use `zero_division` parameter to control this behavior.\n",
      "  _warn_prf(average, modifier, msg_start, len(result))\n"
     ]
    },
    {
     "name": "stdout",
     "output_type": "stream",
     "text": [
      "writing..\n",
      "finish..\n"
     ]
    }
   ],
   "source": [
    "balance_pre_list = [y_pre_balance_zeroR,\n",
    "                    y_pre_balance_knn,\n",
    "                    y_pre_balance_GNB,\n",
    "                    y_pre_balance_MLP,\n",
    "                    y_pre_balance_rf,\n",
    "                    y_pre_balance_lstm.tolist()\n",
    "                    ]\n",
    "\n",
    "balance_2_pre_list = [y_pre_balance_2_zeroR,\n",
    "                      y_pre_balance_2_knn,\n",
    "                      y_pre_balance_2_GNB,\n",
    "                      y_pre_balance_2_MLP,\n",
    "                      y_pre_balance_2_rf,\n",
    "                      y_pre_balance_2_lstm.tolist()\n",
    "                      ]\n",
    "\n",
    "random_pre_list = [y_pre_random_zeroR,\n",
    "                   y_pre_random_knn,\n",
    "                   y_pre_random_GNB,\n",
    "                   y_pre_random_MLP,\n",
    "                   y_pre_random_rf,\n",
    "                   y_pre_random_lstm.tolist()\n",
    "                   ]\n",
    "\n",
    "test_list = [y_balance_test,y_balance_2_test,y_random_test]\n",
    "pre_list =[balance_pre_list, balance_2_pre_list,random_pre_list]\n",
    "\n",
    "def get_metrics(y_true,y_pre):    \n",
    "    result1=[recall_score(y_true, y_pre),\n",
    "             precision_score(y_true, y_pre),\n",
    "             f1_score(y_true, y_pre)]\n",
    "    \n",
    "    y_flip_true = [0 if i else 1 for i in y_true]\n",
    "    y_flip_pre = [0 if i else 1 for i in y_pre]\n",
    "    \n",
    "    result2=[recall_score(y_flip_true, y_flip_pre),\n",
    "             precision_score(y_flip_true, y_flip_pre),\n",
    "             f1_score(y_flip_true, y_flip_pre)]\n",
    "    \n",
    "    return result1,result2\n",
    "\n",
    "result= []\n",
    "for i in range(len(test_list)):\n",
    "    test_y = test_list[i]\n",
    "    pre_y_list = pre_list[i]\n",
    "    result_list1=[]\n",
    "    result_list2=[]\n",
    "    for pre_y in pre_y_list:\n",
    "        result1,result2 = get_metrics(test_y,pre_y)\n",
    "        result_list1+=result1\n",
    "        result_list2+=result2\n",
    "    result.append(result_list1)\n",
    "    result.append(result_list2)\n",
    "\n",
    "with open('./result/diff_result.csv', 'w',newline='') as f:\n",
    "    print(\"writing..\")\n",
    "    writer = csv.writer(f)\n",
    "    for row in result:\n",
    "        writer.writerow(row)\n",
    "print(\"finish..\")"
   ]
  },
  {
   "cell_type": "code",
   "execution_count": null,
   "metadata": {},
   "outputs": [],
   "source": []
  }
 ],
 "metadata": {
  "kernelspec": {
   "display_name": "Python 3 (ipykernel)",
   "language": "python",
   "name": "python3"
  },
  "language_info": {
   "codemirror_mode": {
    "name": "ipython",
    "version": 3
   },
   "file_extension": ".py",
   "mimetype": "text/x-python",
   "name": "python",
   "nbconvert_exporter": "python",
   "pygments_lexer": "ipython3",
   "version": "3.8.12"
  },
  "pycharm": {
   "stem_cell": {
    "cell_type": "raw",
    "metadata": {
     "collapsed": false
    },
    "source": []
   }
  }
 },
 "nbformat": 4,
 "nbformat_minor": 1
}
