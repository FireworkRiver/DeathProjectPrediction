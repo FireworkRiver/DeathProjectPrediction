{
 "cells": [
  {
   "cell_type": "code",
   "execution_count": 1,
   "metadata": {
    "collapsed": true,
    "pycharm": {
     "is_executing": false,
     "name": "#%%\n"
    }
   },
   "outputs": [],
   "source": [
    "import csv\n",
    "\n",
    "def intRow(row):\n",
    "    temp = []\n",
    "    for t in row:\n",
    "        temp.append(int(t))\n",
    "    return temp\n",
    "\n",
    "def read_x(address):\n",
    "    reader = csv.reader(open(address))\n",
    "    x= [intRow(row) for row in reader]\n",
    "    return x\n",
    "\n",
    "def read_y(address):\n",
    "    reader = csv.reader(open(address))\n",
    "    list=[intRow(row) for row in reader]\n",
    "    y=sum(list,[])\n",
    "    return y\n",
    "\n",
    "x_balance_test_0 = read_x('x_balance_test.csv')\n",
    "y_balance_test = read_y('y_balance_test.csv')\n",
    "\n",
    "x_balance_train_0 = read_x('x_balance_train.csv')\n",
    "y_balance_train = read_y('y_balance_train.csv')\n",
    "\n",
    "x_random_test_0 = read_x('x_random_test.csv')\n",
    "y_random_test = read_y('y_random_test.csv')\n",
    "\n",
    "x_random_train_0 = read_x('x_random_train.csv')\n",
    "y_random_train = read_y('y_random_train.csv')\n"
   ]
  },
  {
   "cell_type": "code",
   "execution_count": 4,
   "metadata": {
    "pycharm": {
     "is_executing": false,
     "name": "#%%\n"
    }
   },
   "outputs": [
    {
     "name": "stdout",
     "output_type": "stream",
     "text": [
      "192\n"
     ]
    }
   ],
   "source": [
    "def NormalLine(row):\n",
    "    total = sum(row[-4:])\n",
    "    if total == 0:\n",
    "        total = 1\n",
    "    return [i/total for i in row]\n",
    "\n",
    "def differences(row):\n",
    "    total_list = row[-4:]\n",
    "    num_list = row[:-4]\n",
    "    differences_list = []\n",
    "    for i in range(int(len(num_list)/4)-1):\n",
    "        t1=num_list[i*4:(i+1)*4]\n",
    "        t2=num_list[(i+1)*4:(i+2)*4]\n",
    "        differences_list += [t2[j]-t1[j] for j in range(len(t1))]\n",
    "       \n",
    "    return num_list + differences_list +total_list\n",
    "\n",
    "x_balance_test = [differences(NormalLine(row)) for row in x_balance_test_0]\n",
    "\n",
    "x_balance_train = [differences(NormalLine(row)) for row in x_balance_train_0]\n",
    "\n",
    "x_random_test =  [differences(NormalLine(row)) for row in x_random_test_0]\n",
    "\n",
    "x_random_train =  [differences(NormalLine(row)) for row in x_random_train_0]\n"
   ]
  },
  {
   "cell_type": "code",
   "execution_count": null,
   "metadata": {
    "pycharm": {
     "name": "#%%\n"
    }
   },
   "outputs": [],
   "source": [
    "from sklearn.metrics import accuracy_score\n",
    "from sklearn.metrics import recall_score\n",
    "\n",
    "y_pre_random_zeroR = [0 for i in range(len(y_random_test))]\n",
    "y_pre_balance_zeroR = [0 for i in range(len(y_balance_test))]\n",
    "\n",
    "print(\"ZeroR random acc:\", accuracy_score(y_random_test, y_pre_random_zeroR),\"recall：\",recall_score(y_random_test, y_pre_random_zeroR))\n",
    "print(\"ZeroR balance acc:\", accuracy_score(y_balance_test, y_pre_balance_zeroR),\"recall：\",recall_score(y_balance_test, y_pre_balance_zeroR))"
   ]
  },
  {
   "cell_type": "code",
   "execution_count": null,
   "metadata": {
    "pycharm": {
     "name": "#%%\n"
    }
   },
   "outputs": [],
   "source": [
    "from sklearn.neighbors import KNeighborsClassifier\n",
    "\n",
    "knn_balance = KNeighborsClassifier()\n",
    "\n",
    "knn_balance.fit(x_balance_train, y_balance_train)\n",
    "y_pre_balance_knn = knn_balance.predict(x_balance_test)\n",
    "\n",
    "print(\"Knn balance acc:\", accuracy_score(y_balance_test, y_pre_balance_knn))\n",
    "print(\"Knn balance recall:\", recall_score(y_balance_test, y_pre_balance_knn))\n",
    "\n",
    "knn_random = KNeighborsClassifier()\n",
    "knn_random.fit(x_random_train, y_random_train)\n",
    "y_pre_random_knn = knn_random.predict(x_random_test)\n",
    "\n",
    "print(\"Knn random acc:\", accuracy_score(y_random_test, y_pre_random_knn))\n",
    "print(\"Knn random recall:\", recall_score(y_random_test, y_pre_random_knn))"
   ]
  },
  {
   "cell_type": "code",
   "execution_count": null,
   "metadata": {
    "pycharm": {
     "name": "#%%\n"
    }
   },
   "outputs": [],
   "source": [
    "from sklearn.naive_bayes import GaussianNB,ComplementNB\n",
    "from sklearn.preprocessing import MinMaxScaler\n",
    "\n",
    "GaussianNB_random = GaussianNB()\n",
    "GaussianNB_random.fit(x_random_train, y_random_train)\n",
    "y_pre_random_GNB = GaussianNB_random.predict(x_random_test)\n",
    "print(\"GaussianNB random acc:\", accuracy_score(y_random_test, y_pre_random_GNB))\n",
    "print(\"GaussianNB random recall:\", recall_score(y_random_test, y_pre_random_GNB))\n",
    "\n",
    "ComplementNB_random = ComplementNB()\n",
    "ComplementNB_random.fit(x_random_train, y_random_train)\n",
    "y_pre_random_ComNB = ComplementNB_random.predict(x_random_test)\n",
    "print(\"ComplementNB random acc:\", accuracy_score(y_random_test, y_pre_random_ComNB))\n",
    "print(\"ComplementNB random recall:\", recall_score(y_random_test, y_pre_random_ComNB))\n",
    "\n",
    "GaussianNB_balance = GaussianNB()\n",
    "GaussianNB_balance.fit(x_balance_train, y_balance_train)\n",
    "y_pre_balance_GNB = GaussianNB_balance.predict(x_balance_test)\n",
    "print(\"GaussianNB balance acc:\", accuracy_score(y_balance_test, y_pre_balance_GNB))\n",
    "print(\"GaussianNB balance recall:\", recall_score(y_balance_test, y_pre_balance_GNB))\n",
    "\n",
    "ComplementNB_balance = ComplementNB()\n",
    "ComplementNB_balance.fit(x_balance_train, y_balance_train)\n",
    "y_pre_balance_ComNB = ComplementNB_balance.predict(x_balance_test)\n",
    "print(\"ComplementNB balance acc:\", accuracy_score(y_balance_test, y_pre_balance_ComNB))\n",
    "print(\"ComplementNB balance recall:\", recall_score(y_balance_test, y_pre_balance_ComNB))"
   ]
  },
  {
   "cell_type": "code",
   "execution_count": null,
   "metadata": {
    "pycharm": {
     "name": "#%%\n"
    }
   },
   "outputs": [],
   "source": [
    "from sklearn.neural_network import MLPClassifier\n",
    "\n",
    "MLP_balance = MLPClassifier(activation='logistic')\n",
    "MLP_balance.fit(x_balance_train, y_balance_train)\n",
    "y_pre_balance_MLP = knn_balance.predict(x_balance_test)\n",
    "\n",
    "print(\"MLP balance acc:\", accuracy_score(y_balance_test, y_pre_balance_MLP))\n",
    "print(\"MLP balance recall:\", recall_score(y_balance_test, y_pre_balance_MLP))\n",
    "\n",
    "MLP_random = MLPClassifier(activation='logistic')\n",
    "MLP_random.fit(x_random_train, y_random_train)\n",
    "y_pre_random_MLP = MLP_random.predict(x_random_test)\n",
    "\n",
    "print(\"MLP random acc:\", accuracy_score(y_random_test, y_pre_random_MLP))\n",
    "print(\"MLP random recall:\", recall_score(y_random_test, y_pre_random_MLP))\n"
   ]
  },
  {
   "cell_type": "code",
   "execution_count": null,
   "metadata": {
    "pycharm": {
     "name": "#%%\n"
    }
   },
   "outputs": [],
   "source": [
    "\n",
    "from sklearn.ensemble import RandomForestClassifier\n",
    "\n",
    "rf_balance = RandomForestClassifier(random_state=0)\n",
    "rf_balance.fit(x_balance_train, y_balance_train)\n",
    "y_pre_balance_rf = rf_balance.predict(x_balance_test)\n",
    "\n",
    "print(\"RF balance acc:\", accuracy_score(y_balance_test, y_pre_balance_rf))\n",
    "print(\"RF balance recall:\", recall_score(y_balance_test, y_pre_balance_rf))\n",
    "\n",
    "rf_random = RandomForestClassifier(random_state=0)\n",
    "rf_random.fit(x_random_train, y_random_train)\n",
    "y_pre_random_rf = rf_random.predict(x_random_test)\n",
    "\n",
    "print(\"RF random acc:\", accuracy_score(y_random_test, y_pre_random_rf))\n",
    "print(\"RF random recall:\", recall_score(y_random_test, y_pre_random_rf))\n"
   ]
  },
  {
   "cell_type": "code",
   "execution_count": null,
   "metadata": {
    "pycharm": {
     "name": "#%%\n"
    }
   },
   "outputs": [],
   "source": [
    "import tensorflow as tf\n",
    "from tensorflow import keras\n",
    "from tensorflow.keras import layers\n",
    "import matplotlib.pyplot as plt\n",
    "import matplotlib.cm as cm\n",
    "import numpy as np\n",
    "\n",
    "\n",
    "input_length = len(x_balance_test[0])\n",
    "callback = tf.keras.callbacks.EarlyStopping(monitor='loss', patience=3)\n"
   ]
  },
  {
   "cell_type": "code",
   "execution_count": null,
   "metadata": {
    "pycharm": {
     "name": "#%%\n"
    }
   },
   "outputs": [],
   "source": [
    "lstm = keras.Sequential()\n",
    "lstm.add(layers.LSTM(units=100, activation='tanh', return_sequences=True, input_shape=(input_length, 1)))\n",
    "lstm.add(layers.Dropout(0.5))\n",
    "lstm.add(layers.LSTM(units=50, activation='tanh', return_sequences=False))\n",
    "lstm.add(layers.Dropout(0.5))\n",
    "lstm.add(layers.Dense(1, activation='sigmoid'))\n",
    "\n",
    "lstm.compile(optimizer='adam',\n",
    "            loss='binary_crossentropy',\n",
    "            metrics=['accuracy',tf.keras.metrics.Recall()])\n",
    "\n",
    "history_lstm = lstm.fit(x_balance_train, y_balance_train,callbacks=[callback],epochs=20)\n",
    "plt.plot(history_lstm.history['accuracy'], label='Train')\n",
    "plt.ylabel('Accuracy')\n",
    "plt.xlabel('Epoch')\n",
    "plt.title('Training and validating accuracy')\n",
    "plt.legend()\n",
    "plt.show()\n",
    "\n",
    "test_results = lstm.evaluate(x_balance_test, y_balance_test)\n",
    "print(f'Balance Loss: {test_results[0]} - Accuracy: {test_results[1]} -recall: {test_results[2]}')"
   ]
  },
  {
   "cell_type": "code",
   "execution_count": null,
   "metadata": {
    "pycharm": {
     "name": "#%%\n"
    }
   },
   "outputs": [],
   "source": [
    "lstm2 = keras.Sequential()\n",
    "lstm2.add(layers.LSTM(units=100, activation='tanh', return_sequences=True, input_shape=(input_length, 1)))\n",
    "lstm2.add(layers.Dropout(0.2))\n",
    "lstm2.add(layers.LSTM(units=50, activation='tanh', return_sequences=False))\n",
    "lstm2.add(layers.Dropout(0.2))\n",
    "lstm2.add(layers.Dense(1, activation='sigmoid'))\n",
    "\n",
    "\n",
    "lstm2.compile(optimizer='adam',\n",
    "            loss='binary_crossentropy',\n",
    "            metrics=['accuracy',tf.keras.metrics.Recall()])\n",
    "\n",
    "history_lstm2 = lstm2.fit(x_random_train, y_random_train,callbacks=[callback], epochs=20)\n",
    "plt.plot(history_lstm2.history['accuracy'], label='Acc')\n",
    "plt.ylabel('Accuracy')\n",
    "plt.xlabel('Epoch')\n",
    "plt.title('Training and validating accuracy')\n",
    "plt.legend()\n",
    "plt.show()\n",
    "\n",
    "test_results = lstm2.evaluate(x_random_test, y_random_test)\n",
    "print(f'Random Loss: {test_results[0]} - Accuracy: {test_results[1]} -recall: {test_results[2]}')\n"
   ]
  }
 ],
 "metadata": {
  "kernelspec": {
   "display_name": "Python 3 (ipykernel)",
   "language": "python",
   "name": "python3"
  },
  "language_info": {
   "codemirror_mode": {
    "name": "ipython",
    "version": 3
   },
   "file_extension": ".py",
   "mimetype": "text/x-python",
   "name": "python",
   "nbconvert_exporter": "python",
   "pygments_lexer": "ipython3",
   "version": "3.8.12"
  },
  "pycharm": {
   "stem_cell": {
    "cell_type": "raw",
    "metadata": {
     "collapsed": false
    },
    "source": []
   }
  }
 },
 "nbformat": 4,
 "nbformat_minor": 1
}
