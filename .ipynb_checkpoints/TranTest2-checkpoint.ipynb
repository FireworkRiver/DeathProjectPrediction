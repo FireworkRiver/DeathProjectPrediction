{
 "cells": [
  {
   "cell_type": "code",
   "execution_count": 1,
   "metadata": {
    "pycharm": {
     "is_executing": true,
     "name": "#%%\n"
    }
   },
   "outputs": [],
   "source": [
    "import csv\n",
    "\n",
    "def intRow(row):\n",
    "    temp = []\n",
    "    for t in row:\n",
    "        temp.append(int(t))\n",
    "    return temp\n",
    "\n",
    "def read_x(address):\n",
    "    reader = csv.reader(open(address))\n",
    "    x= [intRow(row) for row in reader]\n",
    "    return x\n",
    "\n",
    "def read_y(address):\n",
    "    reader = csv.reader(open(address))\n",
    "    list=[intRow(row) for row in reader]\n",
    "    y=sum(list,[])\n",
    "    return y\n",
    "\n",
    "x_balance_test_0 = read_x('x_balance_test.csv')\n",
    "y_balance_test = read_y('y_balance_test.csv')\n",
    "\n",
    "x_balance_train_0 = read_x('x_balance_train.csv')\n",
    "y_balance_train = read_y('y_balance_train.csv')\n",
    "\n",
    "x_random_test_0 = read_x('x_random_test.csv')\n",
    "y_random_test = read_y('y_random_test.csv')\n",
    "\n",
    "x_random_train_0 = read_x('x_random_train.csv')\n",
    "y_random_train = read_y('y_random_train.csv')\n",
    "\n",
    "def NormalLine(row):\n",
    "    total = sum(row[-4:])\n",
    "    if total == 0:\n",
    "        total = 1\n",
    "    return [i/total for i in row]\n",
    "\n",
    "x_balance_test = [NormalLine(row) for row in x_balance_test_0]\n",
    "\n",
    "x_balance_train = [NormalLine(row) for row in x_balance_train_0]\n",
    "\n",
    "x_random_test =  [NormalLine(row) for row in x_random_test_0]\n",
    "\n",
    "x_random_train =  [NormalLine(row) for row in x_random_train_0]"
   ]
  },
  {
   "cell_type": "code",
   "execution_count": 2,
   "metadata": {
    "pycharm": {
     "is_executing": true,
     "name": "#%%\n"
    }
   },
   "outputs": [
    {
     "name": "stdout",
     "output_type": "stream",
     "text": [
      "ZeroR random acc: 0.7226497156239545 recall： 0.0\n",
      "ZeroR balance acc: 0.870262147269995 recall： 0.0\n"
     ]
    }
   ],
   "source": [
    "from sklearn.metrics import accuracy_score\n",
    "from sklearn.metrics import recall_score\n",
    "\n",
    "y_pre_random_zeroR = [0 for i in range(len(y_random_test))]\n",
    "y_pre_balance_zeroR = [0 for i in range(len(y_balance_test))]\n",
    "\n",
    "print(\"ZeroR random acc:\", accuracy_score(y_random_test, y_pre_random_zeroR),\"recall：\",recall_score(y_random_test, y_pre_random_zeroR))\n",
    "print(\"ZeroR balance acc:\", accuracy_score(y_balance_test, y_pre_balance_zeroR),\"recall：\",recall_score(y_balance_test, y_pre_balance_zeroR))"
   ]
  },
  {
   "cell_type": "code",
   "execution_count": 3,
   "metadata": {
    "pycharm": {
     "is_executing": true,
     "name": "#%%\n"
    }
   },
   "outputs": [
    {
     "name": "stdout",
     "output_type": "stream",
     "text": [
      "Knn balance acc: 0.7959592586408415\n",
      "Knn balance recall: 0.4646074646074646\n",
      "Knn random acc: 0.7356975577116093\n",
      "Knn random recall: 0.22195416164053075\n"
     ]
    }
   ],
   "source": [
    "from sklearn.neighbors import KNeighborsClassifier\n",
    "\n",
    "knn_balance = KNeighborsClassifier()\n",
    "\n",
    "knn_balance.fit(x_balance_train, y_balance_train)\n",
    "y_pre_balance_knn = knn_balance.predict(x_balance_test)\n",
    "\n",
    "print(\"Knn balance acc:\", accuracy_score(y_balance_test, y_pre_balance_knn))\n",
    "print(\"Knn balance recall:\", recall_score(y_balance_test, y_pre_balance_knn))\n",
    "\n",
    "knn_random = KNeighborsClassifier()\n",
    "knn_random.fit(x_random_train, y_random_train)\n",
    "y_pre_random_knn = knn_random.predict(x_random_test)\n",
    "\n",
    "print(\"Knn random acc:\", accuracy_score(y_random_test, y_pre_random_knn))\n",
    "print(\"Knn random recall:\", recall_score(y_random_test, y_pre_random_knn))"
   ]
  },
  {
   "cell_type": "code",
   "execution_count": 4,
   "metadata": {
    "pycharm": {
     "is_executing": true,
     "name": "#%%\n"
    }
   },
   "outputs": [
    {
     "name": "stdout",
     "output_type": "stream",
     "text": [
      "GaussianNB random acc: 0.7233188357310137\n",
      "GaussianNB random recall: 0.40651387213510254\n",
      "MultinomialNB random acc: 0.7226497156239545\n",
      "MultinomialNB random recall: 0.0\n",
      "ComplementNB random acc: 0.6192706590833055\n",
      "ComplementNB random recall: 0.6188178528347407\n",
      "GaussianNB balance acc: 0.7730839873100684\n",
      "GaussianNB balance recall: 0.4594594594594595\n",
      "MultinomialNB balance acc: 0.6072800133578227\n",
      "MultinomialNB balance recall: 0.6473616473616474\n",
      "ComplementNB balance acc: 0.6072800133578227\n",
      "ComplementNB balance recall: 0.6473616473616474\n"
     ]
    }
   ],
   "source": [
    "from sklearn.naive_bayes import GaussianNB,MultinomialNB,ComplementNB\n",
    "from sklearn.preprocessing import MinMaxScaler\n",
    "\n",
    "GaussianNB_random = GaussianNB()\n",
    "GaussianNB_random.fit(x_random_train, y_random_train)\n",
    "y_pre_random_GNB = GaussianNB_random.predict(x_random_test)\n",
    "print(\"GaussianNB random acc:\", accuracy_score(y_random_test, y_pre_random_GNB))\n",
    "print(\"GaussianNB random recall:\", recall_score(y_random_test, y_pre_random_GNB))\n",
    "\n",
    "MultinomialNB_random = MultinomialNB()\n",
    "MultinomialNB_random.fit(x_random_train, y_random_train)\n",
    "y_pre_random_MNB = MultinomialNB_random.predict(x_random_test)\n",
    "print(\"MultinomialNB random acc:\", accuracy_score(y_random_test, y_pre_random_MNB))\n",
    "print(\"MultinomialNB random recall:\", recall_score(y_random_test, y_pre_random_MNB))\n",
    "\n",
    "ComplementNB_random = ComplementNB()\n",
    "ComplementNB_random.fit(x_random_train, y_random_train)\n",
    "y_pre_random_ComNB = ComplementNB_random.predict(x_random_test)\n",
    "print(\"ComplementNB random acc:\", accuracy_score(y_random_test, y_pre_random_ComNB))\n",
    "print(\"ComplementNB random recall:\", recall_score(y_random_test, y_pre_random_ComNB))\n",
    "\n",
    "GaussianNB_balance = GaussianNB()\n",
    "GaussianNB_balance.fit(x_balance_train, y_balance_train)\n",
    "y_pre_balance_GNB = GaussianNB_balance.predict(x_balance_test)\n",
    "print(\"GaussianNB balance acc:\", accuracy_score(y_balance_test, y_pre_balance_GNB))\n",
    "print(\"GaussianNB balance recall:\", recall_score(y_balance_test, y_pre_balance_GNB))\n",
    "\n",
    "MultinomialNB_balance = MultinomialNB()\n",
    "MultinomialNB_balance.fit(x_balance_train, y_balance_train)\n",
    "y_pre_balance_MNB = MultinomialNB_balance.predict(x_balance_test)\n",
    "print(\"MultinomialNB balance acc:\", accuracy_score(y_balance_test, y_pre_balance_MNB))\n",
    "print(\"MultinomialNB balance recall:\", recall_score(y_balance_test, y_pre_balance_MNB))\n",
    "\n",
    "ComplementNB_balance = ComplementNB()\n",
    "ComplementNB_balance.fit(x_balance_train, y_balance_train)\n",
    "y_pre_balance_ComNB = ComplementNB_balance.predict(x_balance_test)\n",
    "print(\"ComplementNB balance acc:\", accuracy_score(y_balance_test, y_pre_balance_ComNB))\n",
    "print(\"ComplementNB balance recall:\", recall_score(y_balance_test, y_pre_balance_ComNB))"
   ]
  },
  {
   "cell_type": "code",
   "execution_count": 5,
   "metadata": {
    "pycharm": {
     "is_executing": true,
     "name": "#%%\n"
    }
   },
   "outputs": [
    {
     "name": "stdout",
     "output_type": "stream",
     "text": [
      "MLP balance acc: 0.7959592586408415\n",
      "MLP balance recall: 0.4646074646074646\n",
      "MLP random acc: 0.7310137169621947\n",
      "MLP random recall: 0.19903498190591074\n"
     ]
    }
   ],
   "source": [
    "from sklearn.neural_network import MLPClassifier\n",
    "\n",
    "MLP_balance = MLPClassifier(activation='logistic')\n",
    "MLP_balance.fit(x_balance_train, y_balance_train)\n",
    "y_pre_balance_MLP = knn_balance.predict(x_balance_test)\n",
    "\n",
    "print(\"MLP balance acc:\", accuracy_score(y_balance_test, y_pre_balance_MLP))\n",
    "print(\"MLP balance recall:\", recall_score(y_balance_test, y_pre_balance_MLP))\n",
    "\n",
    "MLP_random = MLPClassifier(activation='logistic')\n",
    "MLP_random.fit(x_random_train, y_random_train)\n",
    "y_pre_random_MLP = MLP_random.predict(x_random_test)\n",
    "\n",
    "print(\"MLP random acc:\", accuracy_score(y_random_test, y_pre_random_MLP))\n",
    "print(\"MLP random recall:\", recall_score(y_random_test, y_pre_random_MLP))\n"
   ]
  },
  {
   "cell_type": "code",
   "execution_count": 6,
   "metadata": {
    "pycharm": {
     "is_executing": true,
     "name": "#%%\n"
    }
   },
   "outputs": [
    {
     "name": "stdout",
     "output_type": "stream",
     "text": [
      "RF balance acc: 0.6794122558023042\n",
      "RF balance recall: 0.8571428571428571\n",
      "RF random acc: 0.7564402810304449\n",
      "RF random recall: 0.390832328106152\n"
     ]
    }
   ],
   "source": [
    "\n",
    "from sklearn.ensemble import RandomForestClassifier\n",
    "\n",
    "rf_balance = RandomForestClassifier(random_state=0)\n",
    "rf_balance.fit(x_balance_train, y_balance_train)\n",
    "y_pre_balance_rf = rf_balance.predict(x_balance_test)\n",
    "\n",
    "print(\"RF balance acc:\", accuracy_score(y_balance_test, y_pre_balance_rf))\n",
    "print(\"RF balance recall:\", recall_score(y_balance_test, y_pre_balance_rf))\n",
    "\n",
    "rf_random = RandomForestClassifier(random_state=0)\n",
    "rf_random.fit(x_random_train, y_random_train)\n",
    "y_pre_random_rf = rf_random.predict(x_random_test)\n",
    "\n",
    "print(\"RF random acc:\", accuracy_score(y_random_test, y_pre_random_rf))\n",
    "print(\"RF random recall:\", recall_score(y_random_test, y_pre_random_rf))\n"
   ]
  },
  {
   "cell_type": "code",
   "execution_count": 7,
   "metadata": {
    "pycharm": {
     "is_executing": true,
     "name": "#%%\n"
    }
   },
   "outputs": [],
   "source": [
    "import tensorflow as tf\n",
    "from tensorflow import keras\n",
    "from tensorflow.keras import layers\n",
    "import matplotlib.pyplot as plt\n",
    "import matplotlib.cm as cm\n",
    "\n",
    "\n",
    "input_length = len(x_balance_test[0])\n",
    "callback = tf.keras.callbacks.EarlyStopping(monitor='loss', patience=3)\n"
   ]
  },
  {
   "cell_type": "code",
   "execution_count": 8,
   "metadata": {
    "pycharm": {
     "is_executing": true,
     "name": "#%%\n"
    }
   },
   "outputs": [
    {
     "name": "stdout",
     "output_type": "stream",
     "text": [
      "Epoch 1/20\n",
      "125/125 [==============================] - 6s 15ms/step - loss: 0.6937 - accuracy: 0.5002 - recall: 0.6900\n",
      "Epoch 2/20\n",
      "125/125 [==============================] - 2s 12ms/step - loss: 0.6909 - accuracy: 0.5368 - recall: 0.5000\n",
      "Epoch 3/20\n",
      "125/125 [==============================] - 2s 12ms/step - loss: 0.6734 - accuracy: 0.5957 - recall: 0.5995\n",
      "Epoch 4/20\n",
      "125/125 [==============================] - 2s 12ms/step - loss: 0.6656 - accuracy: 0.6068 - recall: 0.5525\n",
      "Epoch 5/20\n",
      "125/125 [==============================] - 2s 12ms/step - loss: 0.6641 - accuracy: 0.6090 - recall: 0.5800\n",
      "Epoch 6/20\n",
      "125/125 [==============================] - 2s 12ms/step - loss: 0.6595 - accuracy: 0.6175 - recall: 0.5630\n",
      "Epoch 7/20\n",
      "125/125 [==============================] - 2s 12ms/step - loss: 0.6600 - accuracy: 0.6170 - recall: 0.5570\n",
      "Epoch 8/20\n",
      "125/125 [==============================] - 2s 12ms/step - loss: 0.6597 - accuracy: 0.6173 - recall: 0.5840\n",
      "Epoch 9/20\n",
      "125/125 [==============================] - 2s 12ms/step - loss: 0.6599 - accuracy: 0.6162 - recall: 0.5490\n"
     ]
    },
    {
     "data": {
      "image/png": "[encoded data removed]",
      "text/plain": [
       "<Figure size 432x288 with 1 Axes>"
      ]
     },
     "metadata": {
      "needs_background": "light"
     },
     "output_type": "display_data"
    },
    {
     "name": "stdout",
     "output_type": "stream",
     "text": [
      "188/188 [==============================] - 3s 11ms/step - loss: 0.6496 - accuracy: 0.6651 - recall: 0.5328\n",
      "Loss: 0.6495979428291321 - Accuracy: 0.665052592754364 -recall: 0.5328185558319092\n"
     ]
    }
   ],
   "source": [
    "lstm = keras.Sequential()\n",
    "lstm.add(layers.LSTM(units=50, activation='tanh', return_sequences=True, input_shape=(input_length, 1)))\n",
    "lstm.add(layers.Dropout(0.2))\n",
    "lstm.add(layers.LSTM(units=50, activation='tanh', return_sequences=False))\n",
    "lstm.add(layers.Dropout(0.2))\n",
    "lstm.add(layers.Dense(1, activation='sigmoid'))\n",
    "\n",
    "lstm.compile(optimizer='adam',\n",
    "            loss='binary_crossentropy',\n",
    "            metrics=['accuracy',tf.keras.metrics.Recall()])\n",
    "\n",
    "history_lstm = lstm.fit(x_balance_train, y_balance_train,callbacks=[callback],epochs=20)\n",
    "plt.plot(history_lstm.history['accuracy'], label='Acc')\n",
    "plt.ylabel('Accuracy')\n",
    "plt.xlabel('Epoch')\n",
    "plt.title('Training and validating accuracy')\n",
    "plt.legend()\n",
    "plt.show()\n",
    "\n",
    "test_results = lstm.evaluate(x_balance_test, y_balance_test)\n",
    "print(f'Balance Loss: {test_results[0]} - Accuracy: {test_results[1]} -recall: {test_results[2]}')"
   ]
  },
  {
   "cell_type": "code",
   "execution_count": null,
   "metadata": {
    "pycharm": {
     "is_executing": true,
     "name": "#%%\n"
    }
   },
   "outputs": [
    {
     "name": "stdout",
     "output_type": "stream",
     "text": [
      "Epoch 1/20\n",
      "219/219 [==============================] - 6s 15ms/step - loss: 0.5987 - accuracy: 0.7196 - recall_1: 0.0062\n",
      "Epoch 2/20\n",
      "219/219 [==============================] - 3s 13ms/step - loss: 0.5931 - accuracy: 0.7217 - recall_1: 0.0000e+00\n",
      "Epoch 3/20\n",
      "219/219 [==============================] - 3s 14ms/step - loss: 0.5876 - accuracy: 0.7217 - recall_1: 0.0000e+00\n",
      "Epoch 4/20\n",
      "219/219 [==============================] - 3s 14ms/step - loss: 0.5726 - accuracy: 0.7217 - recall_1: 0.0267\n",
      "Epoch 5/20\n",
      "219/219 [==============================] - 3s 13ms/step - loss: 0.5693 - accuracy: 0.7216 - recall_1: 0.0498\n",
      "Epoch 6/20\n",
      "219/219 [==============================] - 3s 14ms/step - loss: 0.5655 - accuracy: 0.7233 - recall_1: 0.0570\n",
      "Epoch 7/20\n",
      "219/219 [==============================] - 3s 14ms/step - loss: 0.5648 - accuracy: 0.7240 - recall_1: 0.0801\n",
      "Epoch 8/20\n",
      "219/219 [==============================] - 3s 14ms/step - loss: 0.5651 - accuracy: 0.7281 - recall_1: 0.0986\n",
      "Epoch 9/20\n",
      "219/219 [==============================] - 3s 13ms/step - loss: 0.5626 - accuracy: 0.7251 - recall_1: 0.0986\n",
      "Epoch 10/20\n",
      "219/219 [==============================] - 3s 13ms/step - loss: 0.5621 - accuracy: 0.7236 - recall_1: 0.0919\n",
      "Epoch 11/20\n",
      "219/219 [==============================] - 3s 13ms/step - loss: 0.5624 - accuracy: 0.7257 - recall_1: 0.0996\n",
      "Epoch 12/20\n",
      "219/219 [==============================] - 3s 13ms/step - loss: 0.5584 - accuracy: 0.7267 - recall_1: 0.1473\n",
      "Epoch 13/20\n",
      "219/219 [==============================] - 3s 13ms/step - loss: 0.5571 - accuracy: 0.7229 - recall_1: 0.1417\n",
      "Epoch 14/20\n",
      "219/219 [==============================] - 3s 13ms/step - loss: 0.5474 - accuracy: 0.7281 - recall_1: 0.1663\n",
      "Epoch 15/20\n",
      "219/219 [==============================] - 3s 14ms/step - loss: 0.5683 - accuracy: 0.7237 - recall_1: 0.0950\n",
      "Epoch 16/20\n",
      "219/219 [==============================] - 3s 13ms/step - loss: 0.5634 - accuracy: 0.7274 - recall_1: 0.0914\n",
      "Epoch 17/20\n",
      "219/219 [==============================] - 6s 28ms/step - loss: 0.5620 - accuracy: 0.7286 - recall_1: 0.1068\n"
     ]
    },
    {
     "data": {
      "image/png": "[encoded data removed]",
      "text/plain": [
       "<Figure size 432x288 with 1 Axes>"
      ]
     },
     "metadata": {
      "needs_background": "light"
     },
     "output_type": "display_data"
    },
    {
     "name": "stdout",
     "output_type": "stream",
     "text": [
      "13/94 [===>..........................] - ETA: 0s - loss: 0.5723 - accuracy: 0.7188 - recall_1: 0.0177 "
     ]
    }
   ],
   "source": [
    "lstm2 = keras.Sequential()\n",
    "lstm2.add(layers.LSTM(units=50, activation='tanh', return_sequences=True, input_shape=(input_length, 1)))\n",
    "lstm2.add(layers.Dropout(0.2))\n",
    "lstm2.add(layers.LSTM(units=50, activation='tanh', return_sequences=False))\n",
    "lstm2.add(layers.Dropout(0.2))\n",
    "lstm2.add(layers.Dense(1, activation='sigmoid'))\n",
    "\n",
    "\n",
    "lstm2.compile(optimizer='adam',\n",
    "            loss='binary_crossentropy',\n",
    "            metrics=['accuracy',tf.keras.metrics.Recall()])\n",
    "\n",
    "history_lstm2 = lstm2.fit(x_random_train, y_random_train,callbacks=[callback], epochs=20)\n",
    "plt.plot(history_lstm2.history['accuracy'], label='Acc')\n",
    "plt.ylabel('Accuracy')\n",
    "plt.xlabel('Epoch')\n",
    "plt.title('Training and validating accuracy')\n",
    "plt.legend()\n",
    "plt.show()\n",
    "\n",
    "test_results = lstm2.evaluate(x_random_test, y_random_test)\n",
    "print(f'Random Loss: {test_results[0]} - Accuracy: {test_results[1]} -recall: {test_results[2]}')\n"
   ]
  }
 ],
 "metadata": {
  "kernelspec": {
   "display_name": "Python 3 (ipykernel)",
   "language": "python",
   "name": "python3"
  },
  "language_info": {
   "codemirror_mode": {
    "name": "ipython",
    "version": 3
   },
   "file_extension": ".py",
   "mimetype": "text/x-python",
   "name": "python",
   "nbconvert_exporter": "python",
   "pygments_lexer": "ipython3",
   "version": "3.8.12"
  },
  "pycharm": {
   "stem_cell": {
    "cell_type": "raw",
    "metadata": {
     "collapsed": false
    },
    "source": []
   }
  }
 },
 "nbformat": 4,
 "nbformat_minor": 1
}
