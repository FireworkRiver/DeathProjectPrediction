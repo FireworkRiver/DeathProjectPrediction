{
 "cells": [
  {
   "cell_type": "code",
   "execution_count": 1,
   "metadata": {
    "pycharm": {
     "is_executing": false
    }
   },
   "outputs": [],
   "source": [
    "import csv\n",
    "\n",
    "def intRow(row):\n",
    "    temp = []\n",
    "    for t in row:\n",
    "        temp.append(int(t))\n",
    "    return temp\n",
    "\n",
    "def read_x(address):\n",
    "    reader = csv.reader(open(address))\n",
    "    x= [intRow(row) for row in reader]\n",
    "    return x\n",
    "\n",
    "def read_y(address):\n",
    "    reader = csv.reader(open(address))\n",
    "    list=[intRow(row) for row in reader]\n",
    "    y=sum(list,[])\n",
    "    return y\n",
    "\n",
    "x_balance_test = read_x('x_balance_test.csv')\n",
    "y_balance_test = read_y('y_balance_test.csv')\n",
    "x_balance_train = read_x('x_balance_train.csv')\n",
    "y_balance_train = read_y('y_balance_train.csv')\n",
    "\n",
    "x_balance_2_test = read_x('x_balance2_test.csv')\n",
    "y_balance_2_test = read_y('y_balance2_test.csv')\n",
    "x_balance_2_train = read_x('x_balance2_train.csv')\n",
    "y_balance_2_train = read_y('y_balance2_train.csv')\n",
    "\n",
    "x_random_test = read_x('x_random_test.csv')\n",
    "y_random_test = read_y('y_random_test.csv')\n",
    "x_random_train = read_x('x_random_train.csv')\n",
    "y_random_train = read_y('y_random_train.csv')"
   ]
  },
  {
   "cell_type": "code",
   "execution_count": 2,
   "metadata": {
    "pycharm": {
     "is_executing": false,
     "name": "#%%\n"
    }
   },
   "outputs": [
    {
     "name": "stdout",
     "output_type": "stream",
     "text": [
      "ZeroR balance dead recall 0.00 precision 0.00 f1_score 0.00\n",
      "ZeroR balance alive recall 1.00 precision 0.87 f1_score 0.93\n",
      "ZeroR balance_2 dead recall 0.00 precision 0.00 f1_score 0.00\n",
      "ZeroR balance_2 alive recall 1.00 precision 0.72 f1_score 0.84\n",
      "ZeroR random dead recall 0.00 precision 0.00 f1_score 0.00\n",
      "ZeroR random alive recall 1.00 precision 0.72 f1_score 0.84\n"
     ]
    },
    {
     "name": "stderr",
     "output_type": "stream",
     "text": [
      "D:\\Anaconda\\envs\\NLP\\lib\\site-packages\\sklearn\\metrics\\_classification.py:1318: UndefinedMetricWarning: Precision is ill-defined and being set to 0.0 due to no predicted samples. Use `zero_division` parameter to control this behavior.\n",
      "  _warn_prf(average, modifier, msg_start, len(result))\n",
      "D:\\Anaconda\\envs\\NLP\\lib\\site-packages\\sklearn\\metrics\\_classification.py:1318: UndefinedMetricWarning: Precision is ill-defined and being set to 0.0 due to no predicted samples. Use `zero_division` parameter to control this behavior.\n",
      "  _warn_prf(average, modifier, msg_start, len(result))\n",
      "D:\\Anaconda\\envs\\NLP\\lib\\site-packages\\sklearn\\metrics\\_classification.py:1318: UndefinedMetricWarning: Precision is ill-defined and being set to 0.0 due to no predicted samples. Use `zero_division` parameter to control this behavior.\n",
      "  _warn_prf(average, modifier, msg_start, len(result))\n"
     ]
    }
   ],
   "source": [
    "from sklearn.metrics import accuracy_score\n",
    "from sklearn.metrics import recall_score\n",
    "from sklearn.metrics import precision_score\n",
    "from sklearn.metrics import f1_score\n",
    "\n",
    "def print_metrics(title,y_true,y_pre):\n",
    "    print(title+\" dead\",end = \" \")\n",
    "    print(\"recall %.2f\"%recall_score(y_true, y_pre),end =\" \")\n",
    "    print(\"precision %.2f\"%precision_score(y_true, y_pre),end=\" \")\n",
    "    print(\"f1_score %.2f\"%f1_score(y_true, y_pre))\n",
    "    \n",
    "    y_flip_true = [0 if i else 1 for i in y_true]\n",
    "    y_flip_pre = [0 if i else 1 for i in y_pre]\n",
    "    \n",
    "    print(title+\" alive\",end = \" \")\n",
    "    print(\"recall %.2f\"%recall_score(y_flip_true, y_flip_pre),end =\" \")\n",
    "    print(\"precision %.2f\"%precision_score(y_flip_true, y_flip_pre),end=\" \")\n",
    "    print(\"f1_score %.2f\"%f1_score(y_flip_true, y_flip_pre))\n",
    "\n",
    "y_pre_random_zeroR = [0 for i in range(len(y_random_test))]\n",
    "y_pre_balance_zeroR = [0 for i in range(len(y_balance_test))]\n",
    "y_pre_balance_2_zeroR = [0 for i in range(len(y_balance_2_test))]\n",
    "\n",
    "print_metrics(\"ZeroR balance\",y_balance_test,y_pre_balance_zeroR)\n",
    "print_metrics(\"ZeroR balance_2\",y_balance_2_test,y_pre_balance_2_zeroR)\n",
    "print_metrics(\"ZeroR random\",y_random_test,y_pre_random_zeroR)\n"
   ]
  },
  {
   "cell_type": "code",
   "execution_count": 3,
   "metadata": {
    "pycharm": {
     "is_executing": false,
     "name": "#%%\n"
    }
   },
   "outputs": [
    {
     "name": "stdout",
     "output_type": "stream",
     "text": [
      "Knn balance dead recall 0.64 precision 0.26 f1_score 0.37\n",
      "Knn balance alive recall 0.74 precision 0.93 f1_score 0.82\n",
      "Knn balance_2 dead recall 0.60 precision 0.47 f1_score 0.53\n",
      "Knn balance_2 alive recall 0.74 precision 0.83 f1_score 0.78\n",
      "Knn random dead recall 0.34 precision 0.52 f1_score 0.41\n",
      "Knn random alive recall 0.88 precision 0.78 f1_score 0.83\n"
     ]
    }
   ],
   "source": [
    "from sklearn.neighbors import KNeighborsClassifier\n",
    "\n",
    "knn_random = KNeighborsClassifier()\n",
    "knn_random.fit(x_random_train, y_random_train)\n",
    "y_pre_random_knn = knn_random.predict(x_random_test)\n",
    "\n",
    "knn_balance = KNeighborsClassifier()\n",
    "knn_balance.fit(x_balance_train, y_balance_train)\n",
    "y_pre_balance_knn = knn_balance.predict(x_balance_test)\n",
    "\n",
    "knn_balance_2 = KNeighborsClassifier()\n",
    "knn_balance_2.fit(x_balance_2_train, y_balance_2_train)\n",
    "y_pre_balance_2_knn = knn_balance_2.predict(x_balance_2_test)\n",
    "\n",
    "print_metrics(\"Knn balance\",y_balance_test,y_pre_balance_knn)\n",
    "print_metrics(\"Knn balance_2\",y_balance_2_test,y_pre_balance_2_knn)\n",
    "print_metrics(\"Knn random\",y_random_test,y_pre_random_knn)"
   ]
  },
  {
   "cell_type": "code",
   "execution_count": 4,
   "metadata": {
    "pycharm": {
     "is_executing": false,
     "name": "#%%\n"
    }
   },
   "outputs": [
    {
     "name": "stdout",
     "output_type": "stream",
     "text": [
      "NB balance dead recall 0.96 precision 0.16 f1_score 0.28\n",
      "NB balance alive recall 0.25 precision 0.98 f1_score 0.40\n",
      "NB balance_2 dead recall 0.96 precision 0.33 f1_score 0.50\n",
      "NB balance_2 alive recall 0.27 precision 0.95 f1_score 0.42\n",
      "NB random dead recall 0.97 precision 0.34 f1_score 0.50\n",
      "NB random alive recall 0.27 precision 0.95 f1_score 0.42\n"
     ]
    }
   ],
   "source": [
    "from sklearn.naive_bayes import GaussianNB,MultinomialNB,ComplementNB\n",
    "from sklearn.preprocessing import MinMaxScaler\n",
    "\n",
    "GaussianNB_random = GaussianNB()\n",
    "GaussianNB_random.fit(x_random_train, y_random_train)\n",
    "y_pre_random_GNB = GaussianNB_random.predict(x_random_test)\n",
    "\n",
    "GaussianNB_balance = GaussianNB()\n",
    "GaussianNB_balance.fit(x_balance_train, y_balance_train)\n",
    "y_pre_balance_GNB = GaussianNB_balance.predict(x_balance_test)\n",
    "\n",
    "GaussianNB_balance_2 = GaussianNB()\n",
    "GaussianNB_balance_2.fit(x_balance_2_train, y_balance_2_train)\n",
    "y_pre_balance_2_GNB = GaussianNB_balance_2.predict(x_balance_2_test)\n",
    "\n",
    "\n",
    "print_metrics(\"NB balance\",y_balance_test,y_pre_balance_GNB)\n",
    "print_metrics(\"NB balance_2\",y_balance_2_test,y_pre_balance_2_GNB)\n",
    "print_metrics(\"NB random\",y_random_test,y_pre_random_GNB)\n"
   ]
  },
  {
   "cell_type": "code",
   "execution_count": 7,
   "metadata": {
    "pycharm": {
     "is_executing": false,
     "name": "#%%\n"
    }
   },
   "outputs": [
    {
     "name": "stdout",
     "output_type": "stream",
     "text": [
      "MLP balance dead recall 0.64 precision 0.26 f1_score 0.37\n",
      "MLP balance alive recall 0.74 precision 0.93 f1_score 0.82\n",
      "MLP balance_2 dead recall 0.75 precision 0.46 f1_score 0.57\n",
      "MLP balance_2 alive recall 0.67 precision 0.87 f1_score 0.76\n",
      "MLP random dead recall 0.48 precision 0.51 f1_score 0.50\n",
      "MLP random alive recall 0.82 precision 0.81 f1_score 0.81\n"
     ]
    },
    {
     "name": "stderr",
     "output_type": "stream",
     "text": [
      "D:\\Anaconda\\envs\\NLP\\lib\\site-packages\\sklearn\\neural_network\\_multilayer_perceptron.py:692: ConvergenceWarning: Stochastic Optimizer: Maximum iterations (300) reached and the optimization hasn't converged yet.\n",
      "  warnings.warn(\n"
     ]
    }
   ],
   "source": [
    "from sklearn.neural_network import MLPClassifier\n",
    "\n",
    "MLP_balance = MLPClassifier(activation='logistic',max_iter=300)\n",
    "MLP_balance.fit(x_balance_train, y_balance_train)\n",
    "y_pre_balance_MLP = knn_balance.predict(x_balance_test)\n",
    "\n",
    "MLP_balance_2 = MLPClassifier(activation='logistic',max_iter=300)\n",
    "MLP_balance_2.fit(x_balance_2_train, y_balance_2_train)\n",
    "y_pre_balance_2_MLP = MLP_balance_2.predict(x_balance_2_test)\n",
    "\n",
    "MLP_random = MLPClassifier(activation='logistic',max_iter=300)\n",
    "MLP_random.fit(x_random_train, y_random_train)\n",
    "y_pre_random_MLP = MLP_random.predict(x_random_test)\n",
    "\n",
    "print_metrics(\"MLP balance\",y_balance_test,y_pre_balance_MLP)\n",
    "print_metrics(\"MLP balance_2\",y_balance_2_test,y_pre_balance_2_MLP)\n",
    "print_metrics(\"MLP random\",y_random_test,y_pre_random_MLP)"
   ]
  },
  {
   "cell_type": "code",
   "execution_count": 8,
   "metadata": {
    "pycharm": {
     "is_executing": false,
     "name": "#%%\n"
    }
   },
   "outputs": [
    {
     "name": "stdout",
     "output_type": "stream",
     "text": [
      "RandomForeset balance dead recall 0.82 precision 0.27 f1_score 0.41\n",
      "RandomForeset balance alive recall 0.68 precision 0.96 f1_score 0.79\n",
      "RandomForeset balance_2 dead recall 0.82 precision 0.49 f1_score 0.61\n",
      "RandomForeset balance_2 alive recall 0.68 precision 0.91 f1_score 0.78\n",
      "RandomForeset random dead recall 0.40 precision 0.62 f1_score 0.49\n",
      "RandomForeset random alive recall 0.90 precision 0.80 f1_score 0.85\n"
     ]
    }
   ],
   "source": [
    "from sklearn.ensemble import RandomForestClassifier\n",
    "\n",
    "rf_balance = RandomForestClassifier(random_state=0)\n",
    "rf_balance.fit(x_balance_train, y_balance_train)\n",
    "y_pre_balance_rf = rf_balance.predict(x_balance_test)\n",
    "\n",
    "rf_balance_2 = RandomForestClassifier(random_state=0)\n",
    "rf_balance_2.fit(x_balance_2_train, y_balance_2_train)\n",
    "y_pre_balance_2_rf = rf_balance_2.predict(x_balance_2_test)\n",
    "\n",
    "rf_random = RandomForestClassifier(random_state=0)\n",
    "rf_random.fit(x_random_train, y_random_train)\n",
    "y_pre_random_rf = rf_random.predict(x_random_test)\n",
    "\n",
    "print_metrics(\"RandomForeset balance\",y_balance_test,y_pre_balance_rf)\n",
    "print_metrics(\"RandomForeset balance_2\",y_balance_2_test,y_pre_balance_2_rf)\n",
    "print_metrics(\"RandomForeset random\",y_random_test,y_pre_random_rf)\n"
   ]
  },
  {
   "cell_type": "code",
   "execution_count": 9,
   "metadata": {
    "pycharm": {
     "is_executing": false,
     "name": "#%%\n"
    }
   },
   "outputs": [],
   "source": [
    "import tensorflow as tf\n",
    "from tensorflow import keras\n",
    "from tensorflow.keras import layers\n",
    "import matplotlib.pyplot as plt\n",
    "import matplotlib.cm as cm\n",
    "import numpy as np\n",
    "\n",
    "\n",
    "input_length = len(x_balance_test[0])\n",
    "callback = tf.keras.callbacks.EarlyStopping(monitor='val_loss', patience=3)\n"
   ]
  },
  {
   "cell_type": "code",
   "execution_count": 23,
   "metadata": {},
   "outputs": [
    {
     "name": "stdout",
     "output_type": "stream",
     "text": [
      "Epoch 1/20\n",
      "100/100 [==============================] - 5s 31ms/step - loss: 0.6032 - accuracy: 0.6856 - recall_1: 0.7263 - val_loss: 0.5920 - val_accuracy: 0.6875 - val_recall_1: 0.7027\n",
      "Epoch 2/20\n",
      "100/100 [==============================] - 1s 15ms/step - loss: 0.5702 - accuracy: 0.7125 - recall_1: 0.7809 - val_loss: 0.5927 - val_accuracy: 0.6888 - val_recall_1: 0.7052\n",
      "Epoch 3/20\n",
      "100/100 [==============================] - 1s 15ms/step - loss: 0.5729 - accuracy: 0.6997 - recall_1: 0.7759 - val_loss: 0.5764 - val_accuracy: 0.7025 - val_recall_1: 0.7543\n",
      "Epoch 4/20\n",
      "100/100 [==============================] - 1s 14ms/step - loss: 0.5682 - accuracy: 0.7075 - recall_1: 0.7746 - val_loss: 0.5825 - val_accuracy: 0.7050 - val_recall_1: 0.7961\n",
      "Epoch 5/20\n",
      "100/100 [==============================] - 1s 14ms/step - loss: 0.5612 - accuracy: 0.7094 - recall_1: 0.7954 - val_loss: 0.5748 - val_accuracy: 0.7125 - val_recall_1: 0.7494\n",
      "Epoch 6/20\n",
      "100/100 [==============================] - 1s 14ms/step - loss: 0.5606 - accuracy: 0.7156 - recall_1: 0.7815 - val_loss: 0.5722 - val_accuracy: 0.7125 - val_recall_1: 0.7789\n",
      "Epoch 7/20\n",
      "100/100 [==============================] - 1s 14ms/step - loss: 0.5597 - accuracy: 0.7138 - recall_1: 0.7966 - val_loss: 0.5858 - val_accuracy: 0.7175 - val_recall_1: 0.7445\n",
      "Epoch 8/20\n",
      "100/100 [==============================] - 1s 15ms/step - loss: 0.5516 - accuracy: 0.7184 - recall_1: 0.7872 - val_loss: 0.5662 - val_accuracy: 0.7212 - val_recall_1: 0.7469\n",
      "Epoch 9/20\n",
      "100/100 [==============================] - 1s 15ms/step - loss: 0.5520 - accuracy: 0.7166 - recall_1: 0.7803 - val_loss: 0.5660 - val_accuracy: 0.7163 - val_recall_1: 0.8034\n",
      "Epoch 10/20\n",
      "100/100 [==============================] - 1s 14ms/step - loss: 0.5563 - accuracy: 0.7209 - recall_1: 0.7922 - val_loss: 0.5620 - val_accuracy: 0.7100 - val_recall_1: 0.8157\n",
      "Epoch 11/20\n",
      "100/100 [==============================] - 1s 15ms/step - loss: 0.5480 - accuracy: 0.7203 - recall_1: 0.7797 - val_loss: 0.5549 - val_accuracy: 0.7175 - val_recall_1: 0.7887\n",
      "Epoch 12/20\n",
      "100/100 [==============================] - 1s 14ms/step - loss: 0.5500 - accuracy: 0.7266 - recall_1: 0.8016 - val_loss: 0.5633 - val_accuracy: 0.7063 - val_recall_1: 0.8231\n",
      "Epoch 13/20\n",
      "100/100 [==============================] - 1s 14ms/step - loss: 0.5477 - accuracy: 0.7178 - recall_1: 0.7866 - val_loss: 0.5545 - val_accuracy: 0.7237 - val_recall_1: 0.7715\n",
      "Epoch 14/20\n",
      "100/100 [==============================] - 1s 15ms/step - loss: 0.5460 - accuracy: 0.7237 - recall_1: 0.7772 - val_loss: 0.5609 - val_accuracy: 0.7175 - val_recall_1: 0.7961\n",
      "Epoch 15/20\n",
      "100/100 [==============================] - 1s 15ms/step - loss: 0.5472 - accuracy: 0.7197 - recall_1: 0.7803 - val_loss: 0.5569 - val_accuracy: 0.7188 - val_recall_1: 0.7568\n",
      "Epoch 16/20\n",
      "100/100 [==============================] - 1s 15ms/step - loss: 0.5491 - accuracy: 0.7194 - recall_1: 0.7753 - val_loss: 0.5603 - val_accuracy: 0.7350 - val_recall_1: 0.7862\n"
     ]
    },
    {
     "data": {
      "image/png": "[encoded data removed]",
      "text/plain": [
       "<Figure size 432x288 with 1 Axes>"
      ]
     },
     "metadata": {
      "needs_background": "light"
     },
     "output_type": "display_data"
    },
    {
     "name": "stdout",
     "output_type": "stream",
     "text": [
      "188/188 [==============================] - 2s 7ms/step\n",
      "lstm balance dead recall 0.78 precision 0.25 f1_score 0.38\n",
      "lstm balance alive recall 0.66 precision 0.95 f1_score 0.78\n"
     ]
    }
   ],
   "source": [
    "lstm = keras.Sequential()\n",
    "lstm.add(layers.LSTM(units=100, activation='tanh', return_sequences=True, input_shape=(input_length, 1)))\n",
    "lstm.add(layers.Dropout(0.5))\n",
    "lstm.add(layers.LSTM(units=50, activation='tanh', return_sequences=False))\n",
    "lstm.add(layers.Dropout(0.5))\n",
    "lstm.add(layers.Dense(1, activation='sigmoid'))\n",
    "\n",
    "lstm.compile(optimizer='adam',\n",
    "            loss='binary_crossentropy',\n",
    "            metrics=['accuracy',tf.keras.metrics.Recall()])\n",
    "\n",
    "history_lstm = lstm.fit(np.array(x_balance_train), np.array(y_balance_train),validation_split=0.2,callbacks=[callback],epochs=20)\n",
    "plt.plot(history_lstm.history['accuracy'], label='Train')\n",
    "plt.plot(history_lstm.history['val_accuracy'], label='Validation')\n",
    "plt.ylabel('Accuracy')\n",
    "plt.xlabel('Epoch')\n",
    "plt.title('Training and validating accuracy')\n",
    "plt.legend()\n",
    "plt.show()\n",
    "\n",
    "y_pre_balance_lstm = (lstm.predict(x_balance_test) > 0.5).astype(\"int32\").flatten()\n",
    "print_metrics(\"lstm balance\",y_balance_test,y_pre_balance_lstm.tolist())"
   ]
  },
  {
   "cell_type": "code",
   "execution_count": 24,
   "metadata": {
    "pycharm": {
     "name": "#%%\n"
    }
   },
   "outputs": [
    {
     "name": "stdout",
     "output_type": "stream",
     "text": [
      "Epoch 1/20\n",
      "98/98 [==============================] - 5s 28ms/step - loss: 0.6076 - accuracy: 0.6718 - recall_2: 0.7192 - val_loss: 0.5887 - val_accuracy: 0.6901 - val_recall_2: 0.8263\n",
      "Epoch 2/20\n",
      "98/98 [==============================] - 2s 15ms/step - loss: 0.5844 - accuracy: 0.7054 - recall_2: 0.7779 - val_loss: 0.5692 - val_accuracy: 0.6940 - val_recall_2: 0.7618\n",
      "Epoch 3/20\n",
      "98/98 [==============================] - 1s 15ms/step - loss: 0.5683 - accuracy: 0.7112 - recall_2: 0.7895 - val_loss: 0.5730 - val_accuracy: 0.6953 - val_recall_2: 0.7568\n",
      "Epoch 4/20\n",
      "98/98 [==============================] - 2s 15ms/step - loss: 0.5716 - accuracy: 0.7153 - recall_2: 0.7966 - val_loss: 0.5658 - val_accuracy: 0.6940 - val_recall_2: 0.7891\n",
      "Epoch 5/20\n",
      "98/98 [==============================] - 2s 15ms/step - loss: 0.5697 - accuracy: 0.7128 - recall_2: 0.7947 - val_loss: 0.5675 - val_accuracy: 0.6940 - val_recall_2: 0.7990\n",
      "Epoch 6/20\n",
      "98/98 [==============================] - 2s 15ms/step - loss: 0.5663 - accuracy: 0.7192 - recall_2: 0.8102 - val_loss: 0.5751 - val_accuracy: 0.6927 - val_recall_2: 0.7767\n",
      "Epoch 7/20\n",
      "98/98 [==============================] - 2s 15ms/step - loss: 0.5615 - accuracy: 0.7115 - recall_2: 0.7863 - val_loss: 0.5694 - val_accuracy: 0.6978 - val_recall_2: 0.7792\n"
     ]
    },
    {
     "data": {
      "image/png": "[encoded data removed]",
      "text/plain": [
       "<Figure size 432x288 with 1 Axes>"
      ]
     },
     "metadata": {
      "needs_background": "light"
     },
     "output_type": "display_data"
    },
    {
     "name": "stdout",
     "output_type": "stream",
     "text": [
      "94/94 [==============================] - 1s 8ms/step\n",
      "lstm balance_2 dead recall 0.80 precision 0.46 f1_score 0.59\n",
      "lstm balance_2 alive recall 0.64 precision 0.90 f1_score 0.75\n"
     ]
    }
   ],
   "source": [
    "lstm3 = keras.Sequential()\n",
    "lstm3.add(layers.LSTM(units=100, activation='tanh', return_sequences=True, input_shape=(input_length, 1)))\n",
    "lstm3.add(layers.Dropout(0.5))\n",
    "lstm3.add(layers.LSTM(units=50, activation='tanh', return_sequences=False))\n",
    "lstm3.add(layers.Dropout(0.5))\n",
    "lstm3.add(layers.Dense(1, activation='sigmoid'))\n",
    "\n",
    "lstm3.compile(optimizer='adam',\n",
    "            loss='binary_crossentropy',\n",
    "            metrics=['accuracy',tf.keras.metrics.Recall()])\n",
    "\n",
    "history_lstm3 = lstm3.fit(np.array(x_balance_2_train), np.array(y_balance_2_train),validation_split=0.2,callbacks=[callback],epochs=20)\n",
    "plt.plot(history_lstm.history['accuracy'], label='Train')\n",
    "plt.plot(history_lstm.history['val_accuracy'], label='Validation')\n",
    "plt.ylabel('Accuracy')\n",
    "plt.xlabel('Epoch')\n",
    "plt.title('Training and validating accuracy')\n",
    "plt.legend()\n",
    "plt.show()\n",
    "\n",
    "y_pre_balance_2_lstm = (lstm3.predict(x_balance_2_test) > 0.5).astype(\"int32\").flatten()\n",
    "print_metrics(\"lstm balance_2\",y_balance_2_test,y_pre_balance_2_lstm.tolist())"
   ]
  },
  {
   "cell_type": "code",
   "execution_count": 26,
   "metadata": {
    "pycharm": {
     "is_executing": true,
     "name": "#%%\n"
    }
   },
   "outputs": [
    {
     "name": "stdout",
     "output_type": "stream",
     "text": [
      "Epoch 1/20\n",
      "175/175 [==============================] - 6s 23ms/step - loss: 0.5100 - accuracy: 0.7371 - recall_4: 0.3115 - val_loss: 0.4899 - val_accuracy: 0.7364 - val_recall_4: 0.1727\n",
      "Epoch 2/20\n",
      "175/175 [==============================] - 3s 14ms/step - loss: 0.4937 - accuracy: 0.7425 - recall_4: 0.3564 - val_loss: 0.4880 - val_accuracy: 0.7386 - val_recall_4: 0.2938\n",
      "Epoch 3/20\n",
      "175/175 [==============================] - 3s 14ms/step - loss: 0.4923 - accuracy: 0.7379 - recall_4: 0.3827 - val_loss: 0.4836 - val_accuracy: 0.7443 - val_recall_4: 0.2268\n",
      "Epoch 4/20\n",
      "175/175 [==============================] - 3s 14ms/step - loss: 0.4889 - accuracy: 0.7448 - recall_4: 0.3808 - val_loss: 0.4872 - val_accuracy: 0.7393 - val_recall_4: 0.1959\n",
      "Epoch 5/20\n",
      "175/175 [==============================] - 3s 15ms/step - loss: 0.4872 - accuracy: 0.7513 - recall_4: 0.3750 - val_loss: 0.4785 - val_accuracy: 0.7586 - val_recall_4: 0.3582\n",
      "Epoch 6/20\n",
      "175/175 [==============================] - 3s 15ms/step - loss: 0.4829 - accuracy: 0.7564 - recall_4: 0.4051 - val_loss: 0.4786 - val_accuracy: 0.7543 - val_recall_4: 0.5309\n",
      "Epoch 7/20\n",
      "175/175 [==============================] - 3s 15ms/step - loss: 0.4899 - accuracy: 0.7448 - recall_4: 0.4038 - val_loss: 0.4855 - val_accuracy: 0.7479 - val_recall_4: 0.2113\n",
      "Epoch 8/20\n",
      "175/175 [==============================] - 3s 15ms/step - loss: 0.4871 - accuracy: 0.7454 - recall_4: 0.3737 - val_loss: 0.4839 - val_accuracy: 0.7479 - val_recall_4: 0.5412\n"
     ]
    },
    {
     "data": {
      "image/png": "[encoded data removed]",
      "text/plain": [
       "<Figure size 432x288 with 1 Axes>"
      ]
     },
     "metadata": {
      "needs_background": "light"
     },
     "output_type": "display_data"
    },
    {
     "name": "stdout",
     "output_type": "stream",
     "text": [
      "94/94 [==============================] - 1s 8ms/step\n",
      "lstm random dead recall 0.56 precision 0.54 f1_score 0.55\n",
      "lstm random alive recall 0.82 precision 0.83 f1_score 0.82\n"
     ]
    }
   ],
   "source": [
    "lstm2 = keras.Sequential()\n",
    "lstm2.add(layers.LSTM(units=100, activation='tanh', return_sequences=True, input_shape=(input_length, 1)))\n",
    "lstm2.add(layers.Dropout(0.2))\n",
    "lstm2.add(layers.LSTM(units=50, activation='tanh', return_sequences=False))\n",
    "lstm2.add(layers.Dropout(0.2))\n",
    "lstm2.add(layers.Dense(1, activation='sigmoid'))\n",
    "\n",
    "\n",
    "lstm2.compile(optimizer='adam',\n",
    "            loss='binary_crossentropy',\n",
    "            metrics=['accuracy',tf.keras.metrics.Recall()])\n",
    "\n",
    "history_lstm2 = lstm2.fit(np.array(x_random_train), np.array(y_random_train),validation_split=0.2,callbacks=[callback], epochs=20)\n",
    "plt.plot(history_lstm2.history['accuracy'], label='train')\n",
    "plt.plot(history_lstm2.history['val_accuracy'], label='Validation')\n",
    "plt.ylabel('Accuracy')\n",
    "plt.xlabel('Epoch')\n",
    "plt.title('Training and validating accuracy')\n",
    "plt.legend()\n",
    "plt.show()\n",
    "\n",
    "y_pre_random_lstm = (lstm2.predict(x_random_test) > 0.5).astype(\"int32\").flatten()\n",
    "print_metrics(\"lstm random\",y_random_test,y_pre_random_lstm.tolist())\n",
    "\n"
   ]
  },
  {
   "cell_type": "code",
   "execution_count": null,
   "metadata": {},
   "outputs": [],
   "source": []
  }
 ],
 "metadata": {
  "kernelspec": {
   "display_name": "Python 3 (ipykernel)",
   "language": "python",
   "name": "python3"
  },
  "language_info": {
   "codemirror_mode": {
    "name": "ipython",
    "version": 3
   },
   "file_extension": ".py",
   "mimetype": "text/x-python",
   "name": "python",
   "nbconvert_exporter": "python",
   "pygments_lexer": "ipython3",
   "version": "3.8.12"
  },
  "pycharm": {
   "stem_cell": {
    "cell_type": "raw",
    "metadata": {
     "collapsed": false
    },
    "source": []
   }
  }
 },
 "nbformat": 4,
 "nbformat_minor": 1
}
