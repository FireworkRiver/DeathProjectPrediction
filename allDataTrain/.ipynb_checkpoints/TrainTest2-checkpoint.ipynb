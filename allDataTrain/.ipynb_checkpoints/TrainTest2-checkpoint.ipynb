{
 "cells": [
  {
   "cell_type": "code",
   "execution_count": 1,
   "metadata": {
    "pycharm": {
     "is_executing": false
    }
   },
   "outputs": [],
   "source": [
    "import csv\n",
    "\n",
    "def intRow(row):\n",
    "    temp = []\n",
    "    for t in row:\n",
    "        temp.append(int(t))\n",
    "    return temp\n",
    "\n",
    "def read_x(address):\n",
    "    reader = csv.reader(open(address))\n",
    "    x= [intRow(row) for row in reader]\n",
    "    return x\n",
    "\n",
    "def read_y(address):\n",
    "    reader = csv.reader(open(address))\n",
    "    list=[intRow(row) for row in reader]\n",
    "    y=sum(list,[])\n",
    "    return y\n",
    "\n",
    "X_0 = read_x('X.csv')\n",
    "Y = read_y('Y.csv')\n",
    "\n",
    "def NormalLine(row):\n",
    "    total = sum(row[-4:])\n",
    "    if total == 0:\n",
    "        total = 1\n",
    "    return [i/total for i in row]\n",
    "\n",
    "X = [NormalLine(row) for row in X_0]"
   ]
  },
  {
   "cell_type": "code",
   "execution_count": 2,
   "metadata": {
    "pycharm": {
     "name": "#%%\n"
    }
   },
   "outputs": [],
   "source": [
    "\n",
    "random_seed = 12345\n",
    "from sklearn.model_selection import train_test_split\n",
    "x_random_train, x_test, y_random_train, y_test = train_test_split(X, Y, test_size=0.3, random_state=random_seed)\n",
    "\n",
    "from imblearn.under_sampling import RandomUnderSampler\n",
    "rus = RandomUnderSampler(random_state=random_seed)\n",
    "x_under_train, y_under_train = rus.fit_resample(x_random_train, y_random_train)\n",
    "\n",
    "from imblearn.over_sampling import SMOTE \n",
    "sm = SMOTE(random_state=random_seed)\n",
    "x_smote_train, y_smote_train = sm.fit_resample(x_random_train, y_random_train)"
   ]
  },
  {
   "cell_type": "code",
   "execution_count": 3,
   "metadata": {
    "pycharm": {
     "name": "#%%\n"
    }
   },
   "outputs": [
    {
     "name": "stdout",
     "output_type": "stream",
     "text": [
      "ZeroR underSampling dead recall 0.00 precision 0.00 f1_score 0.00\n",
      "ZeroR underSampling alive recall 1.00 precision 0.73 f1_score 0.84\n",
      "ZeroR smote dead recall 0.00 precision 0.00 f1_score 0.00\n",
      "ZeroR smote alive recall 1.00 precision 0.73 f1_score 0.84\n",
      "ZeroR random dead recall 0.00 precision 0.00 f1_score 0.00\n",
      "ZeroR random alive recall 1.00 precision 0.73 f1_score 0.84\n"
     ]
    },
    {
     "name": "stderr",
     "output_type": "stream",
     "text": [
      "D:\\Anaconda\\envs\\NLP\\lib\\site-packages\\sklearn\\metrics\\_classification.py:1334: UndefinedMetricWarning: Precision is ill-defined and being set to 0.0 due to no predicted samples. Use `zero_division` parameter to control this behavior.\n",
      "  _warn_prf(average, modifier, msg_start, len(result))\n",
      "D:\\Anaconda\\envs\\NLP\\lib\\site-packages\\sklearn\\metrics\\_classification.py:1334: UndefinedMetricWarning: Precision is ill-defined and being set to 0.0 due to no predicted samples. Use `zero_division` parameter to control this behavior.\n",
      "  _warn_prf(average, modifier, msg_start, len(result))\n",
      "D:\\Anaconda\\envs\\NLP\\lib\\site-packages\\sklearn\\metrics\\_classification.py:1334: UndefinedMetricWarning: Precision is ill-defined and being set to 0.0 due to no predicted samples. Use `zero_division` parameter to control this behavior.\n",
      "  _warn_prf(average, modifier, msg_start, len(result))\n"
     ]
    }
   ],
   "source": [
    "\n",
    "from sklearn.metrics import recall_score\n",
    "from sklearn.metrics import precision_score\n",
    "from sklearn.metrics import f1_score\n",
    "\n",
    "def print_metrics(title,y_true,y_pre):\n",
    "    print(title+\" dead\",end = \" \")\n",
    "    print(\"recall %.2f\"%recall_score(y_true, y_pre),end =\" \")\n",
    "    print(\"precision %.2f\"%precision_score(y_true, y_pre),end=\" \")\n",
    "    print(\"f1_score %.2f\"%f1_score(y_true, y_pre))\n",
    "    \n",
    "    y_flip_true = [0 if i else 1 for i in y_true]\n",
    "    y_flip_pre = [0 if i else 1 for i in y_pre]\n",
    "    \n",
    "    print(title+\" alive\",end = \" \")\n",
    "    print(\"recall %.2f\"%recall_score(y_flip_true, y_flip_pre),end =\" \")\n",
    "    print(\"precision %.2f\"%precision_score(y_flip_true, y_flip_pre),end=\" \")\n",
    "    print(\"f1_score %.2f\"%f1_score(y_flip_true, y_flip_pre))\n",
    "\n",
    "y_pre_random_zeroR = [0 for i in range(len(y_test))]\n",
    "y_pre_under_zeroR = [0 for i in range(len(y_test))]\n",
    "y_pre_smote_zeroR = [0 for i in range(len(y_test))]\n",
    "\n",
    "print_metrics(\"ZeroR underSampling\",y_test,y_pre_under_zeroR)\n",
    "print_metrics(\"ZeroR smote\",y_test,y_pre_smote_zeroR)\n",
    "print_metrics(\"ZeroR random\",y_test,y_pre_random_zeroR)\n"
   ]
  },
  {
   "cell_type": "code",
   "execution_count": 4,
   "metadata": {
    "pycharm": {
     "name": "#%%\n"
    }
   },
   "outputs": [
    {
     "name": "stdout",
     "output_type": "stream",
     "text": [
      "Knn underSampling dead recall 0.54 precision 0.53 f1_score 0.53\n",
      "Knn underSampling alive recall 0.82 precision 0.83 f1_score 0.82\n",
      "Knn smote dead recall 0.62 precision 0.47 f1_score 0.53\n",
      "Knn smote alive recall 0.74 precision 0.84 f1_score 0.79\n",
      "Knn random dead recall 0.38 precision 0.51 f1_score 0.44\n",
      "Knn random alive recall 0.87 precision 0.79 f1_score 0.83\n"
     ]
    }
   ],
   "source": [
    "from sklearn.neighbors import KNeighborsClassifier\n",
    "\n",
    "knn_random = KNeighborsClassifier(n_neighbors=1,p=1)\n",
    "knn_random.fit(x_random_train, y_random_train)\n",
    "y_pre_random_knn = knn_random.predict(x_test)\n",
    "\n",
    "knn_under = KNeighborsClassifier(n_neighbors=9,p=1)\n",
    "knn_under.fit(x_under_train, y_under_train)\n",
    "y_pre_under_knn = knn_under.predict(x_test)\n",
    "\n",
    "knn_smote = KNeighborsClassifier(n_neighbors=9,p=1)\n",
    "knn_smote.fit(x_smote_train, y_smote_train)\n",
    "y_pre_smote_knn = knn_smote.predict(x_test)\n",
    "\n",
    "print_metrics(\"Knn underSampling\",y_test,y_pre_under_knn)\n",
    "print_metrics(\"Knn smote\",y_test,y_pre_smote_knn)\n",
    "print_metrics(\"Knn random\",y_test,y_pre_random_knn)"
   ]
  },
  {
   "cell_type": "code",
   "execution_count": 5,
   "metadata": {
    "pycharm": {
     "name": "#%%\n"
    }
   },
   "outputs": [
    {
     "name": "stdout",
     "output_type": "stream",
     "text": [
      "NB underSampling dead recall 0.45 precision 0.49 f1_score 0.47\n",
      "NB underSampling alive recall 0.83 precision 0.80 f1_score 0.82\n",
      "NB smote dead recall 0.45 precision 0.48 f1_score 0.47\n",
      "NB smote alive recall 0.82 precision 0.80 f1_score 0.81\n",
      "NB random dead recall 0.40 precision 0.48 f1_score 0.44\n",
      "NB random alive recall 0.84 precision 0.79 f1_score 0.82\n"
     ]
    }
   ],
   "source": [
    "from sklearn.naive_bayes import GaussianNB,MultinomialNB,ComplementNB\n",
    "from sklearn.preprocessing import MinMaxScaler\n",
    "\n",
    "GaussianNB_random = GaussianNB()\n",
    "GaussianNB_random.fit(x_random_train, y_random_train)\n",
    "y_pre_random_GNB = GaussianNB_random.predict(x_test)\n",
    "\n",
    "GaussianNB_under = GaussianNB()\n",
    "GaussianNB_under.fit(x_under_train, y_under_train)\n",
    "y_pre_under_GNB = GaussianNB_under.predict(x_test)\n",
    "\n",
    "GaussianNB_smote = GaussianNB()\n",
    "GaussianNB_smote.fit(x_smote_train, y_smote_train)\n",
    "y_pre_smote_GNB = GaussianNB_smote.predict(x_test)\n",
    "\n",
    "\n",
    "print_metrics(\"NB underSampling\",y_test,y_pre_under_GNB)\n",
    "print_metrics(\"NB smote\",y_test,y_pre_smote_GNB)\n",
    "print_metrics(\"NB random\",y_test,y_pre_random_GNB)\n"
   ]
  },
  {
   "cell_type": "code",
   "execution_count": 6,
   "metadata": {
    "pycharm": {
     "name": "#%%\n"
    }
   },
   "outputs": [
    {
     "name": "stdout",
     "output_type": "stream",
     "text": [
      "MLP underSampling dead recall 0.64 precision 0.48 f1_score 0.55\n",
      "MLP underSampling alive recall 0.70 precision 0.82 f1_score 0.75\n",
      "MLP smote dead recall 0.66 precision 0.46 f1_score 0.54\n",
      "MLP smote alive recall 0.66 precision 0.82 f1_score 0.73\n",
      "MLP random dead recall 0.30 precision 0.67 f1_score 0.42\n",
      "MLP random alive recall 0.93 precision 0.76 f1_score 0.84\n"
     ]
    }
   ],
   "source": [
    "from sklearn.neural_network import MLPClassifier\n",
    "\n",
    "MLP_under = MLPClassifier(hidden_layer_sizes=(100,100,100),activation='logistic',max_iter=300)\n",
    "MLP_under.fit(x_under_train, y_under_train)\n",
    "y_pre_under_MLP = MLP_under.predict(x_test)\n",
    "\n",
    "MLP_smote = MLPClassifier(hidden_layer_sizes=(100,100,100),activation='logistic',max_iter=300)\n",
    "MLP_smote.fit(x_smote_train, y_smote_train)\n",
    "y_pre_smote_MLP = MLP_smote.predict(x_test)\n",
    "\n",
    "MLP_random = MLPClassifier(hidden_layer_sizes=(100,100,100),activation='logistic',max_iter=300)\n",
    "MLP_random.fit(x_random_train, y_random_train)\n",
    "y_pre_random_MLP = MLP_random.predict(x_test)\n",
    "\n",
    "print_metrics(\"MLP underSampling\",y_test,y_pre_under_MLP)\n",
    "print_metrics(\"MLP smote\",y_test,y_pre_smote_MLP)\n",
    "print_metrics(\"MLP random\",y_test,y_pre_random_MLP)"
   ]
  },
  {
   "cell_type": "code",
   "execution_count": 7,
   "metadata": {
    "pycharm": {
     "name": "#%%\n"
    }
   },
   "outputs": [
    {
     "name": "stdout",
     "output_type": "stream",
     "text": [
      "RandomForeset underSampling dead recall 0.83 precision 0.51 f1_score 0.63\n",
      "RandomForeset underSampling alive recall 0.66 precision 0.90 f1_score 0.76\n",
      "RandomForeset smote dead recall 0.65 precision 0.54 f1_score 0.59\n",
      "RandomForeset smote alive recall 0.76 precision 0.83 f1_score 0.79\n",
      "RandomForeset random dead recall 0.42 precision 0.61 f1_score 0.50\n",
      "RandomForeset random alive recall 0.89 precision 0.78 f1_score 0.83\n"
     ]
    }
   ],
   "source": [
    "from sklearn.ensemble import RandomForestClassifier\n",
    "\n",
    "rf_under = RandomForestClassifier(random_state=random_seed,n_estimators=200,criterion='gini')\n",
    "rf_under.fit(x_under_train, y_under_train)\n",
    "y_pre_under_rf = rf_under.predict(x_test)\n",
    "\n",
    "rf_smote = RandomForestClassifier(random_state=random_seed,n_estimators=200,criterion='gini')\n",
    "rf_smote.fit(x_smote_train, y_smote_train)\n",
    "y_pre_smote_rf = rf_smote.predict(x_test)\n",
    "\n",
    "rf_random = RandomForestClassifier(random_state=random_seed,n_estimators=200,criterion='gini')\n",
    "rf_random.fit(x_random_train, y_random_train)\n",
    "y_pre_random_rf = rf_random.predict(x_test)\n",
    "\n",
    "print_metrics(\"RandomForeset underSampling\",y_test,y_pre_under_rf)\n",
    "print_metrics(\"RandomForeset smote\",y_test,y_pre_smote_rf)\n",
    "print_metrics(\"RandomForeset random\",y_test,y_pre_random_rf)\n"
   ]
  },
  {
   "cell_type": "code",
   "execution_count": 8,
   "metadata": {
    "pycharm": {
     "name": "#%%\n"
    }
   },
   "outputs": [],
   "source": [
    "import tensorflow as tf\n",
    "from tensorflow import keras\n",
    "from tensorflow.keras import layers\n",
    "import matplotlib.pyplot as plt\n",
    "import matplotlib.cm as cm\n",
    "import numpy as np\n",
    "\n",
    "\n",
    "input_length = len(x_random_train[0])\n",
    "callback = tf.keras.callbacks.EarlyStopping(monitor='val_loss', patience=3)"
   ]
  },
  {
   "cell_type": "code",
   "execution_count": 9,
   "metadata": {
    "pycharm": {
     "name": "#%%\n"
    }
   },
   "outputs": [
    {
     "name": "stdout",
     "output_type": "stream",
     "text": [
      "Epoch 1/20\n",
      "54/54 [==============================] - 9s 41ms/step - loss: 0.6708 - accuracy: 0.6246 - recall: 0.0125 - val_loss: 0.9400 - val_accuracy: 0.0000e+00 - val_recall: 0.0000e+00\n",
      "Epoch 2/20\n",
      "54/54 [==============================] - 1s 17ms/step - loss: 0.6645 - accuracy: 0.6251 - recall: 0.0000e+00 - val_loss: 0.9360 - val_accuracy: 0.0000e+00 - val_recall: 0.0000e+00\n",
      "Epoch 3/20\n",
      "54/54 [==============================] - 1s 16ms/step - loss: 0.6635 - accuracy: 0.6251 - recall: 0.0000e+00 - val_loss: 0.9899 - val_accuracy: 0.0000e+00 - val_recall: 0.0000e+00\n",
      "Epoch 4/20\n",
      "54/54 [==============================] - 1s 16ms/step - loss: 0.6651 - accuracy: 0.6251 - recall: 0.0000e+00 - val_loss: 0.9585 - val_accuracy: 0.0000e+00 - val_recall: 0.0000e+00\n",
      "Epoch 5/20\n",
      "54/54 [==============================] - 1s 16ms/step - loss: 0.6630 - accuracy: 0.6251 - recall: 0.0000e+00 - val_loss: 0.9372 - val_accuracy: 0.0000e+00 - val_recall: 0.0000e+00\n"
     ]
    },
    {
     "data": {
      "image/png": "[encoded data removed]",
      "text/plain": [
       "<Figure size 432x288 with 1 Axes>"
      ]
     },
     "metadata": {
      "needs_background": "light"
     },
     "output_type": "display_data"
    },
    {
     "name": "stdout",
     "output_type": "stream",
     "text": [
      "49/49 [==============================] - 3s 35ms/step\n",
      "lstm underSampling dead recall 0.00 precision 0.00 f1_score 0.00\n",
      "lstm underSampling alive recall 1.00 precision 0.70 f1_score 0.82\n"
     ]
    },
    {
     "name": "stderr",
     "output_type": "stream",
     "text": [
      "D:\\Anaconda\\envs\\NLP\\lib\\site-packages\\sklearn\\metrics\\_classification.py:1334: UndefinedMetricWarning: Precision is ill-defined and being set to 0.0 due to no predicted samples. Use `zero_division` parameter to control this behavior.\n",
      "  _warn_prf(average, modifier, msg_start, len(result))\n"
     ]
    }
   ],
   "source": [
    "lstm = keras.Sequential()\n",
    "lstm.add(layers.LSTM(units=100, activation='tanh', return_sequences=True, input_shape=(input_length, 1)))\n",
    "lstm.add(layers.Dropout(0.5))\n",
    "lstm.add(layers.LSTM(units=50, activation='tanh', return_sequences=False))\n",
    "lstm.add(layers.Dropout(0.5))\n",
    "lstm.add(layers.Dense(1, activation='sigmoid'))\n",
    "\n",
    "lstm.compile(optimizer='adam',\n",
    "            loss='binary_crossentropy',\n",
    "            metrics=['accuracy',tf.keras.metrics.Recall()])\n",
    "\n",
    "history_lstm = lstm.fit(np.array(x_under_train), np.array(y_under_train),validation_split=0.2,callbacks=[callback],epochs=20)\n",
    "plt.plot(history_lstm.history['accuracy'], label='Train')\n",
    "plt.plot(history_lstm.history['val_accuracy'], label='Validation')\n",
    "plt.ylabel('Accuracy')\n",
    "plt.xlabel('Epoch')\n",
    "plt.title('Training and validating accuracy')\n",
    "plt.legend()\n",
    "plt.show()\n",
    "\n",
    "y_pre_under_lstm = (lstm.predict(x_test) > 0.5).astype(\"int32\").flatten()\n",
    "print_metrics(\"lstm underSampling\",y_test,y_pre_under_lstm.tolist())"
   ]
  },
  {
   "cell_type": "code",
   "execution_count": 10,
   "metadata": {
    "pycharm": {
     "name": "#%%\n"
    }
   },
   "outputs": [
    {
     "name": "stdout",
     "output_type": "stream",
     "text": [
      "Epoch 1/20\n",
      "130/130 [==============================] - 28s 182ms/step - loss: 0.6689 - accuracy: 0.6246 - recall_1: 0.0045 - val_loss: 0.9196 - val_accuracy: 0.0000e+00 - val_recall_1: 0.0000e+00\n",
      "Epoch 2/20\n",
      "130/130 [==============================] - 24s 182ms/step - loss: 0.6627 - accuracy: 0.6251 - recall_1: 0.0000e+00 - val_loss: 0.9978 - val_accuracy: 0.0000e+00 - val_recall_1: 0.0000e+00\n",
      "Epoch 3/20\n",
      "130/130 [==============================] - 19s 146ms/step - loss: 0.6618 - accuracy: 0.6251 - recall_1: 0.0000e+00 - val_loss: 0.9211 - val_accuracy: 0.0000e+00 - val_recall_1: 0.0000e+00\n",
      "Epoch 4/20\n",
      "130/130 [==============================] - 24s 188ms/step - loss: 0.6560 - accuracy: 0.6253 - recall_1: 0.0077 - val_loss: 0.7372 - val_accuracy: 0.5082 - val_recall_1: 0.5082\n",
      "Epoch 5/20\n",
      "130/130 [==============================] - 26s 200ms/step - loss: 0.6467 - accuracy: 0.6319 - recall_1: 0.1251 - val_loss: 0.9199 - val_accuracy: 9.6618e-04 - val_recall_1: 9.6618e-04\n",
      "Epoch 6/20\n",
      "130/130 [==============================] - 26s 199ms/step - loss: 0.6422 - accuracy: 0.6410 - recall_1: 0.1715 - val_loss: 0.8882 - val_accuracy: 0.2348 - val_recall_1: 0.2348\n",
      "Epoch 7/20\n",
      "130/130 [==============================] - 20s 158ms/step - loss: 0.6377 - accuracy: 0.6447 - recall_1: 0.2315 - val_loss: 0.9198 - val_accuracy: 0.2261 - val_recall_1: 0.2261\n"
     ]
    },
    {
     "data": {
      "image/png": "[encoded data removed]",
      "text/plain": [
       "<Figure size 432x288 with 1 Axes>"
      ]
     },
     "metadata": {
      "needs_background": "light"
     },
     "output_type": "display_data"
    },
    {
     "name": "stdout",
     "output_type": "stream",
     "text": [
      "49/49 [==============================] - 8s 140ms/step\n",
      "lstm smote dead recall 0.26 precision 0.54 f1_score 0.35\n",
      "lstm smote alive recall 0.90 precision 0.74 f1_score 0.81\n"
     ]
    }
   ],
   "source": [
    "lstm3 = keras.Sequential()\n",
    "lstm3.add(layers.LSTM(units=100, activation='tanh', return_sequences=True, input_shape=(input_length, 1)))\n",
    "lstm3.add(layers.Dropout(0.5))\n",
    "lstm3.add(layers.LSTM(units=50, activation='tanh', return_sequences=False))\n",
    "lstm3.add(layers.Dropout(0.5))\n",
    "lstm3.add(layers.Dense(1, activation='sigmoid'))\n",
    "\n",
    "lstm3.compile(optimizer='adam',\n",
    "            loss='binary_crossentropy',\n",
    "            metrics=['accuracy',tf.keras.metrics.Recall()])\n",
    "\n",
    "history_lstm3 = lstm3.fit(np.array(x_smote_train), np.array(y_smote_train),validation_split=0.2,callbacks=[callback],epochs=20)\n",
    "plt.plot(history_lstm.history['accuracy'], label='Train')\n",
    "plt.plot(history_lstm.history['val_accuracy'], label='Validation')\n",
    "plt.ylabel('Accuracy')\n",
    "plt.xlabel('Epoch')\n",
    "plt.title('Training and validating accuracy')\n",
    "plt.legend()\n",
    "plt.show()\n",
    "\n",
    "y_pre_smote_lstm = (lstm3.predict(x_test) > 0.5).astype(\"int32\").flatten()\n",
    "print_metrics(\"lstm smote\",y_test,y_pre_smote_lstm.tolist())"
   ]
  },
  {
   "cell_type": "code",
   "execution_count": 11,
   "metadata": {
    "pycharm": {
     "name": "#%%\n"
    }
   },
   "outputs": [
    {
     "name": "stdout",
     "output_type": "stream",
     "text": [
      "Epoch 1/20\n",
      "92/92 [==============================] - 28s 230ms/step - loss: 0.6187 - accuracy: 0.7035 - recall_2: 0.0082 - val_loss: 0.6126 - val_accuracy: 0.7004 - val_recall_2: 0.0000e+00\n",
      "Epoch 2/20\n",
      "92/92 [==============================] - 20s 222ms/step - loss: 0.6056 - accuracy: 0.7093 - recall_2: 0.0000e+00 - val_loss: 0.6110 - val_accuracy: 0.7004 - val_recall_2: 0.0000e+00\n",
      "Epoch 3/20\n",
      "92/92 [==============================] - 20s 215ms/step - loss: 0.6047 - accuracy: 0.7093 - recall_2: 0.0000e+00 - val_loss: 0.6108 - val_accuracy: 0.7004 - val_recall_2: 0.0000e+00\n",
      "Epoch 4/20\n",
      "92/92 [==============================] - 14s 153ms/step - loss: 0.6052 - accuracy: 0.7093 - recall_2: 0.0000e+00 - val_loss: 0.6093 - val_accuracy: 0.7004 - val_recall_2: 0.0000e+00\n",
      "Epoch 5/20\n",
      "92/92 [==============================] - 20s 216ms/step - loss: 0.6028 - accuracy: 0.7093 - recall_2: 0.0000e+00 - val_loss: 0.6077 - val_accuracy: 0.7004 - val_recall_2: 0.0000e+00\n",
      "Epoch 6/20\n",
      "92/92 [==============================] - 14s 153ms/step - loss: 0.6019 - accuracy: 0.7093 - recall_2: 0.0000e+00 - val_loss: 0.6059 - val_accuracy: 0.7004 - val_recall_2: 0.0000e+00\n",
      "Epoch 7/20\n",
      "92/92 [==============================] - 20s 222ms/step - loss: 0.5931 - accuracy: 0.7100 - recall_2: 0.0024 - val_loss: 0.5881 - val_accuracy: 0.7004 - val_recall_2: 0.0000e+00\n",
      "Epoch 8/20\n",
      "92/92 [==============================] - 14s 152ms/step - loss: 0.5852 - accuracy: 0.7086 - recall_2: 0.0176 - val_loss: 0.5871 - val_accuracy: 0.7004 - val_recall_2: 0.0000e+00\n",
      "Epoch 9/20\n",
      "92/92 [==============================] - 20s 218ms/step - loss: 0.5827 - accuracy: 0.7103 - recall_2: 0.0235 - val_loss: 0.5818 - val_accuracy: 0.7018 - val_recall_2: 0.0183\n",
      "Epoch 10/20\n",
      "92/92 [==============================] - 14s 158ms/step - loss: 0.5811 - accuracy: 0.7069 - recall_2: 0.0376 - val_loss: 0.5811 - val_accuracy: 0.7004 - val_recall_2: 0.0091\n",
      "Epoch 11/20\n",
      "92/92 [==============================] - 22s 239ms/step - loss: 0.5793 - accuracy: 0.7096 - recall_2: 0.0541 - val_loss: 0.5774 - val_accuracy: 0.7086 - val_recall_2: 0.0868\n",
      "Epoch 12/20\n",
      "92/92 [==============================] - 16s 171ms/step - loss: 0.5797 - accuracy: 0.7100 - recall_2: 0.0635 - val_loss: 0.5777 - val_accuracy: 0.7031 - val_recall_2: 0.0457\n",
      "Epoch 13/20\n",
      "92/92 [==============================] - 22s 240ms/step - loss: 0.5778 - accuracy: 0.7096 - recall_2: 0.0788 - val_loss: 0.5837 - val_accuracy: 0.7004 - val_recall_2: 0.0091\n",
      "Epoch 14/20\n",
      "92/92 [==============================] - 20s 221ms/step - loss: 0.5807 - accuracy: 0.7120 - recall_2: 0.0718 - val_loss: 0.5787 - val_accuracy: 0.7004 - val_recall_2: 0.1142\n"
     ]
    },
    {
     "data": {
      "image/png": "[encoded data removed]",
      "text/plain": [
       "<Figure size 432x288 with 1 Axes>"
      ]
     },
     "metadata": {
      "needs_background": "light"
     },
     "output_type": "display_data"
    },
    {
     "name": "stdout",
     "output_type": "stream",
     "text": [
      "49/49 [==============================] - 8s 12ms/step\n",
      "lstm random dead recall 0.16 precision 0.62 f1_score 0.26\n",
      "lstm random alive recall 0.96 precision 0.73 f1_score 0.82\n"
     ]
    }
   ],
   "source": [
    "lstm2 = keras.Sequential()\n",
    "lstm2.add(layers.LSTM(units=100, activation='tanh', return_sequences=True, input_shape=(input_length, 1)))\n",
    "lstm2.add(layers.Dropout(0.2))\n",
    "lstm2.add(layers.LSTM(units=50, activation='tanh', return_sequences=False))\n",
    "lstm2.add(layers.Dropout(0.2))\n",
    "lstm2.add(layers.Dense(1, activation='sigmoid'))\n",
    "\n",
    "\n",
    "lstm2.compile(optimizer='adam',\n",
    "            loss='binary_crossentropy',\n",
    "            metrics=['accuracy',tf.keras.metrics.Recall()])\n",
    "\n",
    "history_lstm2 = lstm2.fit(np.array(x_random_train), np.array(y_random_train),validation_split=0.2,callbacks=[callback], epochs=20)\n",
    "plt.plot(history_lstm2.history['accuracy'], label='train')\n",
    "plt.plot(history_lstm2.history['val_accuracy'], label='Validation')\n",
    "plt.ylabel('Accuracy')\n",
    "plt.xlabel('Epoch')\n",
    "plt.title('Training and validating accuracy')\n",
    "plt.legend()\n",
    "plt.show()\n",
    "\n",
    "y_pre_random_lstm = (lstm2.predict(x_test) > 0.5).astype(\"int32\").flatten()\n",
    "print_metrics(\"lstm random\",y_test,y_pre_random_lstm.tolist())"
   ]
  },
  {
   "cell_type": "code",
   "execution_count": 13,
   "metadata": {
    "pycharm": {
     "name": "#%%\n"
    }
   },
   "outputs": [
    {
     "name": "stderr",
     "output_type": "stream",
     "text": [
      "D:\\Anaconda\\envs\\NLP\\lib\\site-packages\\sklearn\\metrics\\_classification.py:1334: UndefinedMetricWarning: Precision is ill-defined and being set to 0.0 due to no predicted samples. Use `zero_division` parameter to control this behavior.\n",
      "  _warn_prf(average, modifier, msg_start, len(result))\n",
      "D:\\Anaconda\\envs\\NLP\\lib\\site-packages\\sklearn\\metrics\\_classification.py:1334: UndefinedMetricWarning: Precision is ill-defined and being set to 0.0 due to no predicted samples. Use `zero_division` parameter to control this behavior.\n",
      "  _warn_prf(average, modifier, msg_start, len(result))\n",
      "D:\\Anaconda\\envs\\NLP\\lib\\site-packages\\sklearn\\metrics\\_classification.py:1334: UndefinedMetricWarning: Precision is ill-defined and being set to 0.0 due to no predicted samples. Use `zero_division` parameter to control this behavior.\n",
      "  _warn_prf(average, modifier, msg_start, len(result))\n",
      "D:\\Anaconda\\envs\\NLP\\lib\\site-packages\\sklearn\\metrics\\_classification.py:1334: UndefinedMetricWarning: Precision is ill-defined and being set to 0.0 due to no predicted samples. Use `zero_division` parameter to control this behavior.\n",
      "  _warn_prf(average, modifier, msg_start, len(result))\n"
     ]
    },
    {
     "name": "stdout",
     "output_type": "stream",
     "text": [
      "writing..\n",
      "finish..\n"
     ]
    }
   ],
   "source": [
    "balance_pre_list = [y_pre_under_zeroR,\n",
    "                    y_pre_under_knn,\n",
    "                    y_pre_under_GNB,\n",
    "                    y_pre_under_MLP,\n",
    "                    y_pre_under_rf,\n",
    "                    y_pre_under_lstm.tolist()\n",
    "                    ]\n",
    "\n",
    "balance_2_pre_list = [y_pre_smote_zeroR,\n",
    "                      y_pre_smote_knn,\n",
    "                      y_pre_smote_GNB,\n",
    "                      y_pre_smote_MLP,\n",
    "                      y_pre_smote_rf,\n",
    "                      y_pre_smote_lstm.tolist()\n",
    "                      ]\n",
    "\n",
    "random_pre_list = [y_pre_random_zeroR,\n",
    "                   y_pre_random_knn,\n",
    "                   y_pre_random_GNB,\n",
    "                   y_pre_random_MLP,\n",
    "                   y_pre_random_rf,\n",
    "                   y_pre_random_lstm.tolist()\n",
    "                   ]\n",
    "\n",
    "test_list = [y_test,y_test,y_test]\n",
    "pre_list =[balance_pre_list, balance_2_pre_list,random_pre_list]\n",
    "\n",
    "def get_metrics(y_true,y_pre):    \n",
    "    result1=[recall_score(y_true, y_pre),\n",
    "             precision_score(y_true, y_pre),\n",
    "             f1_score(y_true, y_pre)]\n",
    "    \n",
    "    y_flip_true = [0 if i else 1 for i in y_true]\n",
    "    y_flip_pre = [0 if i else 1 for i in y_pre]\n",
    "    \n",
    "    result2=[recall_score(y_flip_true, y_flip_pre),\n",
    "             precision_score(y_flip_true, y_flip_pre),\n",
    "             f1_score(y_flip_true, y_flip_pre)]\n",
    "    \n",
    "    return result1,result2\n",
    "\n",
    "result= []\n",
    "for i in range(len(test_list)):\n",
    "    test_y = test_list[i]\n",
    "    pre_y_list = pre_list[i]\n",
    "    result_list1=[]\n",
    "    result_list2=[]\n",
    "    for pre_y in pre_y_list:\n",
    "        result1,result2 = get_metrics(test_y,pre_y)\n",
    "        result_list1+=result1\n",
    "        result_list2+=result2\n",
    "    result.append(result_list1)\n",
    "    result.append(result_list2)\n",
    "\n",
    "with open('./result/percent_result.csv', 'w',newline='') as f:\n",
    "    print(\"writing..\")\n",
    "    writer = csv.writer(f)\n",
    "    for row in result:\n",
    "        writer.writerow(row)\n",
    "print(\"finish..\")\n"
   ]
  },
  {
   "cell_type": "code",
   "execution_count": null,
   "metadata": {},
   "outputs": [],
   "source": []
  }
 ],
 "metadata": {
  "kernelspec": {
   "display_name": "Python 3 (ipykernel)",
   "language": "python",
   "name": "python3"
  },
  "language_info": {
   "codemirror_mode": {
    "name": "ipython",
    "version": 3
   },
   "file_extension": ".py",
   "mimetype": "text/x-python",
   "name": "python",
   "nbconvert_exporter": "python",
   "pygments_lexer": "ipython3",
   "version": "3.8.12"
  },
  "pycharm": {
   "stem_cell": {
    "cell_type": "raw",
    "metadata": {
     "collapsed": false
    },
    "source": []
   }
  }
 },
 "nbformat": 4,
 "nbformat_minor": 1
}
