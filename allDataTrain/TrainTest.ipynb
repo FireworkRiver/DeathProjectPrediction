{
 "cells": [
  {
   "cell_type": "code",
   "execution_count": 1,
   "metadata": {
    "pycharm": {
     "is_executing": false
    }
   },
   "outputs": [],
   "source": [
    "import csv\n",
    "\n",
    "def intRow(row):\n",
    "    temp = []\n",
    "    for t in row:\n",
    "        temp.append(int(t))\n",
    "    return temp\n",
    "\n",
    "def read_x(address):\n",
    "    reader = csv.reader(open(address))\n",
    "    x= [intRow(row) for row in reader]\n",
    "    return x\n",
    "\n",
    "def read_y(address):\n",
    "    reader = csv.reader(open(address))\n",
    "    list=[intRow(row) for row in reader]\n",
    "    y=sum(list,[])\n",
    "    return y\n",
    "\n",
    "X = read_x('X.csv')\n",
    "Y = read_y('Y.csv')"
   ]
  },
  {
   "cell_type": "code",
   "execution_count": 2,
   "metadata": {
    "pycharm": {
     "is_executing": false,
     "name": "#%%\n"
    }
   },
   "outputs": [],
   "source": [
    "random_seed = 12345\n",
    "from sklearn.model_selection import train_test_split\n",
    "x_random_train, x_test, y_random_train, y_test = train_test_split(X, Y, test_size=0.3, random_state=random_seed)\n",
    "\n",
    "from imblearn.under_sampling import RandomUnderSampler\n",
    "rus = RandomUnderSampler(random_state=random_seed)\n",
    "x_under_train, y_under_train = rus.fit_resample(x_random_train, y_random_train)\n",
    "\n",
    "from imblearn.over_sampling import SMOTE \n",
    "sm = SMOTE(random_state=random_seed)\n",
    "x_smote_train, y_smote_train = sm.fit_resample(x_random_train, y_random_train)"
   ]
  },
  {
   "cell_type": "code",
   "execution_count": 3,
   "metadata": {
    "pycharm": {
     "name": "#%%\n"
    }
   },
   "outputs": [
    {
     "name": "stdout",
     "output_type": "stream",
     "text": [
      "ZeroR underSampling dead recall 0.00 precision 0.00 f1_score 0.00\n",
      "ZeroR underSampling alive recall 1.00 precision 0.73 f1_score 0.84\n",
      "ZeroR smote dead recall 0.00 precision 0.00 f1_score 0.00\n",
      "ZeroR smote alive recall 1.00 precision 0.73 f1_score 0.84\n",
      "ZeroR random dead recall 0.00 precision 0.00 f1_score 0.00\n",
      "ZeroR random alive recall 1.00 precision 0.73 f1_score 0.84\n"
     ]
    },
    {
     "name": "stderr",
     "output_type": "stream",
     "text": [
      "D:\\Anaconda\\envs\\NLP\\lib\\site-packages\\sklearn\\metrics\\_classification.py:1334: UndefinedMetricWarning: Precision is ill-defined and being set to 0.0 due to no predicted samples. Use `zero_division` parameter to control this behavior.\n",
      "  _warn_prf(average, modifier, msg_start, len(result))\n",
      "D:\\Anaconda\\envs\\NLP\\lib\\site-packages\\sklearn\\metrics\\_classification.py:1334: UndefinedMetricWarning: Precision is ill-defined and being set to 0.0 due to no predicted samples. Use `zero_division` parameter to control this behavior.\n",
      "  _warn_prf(average, modifier, msg_start, len(result))\n",
      "D:\\Anaconda\\envs\\NLP\\lib\\site-packages\\sklearn\\metrics\\_classification.py:1334: UndefinedMetricWarning: Precision is ill-defined and being set to 0.0 due to no predicted samples. Use `zero_division` parameter to control this behavior.\n",
      "  _warn_prf(average, modifier, msg_start, len(result))\n"
     ]
    }
   ],
   "source": [
    "\n",
    "from sklearn.metrics import recall_score\n",
    "from sklearn.metrics import precision_score\n",
    "from sklearn.metrics import f1_score\n",
    "\n",
    "def print_metrics(title,y_true,y_pre):\n",
    "    print(title+\" dead\",end = \" \")\n",
    "    print(\"recall %.2f\"%recall_score(y_true, y_pre),end =\" \")\n",
    "    print(\"precision %.2f\"%precision_score(y_true, y_pre),end=\" \")\n",
    "    print(\"f1_score %.2f\"%f1_score(y_true, y_pre))\n",
    "    \n",
    "    y_flip_true = [0 if i else 1 for i in y_true]\n",
    "    y_flip_pre = [0 if i else 1 for i in y_pre]\n",
    "    \n",
    "    print(title+\" alive\",end = \" \")\n",
    "    print(\"recall %.2f\"%recall_score(y_flip_true, y_flip_pre),end =\" \")\n",
    "    print(\"precision %.2f\"%precision_score(y_flip_true, y_flip_pre),end=\" \")\n",
    "    print(\"f1_score %.2f\"%f1_score(y_flip_true, y_flip_pre))\n",
    "\n",
    "y_pre_random_zeroR = [0 for i in range(len(y_test))]\n",
    "y_pre_under_zeroR = [0 for i in range(len(y_test))]\n",
    "y_pre_smote_zeroR = [0 for i in range(len(y_test))]\n",
    "\n",
    "print_metrics(\"ZeroR underSampling\",y_test,y_pre_under_zeroR)\n",
    "print_metrics(\"ZeroR smote\",y_test,y_pre_smote_zeroR)\n",
    "print_metrics(\"ZeroR random\",y_test,y_pre_random_zeroR)\n"
   ]
  },
  {
   "cell_type": "code",
   "execution_count": 4,
   "metadata": {
    "pycharm": {
     "is_executing": false,
     "name": "#%%\n"
    }
   },
   "outputs": [
    {
     "name": "stdout",
     "output_type": "stream",
     "text": [
      "Knn underSampling dead recall 0.73 precision 0.47 f1_score 0.57\n",
      "Knn underSampling alive recall 0.69 precision 0.88 f1_score 0.77\n",
      "Knn smote dead recall 0.87 precision 0.43 f1_score 0.57\n",
      "Knn smote alive recall 0.57 precision 0.92 f1_score 0.70\n",
      "Knn random dead recall 0.42 precision 0.54 f1_score 0.47\n",
      "Knn random alive recall 0.86 precision 0.80 f1_score 0.83\n"
     ]
    }
   ],
   "source": [
    "from sklearn.neighbors import KNeighborsClassifier\n",
    "\n",
    "knn_random = KNeighborsClassifier(n_neighbors=9,p=1)\n",
    "knn_random.fit(x_random_train, y_random_train)\n",
    "y_pre_random_knn = knn_random.predict(x_test)\n",
    "\n",
    "knn_under = KNeighborsClassifier(n_neighbors=9,p=1)\n",
    "knn_under.fit(x_under_train, y_under_train)\n",
    "y_pre_under_knn = knn_under.predict(x_test)\n",
    "\n",
    "knn_smote = KNeighborsClassifier(n_neighbors=9,p=1)\n",
    "knn_smote.fit(x_smote_train, y_smote_train)\n",
    "y_pre_smote_knn = knn_smote.predict(x_test)\n",
    "\n",
    "print_metrics(\"Knn underSampling\",y_test,y_pre_under_knn)\n",
    "print_metrics(\"Knn smote\",y_test,y_pre_smote_knn)\n",
    "print_metrics(\"Knn random\",y_test,y_pre_random_knn)"
   ]
  },
  {
   "cell_type": "code",
   "execution_count": 5,
   "metadata": {
    "pycharm": {
     "name": "#%%\n"
    }
   },
   "outputs": [
    {
     "name": "stdout",
     "output_type": "stream",
     "text": [
      "NB underSampling dead recall 0.97 precision 0.32 f1_score 0.48\n",
      "NB underSampling alive recall 0.25 precision 0.95 f1_score 0.39\n",
      "NB smote dead recall 0.97 precision 0.32 f1_score 0.48\n",
      "NB smote alive recall 0.25 precision 0.95 f1_score 0.39\n",
      "NB random dead recall 0.97 precision 0.32 f1_score 0.48\n",
      "NB random alive recall 0.24 precision 0.95 f1_score 0.38\n"
     ]
    }
   ],
   "source": [
    "from sklearn.naive_bayes import GaussianNB,MultinomialNB,ComplementNB\n",
    "from sklearn.preprocessing import MinMaxScaler\n",
    "\n",
    "GaussianNB_random = GaussianNB()\n",
    "GaussianNB_random.fit(x_random_train, y_random_train)\n",
    "y_pre_random_GNB = GaussianNB_random.predict(x_test)\n",
    "\n",
    "GaussianNB_under = GaussianNB()\n",
    "GaussianNB_under.fit(x_under_train, y_under_train)\n",
    "y_pre_under_GNB = GaussianNB_under.predict(x_test)\n",
    "\n",
    "GaussianNB_smote = GaussianNB()\n",
    "GaussianNB_smote.fit(x_smote_train, y_smote_train)\n",
    "y_pre_smote_GNB = GaussianNB_smote.predict(x_test)\n",
    "\n",
    "\n",
    "print_metrics(\"NB underSampling\",y_test,y_pre_under_GNB)\n",
    "print_metrics(\"NB smote\",y_test,y_pre_smote_GNB)\n",
    "print_metrics(\"NB random\",y_test,y_pre_random_GNB)\n"
   ]
  },
  {
   "cell_type": "code",
   "execution_count": 6,
   "metadata": {
    "pycharm": {
     "name": "#%%\n"
    }
   },
   "outputs": [
    {
     "name": "stderr",
     "output_type": "stream",
     "text": [
      "D:\\Anaconda\\envs\\NLP\\lib\\site-packages\\sklearn\\neural_network\\_multilayer_perceptron.py:702: ConvergenceWarning: Stochastic Optimizer: Maximum iterations (300) reached and the optimization hasn't converged yet.\n",
      "  warnings.warn(\n"
     ]
    },
    {
     "name": "stdout",
     "output_type": "stream",
     "text": [
      "MLP underSampling dead recall 0.74 precision 0.44 f1_score 0.55\n",
      "MLP underSampling alive recall 0.65 precision 0.87 f1_score 0.74\n",
      "MLP smote dead recall 0.52 precision 0.49 f1_score 0.50\n",
      "MLP smote alive recall 0.80 precision 0.82 f1_score 0.81\n",
      "MLP random dead recall 0.48 precision 0.51 f1_score 0.49\n",
      "MLP random alive recall 0.83 precision 0.81 f1_score 0.82\n"
     ]
    },
    {
     "name": "stderr",
     "output_type": "stream",
     "text": [
      "D:\\Anaconda\\envs\\NLP\\lib\\site-packages\\sklearn\\neural_network\\_multilayer_perceptron.py:702: ConvergenceWarning: Stochastic Optimizer: Maximum iterations (300) reached and the optimization hasn't converged yet.\n",
      "  warnings.warn(\n"
     ]
    }
   ],
   "source": [
    "from sklearn.neural_network import MLPClassifier\n",
    "\n",
    "MLP_under = MLPClassifier(hidden_layer_sizes=(100,),activation='logistic',max_iter=300)\n",
    "MLP_under.fit(x_under_train, y_under_train)\n",
    "y_pre_under_MLP = MLP_under.predict(x_test)\n",
    "\n",
    "MLP_smote = MLPClassifier(hidden_layer_sizes=(100,),activation='logistic',max_iter=300)\n",
    "MLP_smote.fit(x_smote_train, y_smote_train)\n",
    "y_pre_smote_MLP = MLP_smote.predict(x_test)\n",
    "\n",
    "MLP_random = MLPClassifier(hidden_layer_sizes=(100,),activation='logistic',max_iter=300)\n",
    "MLP_random.fit(x_random_train, y_random_train)\n",
    "y_pre_random_MLP = MLP_random.predict(x_test)\n",
    "\n",
    "print_metrics(\"MLP underSampling\",y_test,y_pre_under_MLP)\n",
    "print_metrics(\"MLP smote\",y_test,y_pre_smote_MLP)\n",
    "print_metrics(\"MLP random\",y_test,y_pre_random_MLP)"
   ]
  },
  {
   "cell_type": "code",
   "execution_count": 7,
   "metadata": {
    "pycharm": {
     "name": "#%%\n"
    }
   },
   "outputs": [
    {
     "name": "stdout",
     "output_type": "stream",
     "text": [
      "RandomForeset underSampling dead recall 0.83 precision 0.47 f1_score 0.60\n",
      "RandomForeset underSampling alive recall 0.66 precision 0.91 f1_score 0.76\n",
      "RandomForeset smote dead recall 0.71 precision 0.51 f1_score 0.59\n",
      "RandomForeset smote alive recall 0.74 precision 0.88 f1_score 0.80\n",
      "RandomForeset random dead recall 0.39 precision 0.56 f1_score 0.46\n",
      "RandomForeset random alive recall 0.89 precision 0.80 f1_score 0.84\n"
     ]
    }
   ],
   "source": [
    "from sklearn.ensemble import RandomForestClassifier\n",
    "\n",
    "rf_under = RandomForestClassifier(random_state=random_seed,n_estimators=200,criterion='gini')\n",
    "rf_under.fit(x_under_train, y_under_train)\n",
    "y_pre_under_rf = rf_under.predict(x_test)\n",
    "\n",
    "rf_smote = RandomForestClassifier(random_state=random_seed,n_estimators=200,criterion='gini')\n",
    "rf_smote.fit(x_smote_train, y_smote_train)\n",
    "y_pre_smote_rf = rf_smote.predict(x_test)\n",
    "\n",
    "rf_random = RandomForestClassifier(random_state=random_seed,n_estimators=200,criterion='gini')\n",
    "rf_random.fit(x_random_train, y_random_train)\n",
    "y_pre_random_rf = rf_random.predict(x_test)\n",
    "\n",
    "print_metrics(\"RandomForeset underSampling\",y_test,y_pre_under_rf)\n",
    "print_metrics(\"RandomForeset smote\",y_test,y_pre_smote_rf)\n",
    "print_metrics(\"RandomForeset random\",y_test,y_pre_random_rf)\n"
   ]
  },
  {
   "cell_type": "code",
   "execution_count": 10,
   "metadata": {
    "pycharm": {
     "is_executing": false,
     "name": "#%%\n"
    }
   },
   "outputs": [],
   "source": [
    "import tensorflow as tf\n",
    "from tensorflow import keras\n",
    "from tensorflow.keras import layers\n",
    "import matplotlib.pyplot as plt\n",
    "import matplotlib.cm as cm\n",
    "import numpy as np\n",
    "\n",
    "\n",
    "input_length = len(x_random_train[0])\n",
    "callback = tf.keras.callbacks.EarlyStopping(monitor='val_loss', patience=3)"
   ]
  },
  {
   "cell_type": "code",
   "execution_count": 11,
   "metadata": {
    "pycharm": {
     "name": "#%%\n"
    }
   },
   "outputs": [
    {
     "name": "stdout",
     "output_type": "stream",
     "text": [
      "Epoch 1/20\n",
      "99/99 [==============================] - 5s 25ms/step - loss: 0.5793 - accuracy: 0.6830 - recall_1: 0.5220 - val_loss: 0.8027 - val_accuracy: 0.6180 - val_recall_1: 0.6180\n",
      "Epoch 2/20\n",
      "99/99 [==============================] - 2s 15ms/step - loss: 0.5563 - accuracy: 0.7046 - recall_1: 0.6119 - val_loss: 0.7932 - val_accuracy: 0.6421 - val_recall_1: 0.6421\n",
      "Epoch 3/20\n",
      "99/99 [==============================] - 2s 16ms/step - loss: 0.5502 - accuracy: 0.7125 - recall_1: 0.6458 - val_loss: 0.8866 - val_accuracy: 0.5393 - val_recall_1: 0.5393\n",
      "Epoch 4/20\n",
      "99/99 [==============================] - 2s 15ms/step - loss: 0.5447 - accuracy: 0.7201 - recall_1: 0.6483 - val_loss: 0.7783 - val_accuracy: 0.6421 - val_recall_1: 0.6421\n",
      "Epoch 5/20\n",
      "99/99 [==============================] - 2s 15ms/step - loss: 0.5462 - accuracy: 0.7141 - recall_1: 0.6212 - val_loss: 0.7065 - val_accuracy: 0.7221 - val_recall_1: 0.7221\n",
      "Epoch 6/20\n",
      "99/99 [==============================] - 2s 16ms/step - loss: 0.5484 - accuracy: 0.7128 - recall_1: 0.6593 - val_loss: 0.8332 - val_accuracy: 0.5964 - val_recall_1: 0.5964\n",
      "Epoch 7/20\n",
      "99/99 [==============================] - 2s 16ms/step - loss: 0.5405 - accuracy: 0.7205 - recall_1: 0.6161 - val_loss: 0.7661 - val_accuracy: 0.6827 - val_recall_1: 0.6827\n",
      "Epoch 8/20\n",
      "99/99 [==============================] - 2s 16ms/step - loss: 0.5427 - accuracy: 0.7160 - recall_1: 0.6551 - val_loss: 0.7392 - val_accuracy: 0.6764 - val_recall_1: 0.6764\n"
     ]
    },
    {
     "data": {
      "image/png": "[encoded data removed]",
      "text/plain": [
       "<Figure size 432x288 with 1 Axes>"
      ]
     },
     "metadata": {
      "needs_background": "light"
     },
     "output_type": "display_data"
    },
    {
     "name": "stdout",
     "output_type": "stream",
     "text": [
      "94/94 [==============================] - 1s 8ms/step\n",
      "lstm underSampling dead recall 0.68 precision 0.49 f1_score 0.57\n",
      "lstm underSampling alive recall 0.73 precision 0.86 f1_score 0.79\n"
     ]
    }
   ],
   "source": [
    "lstm = keras.Sequential()\n",
    "lstm.add(layers.LSTM(units=100, activation='tanh', return_sequences=True, input_shape=(input_length, 1)))\n",
    "lstm.add(layers.Dropout(0.5))\n",
    "lstm.add(layers.LSTM(units=50, activation='tanh', return_sequences=False))\n",
    "lstm.add(layers.Dropout(0.5))\n",
    "lstm.add(layers.Dense(1, activation='sigmoid'))\n",
    "\n",
    "lstm.compile(optimizer='adam',\n",
    "            loss='binary_crossentropy',\n",
    "            metrics=['accuracy',tf.keras.metrics.Recall()])\n",
    "\n",
    "history_lstm = lstm.fit(np.array(x_under_train), np.array(y_under_train),validation_split=0.2,callbacks=[callback],epochs=20)\n",
    "plt.plot(history_lstm.history['accuracy'], label='Train')\n",
    "plt.plot(history_lstm.history['val_accuracy'], label='Validation')\n",
    "plt.ylabel('Accuracy')\n",
    "plt.xlabel('Epoch')\n",
    "plt.title('Training and validating accuracy')\n",
    "plt.legend()\n",
    "plt.show()\n",
    "\n",
    "y_pre_under_lstm = (lstm.predict(x_test) > 0.5).astype(\"int32\").flatten()\n",
    "print_metrics(\"lstm underSampling\",y_test,y_pre_under_lstm.tolist())"
   ]
  },
  {
   "cell_type": "code",
   "execution_count": 12,
   "metadata": {
    "pycharm": {
     "name": "#%%\n"
    }
   },
   "outputs": [
    {
     "name": "stdout",
     "output_type": "stream",
     "text": [
      "Epoch 1/20\n",
      "252/252 [==============================] - 8s 20ms/step - loss: 0.5687 - accuracy: 0.6973 - recall_2: 0.5660 - val_loss: 0.7866 - val_accuracy: 0.6980 - val_recall_2: 0.6980\n",
      "Epoch 2/20\n",
      "252/252 [==============================] - 4s 16ms/step - loss: 0.5470 - accuracy: 0.7170 - recall_2: 0.6297 - val_loss: 0.8692 - val_accuracy: 0.5881 - val_recall_2: 0.5881\n",
      "Epoch 3/20\n",
      "252/252 [==============================] - 4s 15ms/step - loss: 0.5439 - accuracy: 0.7183 - recall_2: 0.6191 - val_loss: 0.7596 - val_accuracy: 0.6527 - val_recall_2: 0.6527\n",
      "Epoch 4/20\n",
      "252/252 [==============================] - 4s 15ms/step - loss: 0.5421 - accuracy: 0.7165 - recall_2: 0.6088 - val_loss: 0.6946 - val_accuracy: 0.7010 - val_recall_2: 0.7010\n",
      "Epoch 5/20\n",
      "252/252 [==============================] - 4s 15ms/step - loss: 0.5367 - accuracy: 0.7196 - recall_2: 0.6075 - val_loss: 0.6618 - val_accuracy: 0.7179 - val_recall_2: 0.7179\n",
      "Epoch 6/20\n",
      "252/252 [==============================] - 4s 15ms/step - loss: 0.5381 - accuracy: 0.7273 - recall_2: 0.6257 - val_loss: 0.7603 - val_accuracy: 0.6537 - val_recall_2: 0.6537\n",
      "Epoch 7/20\n",
      "252/252 [==============================] - 4s 15ms/step - loss: 0.5377 - accuracy: 0.7238 - recall_2: 0.6038 - val_loss: 0.7516 - val_accuracy: 0.6363 - val_recall_2: 0.6363\n",
      "Epoch 8/20\n",
      "252/252 [==============================] - 4s 15ms/step - loss: 0.5331 - accuracy: 0.7232 - recall_2: 0.6005 - val_loss: 0.7409 - val_accuracy: 0.6736 - val_recall_2: 0.6736\n"
     ]
    },
    {
     "data": {
      "image/png": "[encoded data removed]",
      "text/plain": [
       "<Figure size 432x288 with 1 Axes>"
      ]
     },
     "metadata": {
      "needs_background": "light"
     },
     "output_type": "display_data"
    },
    {
     "name": "stdout",
     "output_type": "stream",
     "text": [
      "94/94 [==============================] - 1s 8ms/step\n",
      "lstm smote dead recall 0.63 precision 0.50 f1_score 0.56\n",
      "lstm smote alive recall 0.76 precision 0.85 f1_score 0.80\n"
     ]
    }
   ],
   "source": [
    "lstm3 = keras.Sequential()\n",
    "lstm3.add(layers.LSTM(units=100, activation='tanh', return_sequences=True, input_shape=(input_length, 1)))\n",
    "lstm3.add(layers.Dropout(0.5))\n",
    "lstm3.add(layers.LSTM(units=50, activation='tanh', return_sequences=False))\n",
    "lstm3.add(layers.Dropout(0.5))\n",
    "lstm3.add(layers.Dense(1, activation='sigmoid'))\n",
    "\n",
    "lstm3.compile(optimizer='adam',\n",
    "            loss='binary_crossentropy',\n",
    "            metrics=['accuracy',tf.keras.metrics.Recall()])\n",
    "\n",
    "history_lstm3 = lstm3.fit(np.array(x_smote_train), np.array(y_smote_train),validation_split=0.2,callbacks=[callback],epochs=20)\n",
    "plt.plot(history_lstm.history['accuracy'], label='Train')\n",
    "plt.plot(history_lstm.history['val_accuracy'], label='Validation')\n",
    "plt.ylabel('Accuracy')\n",
    "plt.xlabel('Epoch')\n",
    "plt.title('Training and validating accuracy')\n",
    "plt.legend()\n",
    "plt.show()\n",
    "\n",
    "y_pre_smote_lstm = (lstm3.predict(x_test) > 0.5).astype(\"int32\").flatten()\n",
    "print_metrics(\"lstm smote\",y_test,y_pre_smote_lstm.tolist())"
   ]
  },
  {
   "cell_type": "code",
   "execution_count": null,
   "metadata": {
    "pycharm": {
     "name": "#%%\n"
    }
   },
   "outputs": [
    {
     "name": "stdout",
     "output_type": "stream",
     "text": [
      "Epoch 1/20\n",
      "175/175 [==============================] - 7s 23ms/step - loss: 0.5144 - accuracy: 0.7289 - recall_4: 0.3481 - val_loss: 0.4881 - val_accuracy: 0.7555 - val_recall_4: 0.5412\n",
      "Epoch 2/20\n",
      "175/175 [==============================] - 3s 15ms/step - loss: 0.4985 - accuracy: 0.7332 - recall_4: 0.3747 - val_loss: 0.4802 - val_accuracy: 0.7527 - val_recall_4: 0.5155\n",
      "Epoch 3/20\n",
      "  1/175 [..............................] - ETA: 2s - loss: 0.3452 - accuracy: 0.9062 - recall_4: 0.7778"
     ]
    }
   ],
   "source": [
    "lstm2 = keras.Sequential()\n",
    "lstm2.add(layers.LSTM(units=100, activation='tanh', return_sequences=True, input_shape=(input_length, 1)))\n",
    "lstm2.add(layers.Dropout(0.2))\n",
    "lstm2.add(layers.LSTM(units=50, activation='tanh', return_sequences=False))\n",
    "lstm2.add(layers.Dropout(0.2))\n",
    "lstm2.add(layers.Dense(1, activation='sigmoid'))\n",
    "\n",
    "\n",
    "lstm2.compile(optimizer='adam',\n",
    "            loss='binary_crossentropy',\n",
    "            metrics=['accuracy',tf.keras.metrics.Recall()])\n",
    "\n",
    "history_lstm2 = lstm2.fit(np.array(x_random_train), np.array(y_random_train),validation_split=0.2,callbacks=[callback], epochs=20)\n",
    "plt.plot(history_lstm2.history['accuracy'], label='train')\n",
    "plt.plot(history_lstm2.history['val_accuracy'], label='Validation')\n",
    "plt.ylabel('Accuracy')\n",
    "plt.xlabel('Epoch')\n",
    "plt.title('Training and validating accuracy')\n",
    "plt.legend()\n",
    "plt.show()\n",
    "\n",
    "y_pre_random_lstm = (lstm2.predict(x_test) > 0.5).astype(\"int32\").flatten()\n",
    "print_metrics(\"lstm random\",y_test,y_pre_random_lstm.tolist())"
   ]
  },
  {
   "cell_type": "code",
   "execution_count": 14,
   "metadata": {
    "pycharm": {
     "name": "#%%\n"
    }
   },
   "outputs": [
    {
     "name": "stderr",
     "output_type": "stream",
     "text": [
      "D:\\Anaconda\\envs\\NLP\\lib\\site-packages\\sklearn\\metrics\\_classification.py:1334: UndefinedMetricWarning: Precision is ill-defined and being set to 0.0 due to no predicted samples. Use `zero_division` parameter to control this behavior.\n",
      "  _warn_prf(average, modifier, msg_start, len(result))\n",
      "D:\\Anaconda\\envs\\NLP\\lib\\site-packages\\sklearn\\metrics\\_classification.py:1334: UndefinedMetricWarning: Precision is ill-defined and being set to 0.0 due to no predicted samples. Use `zero_division` parameter to control this behavior.\n",
      "  _warn_prf(average, modifier, msg_start, len(result))\n",
      "D:\\Anaconda\\envs\\NLP\\lib\\site-packages\\sklearn\\metrics\\_classification.py:1334: UndefinedMetricWarning: Precision is ill-defined and being set to 0.0 due to no predicted samples. Use `zero_division` parameter to control this behavior.\n",
      "  _warn_prf(average, modifier, msg_start, len(result))\n"
     ]
    },
    {
     "name": "stdout",
     "output_type": "stream",
     "text": [
      "writing..\n",
      "finish..\n"
     ]
    }
   ],
   "source": [
    "balance_pre_list = [y_pre_under_zeroR,\n",
    "                    y_pre_under_knn,\n",
    "                    y_pre_under_GNB,\n",
    "                    y_pre_under_MLP,\n",
    "                    y_pre_under_rf,\n",
    "                    y_pre_under_lstm.tolist()\n",
    "                    ]\n",
    "\n",
    "balance_smote_pre_list = [y_pre_smote_zeroR,\n",
    "                      y_pre_smote_knn,\n",
    "                      y_pre_smote_GNB,\n",
    "                      y_pre_smote_MLP,\n",
    "                      y_pre_smote_rf,\n",
    "                      y_pre_smote_lstm.tolist()\n",
    "                      ]\n",
    "\n",
    "random_pre_list = [y_pre_random_zeroR,\n",
    "                   y_pre_random_knn,\n",
    "                   y_pre_random_GNB,\n",
    "                   y_pre_random_MLP,\n",
    "                   y_pre_random_rf,\n",
    "                   y_pre_random_lstm.tolist()\n",
    "                   ]\n",
    "\n",
    "test_list = [y_test,y_test,y_test]\n",
    "pre_list =[balance_pre_list, balance_smote_pre_list,random_pre_list]\n",
    "\n",
    "def get_metrics(y_true,y_pre):    \n",
    "    result1=[recall_score(y_true, y_pre),\n",
    "             precision_score(y_true, y_pre),\n",
    "             f1_score(y_true, y_pre)]\n",
    "    \n",
    "    y_flip_true = [0 if i else 1 for i in y_true]\n",
    "    y_flip_pre = [0 if i else 1 for i in y_pre]\n",
    "    \n",
    "    result2=[recall_score(y_flip_true, y_flip_pre),\n",
    "             precision_score(y_flip_true, y_flip_pre),\n",
    "             f1_score(y_flip_true, y_flip_pre)]\n",
    "    \n",
    "    return result1,result2\n",
    "\n",
    "result= []\n",
    "for i in range(len(test_list)):\n",
    "    test_y = test_list[i]\n",
    "    pre_y_list = pre_list[i]\n",
    "    result_list1=[]\n",
    "    result_list2=[]\n",
    "    for pre_y in pre_y_list:\n",
    "        result1,result2 = get_metrics(test_y,pre_y)\n",
    "        result_list1+=result1\n",
    "        result_list2+=result2\n",
    "    result.append(result_list1)\n",
    "    result.append(result_list2)\n",
    "\n",
    "with open('./result/original_result.csv', 'w',newline='') as f:\n",
    "    print(\"writing..\")\n",
    "    writer = csv.writer(f)\n",
    "    for row in result:\n",
    "        writer.writerow(row)\n",
    "print(\"finish..\")"
   ]
  },
  {
   "cell_type": "code",
   "execution_count": null,
   "metadata": {
    "pycharm": {
     "name": "#%%\n"
    }
   },
   "outputs": [],
   "source": []
  }
 ],
 "metadata": {
  "kernelspec": {
   "display_name": "Python 3 (ipykernel)",
   "language": "python",
   "name": "python3"
  },
  "language_info": {
   "codemirror_mode": {
    "name": "ipython",
    "version": 3
   },
   "file_extension": ".py",
   "mimetype": "text/x-python",
   "name": "python",
   "nbconvert_exporter": "python",
   "pygments_lexer": "ipython3",
   "version": "3.8.12"
  },
  "pycharm": {
   "stem_cell": {
    "cell_type": "raw",
    "metadata": {
     "collapsed": false
    },
    "source": []
   }
  }
 },
 "nbformat": 4,
 "nbformat_minor": 1
}
