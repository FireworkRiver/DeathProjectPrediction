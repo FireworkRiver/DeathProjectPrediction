{
 "cells": [
  {
   "cell_type": "code",
   "execution_count": 1,
   "metadata": {
    "pycharm": {
     "is_executing": false
    }
   },
   "outputs": [],
   "source": [
    "import csv\n",
    "\n",
    "def intRow(row):\n",
    "    temp = []\n",
    "    for t in row:\n",
    "        temp.append(int(t))\n",
    "    return temp\n",
    "\n",
    "def read_x(address):\n",
    "    reader = csv.reader(open(address))\n",
    "    x= [intRow(row) for row in reader]\n",
    "    return x\n",
    "\n",
    "def read_y(address):\n",
    "    reader = csv.reader(open(address))\n",
    "    list=[intRow(row) for row in reader]\n",
    "    y=sum(list,[])\n",
    "    return y\n",
    "\n",
    "X_0 = read_x('X.csv')\n",
    "Y = read_y('Y.csv')\n",
    "\n",
    "def NormalLine(row):\n",
    "    total = sum(row[-4:])\n",
    "    if total == 0:\n",
    "        total = 1\n",
    "    return [i/total for i in row]\n",
    "\n",
    "X = [NormalLine(row) for row in X_0]"
   ]
  },
  {
   "cell_type": "code",
   "execution_count": 2,
   "metadata": {
    "pycharm": {
     "name": "#%%\n"
    }
   },
   "outputs": [],
   "source": [
    "\n",
    "random_seed = 12345\n",
    "from sklearn.model_selection import train_test_split\n",
    "x_random_train, x_test, y_random_train, y_test = train_test_split(X, Y, test_size=0.3, random_state=random_seed)\n",
    "\n",
    "from imblearn.under_sampling import RandomUnderSampler\n",
    "rus = RandomUnderSampler(random_state=random_seed)\n",
    "x_under_train, y_under_train = rus.fit_resample(x_random_train, y_random_train)\n",
    "\n",
    "from imblearn.over_sampling import SMOTE \n",
    "sm = SMOTE(random_state=random_seed)\n",
    "x_smote_train, y_smote_train = sm.fit_resample(x_random_train, y_random_train)"
   ]
  },
  {
   "cell_type": "code",
   "execution_count": 3,
   "metadata": {
    "pycharm": {
     "name": "#%%\n"
    }
   },
   "outputs": [
    {
     "name": "stdout",
     "output_type": "stream",
     "text": [
      "ZeroR underSampling dead recall 0.00 precision 0.00 f1_score 0.00\n",
      "ZeroR underSampling alive recall 1.00 precision 0.73 f1_score 0.84\n",
      "ZeroR smote dead recall 0.00 precision 0.00 f1_score 0.00\n",
      "ZeroR smote alive recall 1.00 precision 0.73 f1_score 0.84\n",
      "ZeroR random dead recall 0.00 precision 0.00 f1_score 0.00\n",
      "ZeroR random alive recall 1.00 precision 0.73 f1_score 0.84\n"
     ]
    },
    {
     "name": "stderr",
     "output_type": "stream",
     "text": [
      "D:\\Anaconda\\envs\\NLP\\lib\\site-packages\\sklearn\\metrics\\_classification.py:1334: UndefinedMetricWarning: Precision is ill-defined and being set to 0.0 due to no predicted samples. Use `zero_division` parameter to control this behavior.\n",
      "  _warn_prf(average, modifier, msg_start, len(result))\n",
      "D:\\Anaconda\\envs\\NLP\\lib\\site-packages\\sklearn\\metrics\\_classification.py:1334: UndefinedMetricWarning: Precision is ill-defined and being set to 0.0 due to no predicted samples. Use `zero_division` parameter to control this behavior.\n",
      "  _warn_prf(average, modifier, msg_start, len(result))\n",
      "D:\\Anaconda\\envs\\NLP\\lib\\site-packages\\sklearn\\metrics\\_classification.py:1334: UndefinedMetricWarning: Precision is ill-defined and being set to 0.0 due to no predicted samples. Use `zero_division` parameter to control this behavior.\n",
      "  _warn_prf(average, modifier, msg_start, len(result))\n"
     ]
    }
   ],
   "source": [
    "\n",
    "from sklearn.metrics import recall_score\n",
    "from sklearn.metrics import precision_score\n",
    "from sklearn.metrics import f1_score\n",
    "\n",
    "def print_metrics(title,y_true,y_pre):\n",
    "    print(title+\" dead\",end = \" \")\n",
    "    print(\"recall %.2f\"%recall_score(y_true, y_pre),end =\" \")\n",
    "    print(\"precision %.2f\"%precision_score(y_true, y_pre),end=\" \")\n",
    "    print(\"f1_score %.2f\"%f1_score(y_true, y_pre))\n",
    "    \n",
    "    y_flip_true = [0 if i else 1 for i in y_true]\n",
    "    y_flip_pre = [0 if i else 1 for i in y_pre]\n",
    "    \n",
    "    print(title+\" alive\",end = \" \")\n",
    "    print(\"recall %.2f\"%recall_score(y_flip_true, y_flip_pre),end =\" \")\n",
    "    print(\"precision %.2f\"%precision_score(y_flip_true, y_flip_pre),end=\" \")\n",
    "    print(\"f1_score %.2f\"%f1_score(y_flip_true, y_flip_pre))\n",
    "\n",
    "y_pre_random_zeroR = [0 for i in range(len(y_test))]\n",
    "y_pre_under_zeroR = [0 for i in range(len(y_test))]\n",
    "y_pre_smote_zeroR = [0 for i in range(len(y_test))]\n",
    "\n",
    "print_metrics(\"ZeroR underSampling\",y_test,y_pre_under_zeroR)\n",
    "print_metrics(\"ZeroR smote\",y_test,y_pre_smote_zeroR)\n",
    "print_metrics(\"ZeroR random\",y_test,y_pre_random_zeroR)\n"
   ]
  },
  {
   "cell_type": "code",
   "execution_count": 4,
   "metadata": {
    "pycharm": {
     "name": "#%%\n"
    }
   },
   "outputs": [
    {
     "name": "stdout",
     "output_type": "stream",
     "text": [
      "Knn underSampling dead recall 0.54 precision 0.53 f1_score 0.53\n",
      "Knn underSampling alive recall 0.82 precision 0.83 f1_score 0.82\n",
      "Knn smote dead recall 0.62 precision 0.47 f1_score 0.53\n",
      "Knn smote alive recall 0.74 precision 0.84 f1_score 0.79\n",
      "Knn random dead recall 0.38 precision 0.51 f1_score 0.44\n",
      "Knn random alive recall 0.87 precision 0.79 f1_score 0.83\n"
     ]
    }
   ],
   "source": [
    "from sklearn.neighbors import KNeighborsClassifier\n",
    "\n",
    "knn_random = KNeighborsClassifier(n_neighbors=1,p=1)\n",
    "knn_random.fit(x_random_train, y_random_train)\n",
    "y_pre_random_knn = knn_random.predict(x_test)\n",
    "\n",
    "knn_under = KNeighborsClassifier(n_neighbors=9,p=1)\n",
    "knn_under.fit(x_under_train, y_under_train)\n",
    "y_pre_under_knn = knn_under.predict(x_test)\n",
    "\n",
    "knn_smote = KNeighborsClassifier(n_neighbors=9,p=1)\n",
    "knn_smote.fit(x_smote_train, y_smote_train)\n",
    "y_pre_smote_knn = knn_smote.predict(x_test)\n",
    "\n",
    "print_metrics(\"Knn underSampling\",y_test,y_pre_under_knn)\n",
    "print_metrics(\"Knn smote\",y_test,y_pre_smote_knn)\n",
    "print_metrics(\"Knn random\",y_test,y_pre_random_knn)"
   ]
  },
  {
   "cell_type": "code",
   "execution_count": 5,
   "metadata": {
    "pycharm": {
     "name": "#%%\n"
    }
   },
   "outputs": [
    {
     "name": "stdout",
     "output_type": "stream",
     "text": [
      "NB underSampling dead recall 0.45 precision 0.49 f1_score 0.47\n",
      "NB underSampling alive recall 0.83 precision 0.80 f1_score 0.82\n",
      "NB smote dead recall 0.45 precision 0.48 f1_score 0.47\n",
      "NB smote alive recall 0.82 precision 0.80 f1_score 0.81\n",
      "NB random dead recall 0.40 precision 0.48 f1_score 0.44\n",
      "NB random alive recall 0.84 precision 0.79 f1_score 0.82\n"
     ]
    }
   ],
   "source": [
    "from sklearn.naive_bayes import GaussianNB,MultinomialNB,ComplementNB\n",
    "from sklearn.preprocessing import MinMaxScaler\n",
    "\n",
    "GaussianNB_random = GaussianNB()\n",
    "GaussianNB_random.fit(x_random_train, y_random_train)\n",
    "y_pre_random_GNB = GaussianNB_random.predict(x_test)\n",
    "\n",
    "GaussianNB_under = GaussianNB()\n",
    "GaussianNB_under.fit(x_under_train, y_under_train)\n",
    "y_pre_under_GNB = GaussianNB_under.predict(x_test)\n",
    "\n",
    "GaussianNB_smote = GaussianNB()\n",
    "GaussianNB_smote.fit(x_smote_train, y_smote_train)\n",
    "y_pre_smote_GNB = GaussianNB_smote.predict(x_test)\n",
    "\n",
    "\n",
    "print_metrics(\"NB underSampling\",y_test,y_pre_under_GNB)\n",
    "print_metrics(\"NB smote\",y_test,y_pre_smote_GNB)\n",
    "print_metrics(\"NB random\",y_test,y_pre_random_GNB)\n"
   ]
  },
  {
   "cell_type": "code",
   "execution_count": 7,
   "metadata": {
    "pycharm": {
     "name": "#%%\n"
    }
   },
   "outputs": [
    {
     "name": "stderr",
     "output_type": "stream",
     "text": [
      "D:\\Anaconda\\envs\\NLP\\lib\\site-packages\\sklearn\\neural_network\\_multilayer_perceptron.py:702: ConvergenceWarning: Stochastic Optimizer: Maximum iterations (300) reached and the optimization hasn't converged yet.\n",
      "  warnings.warn(\n"
     ]
    },
    {
     "name": "stdout",
     "output_type": "stream",
     "text": [
      "MLP underSampling dead recall 0.65 precision 0.43 f1_score 0.52\n",
      "MLP underSampling alive recall 0.69 precision 0.84 f1_score 0.76\n",
      "MLP smote dead recall 0.67 precision 0.42 f1_score 0.52\n",
      "MLP smote alive recall 0.66 precision 0.84 f1_score 0.74\n",
      "MLP random dead recall 0.40 precision 0.53 f1_score 0.46\n",
      "MLP random alive recall 0.87 precision 0.80 f1_score 0.83\n"
     ]
    }
   ],
   "source": [
    "from sklearn.neural_network import MLPClassifier\n",
    "\n",
    "MLP_under = MLPClassifier(hidden_layer_sizes=(100,100,100),activation='logistic',max_iter=300)\n",
    "MLP_under.fit(x_under_train, y_under_train)\n",
    "y_pre_under_MLP = MLP_under.predict(x_test)\n",
    "\n",
    "MLP_smote = MLPClassifier(hidden_layer_sizes=(100,100,100),activation='logistic',max_iter=300)\n",
    "MLP_smote.fit(x_smote_train, y_smote_train)\n",
    "y_pre_smote_MLP = MLP_smote.predict(x_test)\n",
    "\n",
    "MLP_random = MLPClassifier(hidden_layer_sizes=(100,100,100),activation='logistic',max_iter=300)\n",
    "MLP_random.fit(x_random_train, y_random_train)\n",
    "y_pre_random_MLP = MLP_random.predict(x_test)\n",
    "\n",
    "print_metrics(\"MLP underSampling\",y_test,y_pre_under_MLP)\n",
    "print_metrics(\"MLP smote\",y_test,y_pre_smote_MLP)\n",
    "print_metrics(\"MLP random\",y_test,y_pre_random_MLP)"
   ]
  },
  {
   "cell_type": "code",
   "execution_count": 8,
   "metadata": {
    "pycharm": {
     "name": "#%%\n"
    }
   },
   "outputs": [
    {
     "name": "stdout",
     "output_type": "stream",
     "text": [
      "RandomForeset underSampling dead recall 0.84 precision 0.47 f1_score 0.60\n",
      "RandomForeset underSampling alive recall 0.65 precision 0.92 f1_score 0.76\n",
      "RandomForeset smote dead recall 0.64 precision 0.50 f1_score 0.56\n",
      "RandomForeset smote alive recall 0.76 precision 0.85 f1_score 0.81\n",
      "RandomForeset random dead recall 0.41 precision 0.59 f1_score 0.49\n",
      "RandomForeset random alive recall 0.89 precision 0.80 f1_score 0.85\n"
     ]
    }
   ],
   "source": [
    "from sklearn.ensemble import RandomForestClassifier\n",
    "\n",
    "rf_under = RandomForestClassifier(random_state=random_seed,n_estimators=200,criterion='gini')\n",
    "rf_under.fit(x_under_train, y_under_train)\n",
    "y_pre_under_rf = rf_under.predict(x_test)\n",
    "\n",
    "rf_smote = RandomForestClassifier(random_state=random_seed,n_estimators=200,criterion='gini')\n",
    "rf_smote.fit(x_smote_train, y_smote_train)\n",
    "y_pre_smote_rf = rf_smote.predict(x_test)\n",
    "\n",
    "rf_random = RandomForestClassifier(random_state=random_seed,n_estimators=200,criterion='gini')\n",
    "rf_random.fit(x_random_train, y_random_train)\n",
    "y_pre_random_rf = rf_random.predict(x_test)\n",
    "\n",
    "print_metrics(\"RandomForeset underSampling\",y_test,y_pre_under_rf)\n",
    "print_metrics(\"RandomForeset smote\",y_test,y_pre_smote_rf)\n",
    "print_metrics(\"RandomForeset random\",y_test,y_pre_random_rf)\n"
   ]
  },
  {
   "cell_type": "code",
   "execution_count": 9,
   "metadata": {
    "pycharm": {
     "name": "#%%\n"
    }
   },
   "outputs": [],
   "source": [
    "import tensorflow as tf\n",
    "from tensorflow import keras\n",
    "from tensorflow.keras import layers\n",
    "import matplotlib.pyplot as plt\n",
    "import matplotlib.cm as cm\n",
    "import numpy as np\n",
    "\n",
    "\n",
    "input_length = len(x_random_train[0])\n",
    "callback = tf.keras.callbacks.EarlyStopping(monitor='val_loss', patience=3)"
   ]
  },
  {
   "cell_type": "code",
   "execution_count": 13,
   "metadata": {
    "pycharm": {
     "name": "#%%\n"
    }
   },
   "outputs": [
    {
     "name": "stdout",
     "output_type": "stream",
     "text": [
      "Epoch 1/20\n",
      "99/99 [==============================] - 5s 26ms/step - loss: 0.6647 - accuracy: 0.6239 - recall_3: 0.0119 - val_loss: 0.9168 - val_accuracy: 0.0000e+00 - val_recall_3: 0.0000e+00\n",
      "Epoch 2/20\n",
      "99/99 [==============================] - 2s 16ms/step - loss: 0.6628 - accuracy: 0.6252 - recall_3: 0.0000e+00 - val_loss: 0.9192 - val_accuracy: 0.0000e+00 - val_recall_3: 0.0000e+00\n",
      "Epoch 3/20\n",
      "99/99 [==============================] - 2s 15ms/step - loss: 0.6608 - accuracy: 0.6252 - recall_3: 0.0000e+00 - val_loss: 0.9874 - val_accuracy: 0.0000e+00 - val_recall_3: 0.0000e+00\n",
      "Epoch 4/20\n",
      "99/99 [==============================] - 2s 16ms/step - loss: 0.6495 - accuracy: 0.6296 - recall_3: 0.0636 - val_loss: 0.8539 - val_accuracy: 0.2157 - val_recall_3: 0.2157\n",
      "Epoch 5/20\n",
      "99/99 [==============================] - 2s 16ms/step - loss: 0.6374 - accuracy: 0.6483 - recall_3: 0.2229 - val_loss: 0.8886 - val_accuracy: 0.2462 - val_recall_3: 0.2462\n",
      "Epoch 6/20\n",
      "99/99 [==============================] - 2s 15ms/step - loss: 0.6394 - accuracy: 0.6439 - recall_3: 0.1839 - val_loss: 0.9643 - val_accuracy: 0.1155 - val_recall_3: 0.1155\n",
      "Epoch 7/20\n",
      "99/99 [==============================] - 2s 15ms/step - loss: 0.6371 - accuracy: 0.6512 - recall_3: 0.2407 - val_loss: 0.8897 - val_accuracy: 0.2462 - val_recall_3: 0.2462\n"
     ]
    },
    {
     "data": {
      "image/png": "[encoded data removed]",
      "text/plain": [
       "<Figure size 432x288 with 1 Axes>"
      ]
     },
     "metadata": {
      "needs_background": "light"
     },
     "output_type": "display_data"
    },
    {
     "name": "stdout",
     "output_type": "stream",
     "text": [
      "94/94 [==============================] - 1s 8ms/step\n",
      "lstm underSampling dead recall 0.25 precision 0.47 f1_score 0.33\n",
      "lstm underSampling alive recall 0.90 precision 0.76 f1_score 0.82\n"
     ]
    }
   ],
   "source": [
    "lstm = keras.Sequential()\n",
    "lstm.add(layers.LSTM(units=100, activation='tanh', return_sequences=True, input_shape=(input_length, 1)))\n",
    "lstm.add(layers.Dropout(0.3))\n",
    "lstm.add(layers.LSTM(units=100, activation='tanh', return_sequences=False))\n",
    "lstm.add(layers.Dropout(0.3))\n",
    "lstm.add(layers.Dense(1, activation='sigmoid'))\n",
    "\n",
    "lstm.compile(optimizer='adam',\n",
    "            loss='binary_crossentropy',\n",
    "            metrics=['accuracy',tf.keras.metrics.Recall()])\n",
    "\n",
    "history_lstm = lstm.fit(np.array(x_under_train), np.array(y_under_train),validation_split=0.2,callbacks=[callback],epochs=20)\n",
    "plt.plot(history_lstm.history['accuracy'], label='Train')\n",
    "plt.plot(history_lstm.history['val_accuracy'], label='Validation')\n",
    "plt.ylabel('Accuracy')\n",
    "plt.xlabel('Epoch')\n",
    "plt.title('Training and validating accuracy')\n",
    "plt.legend()\n",
    "plt.show()\n",
    "\n",
    "y_pre_under_lstm = (lstm.predict(x_test) > 0.5).astype(\"int32\").flatten()\n",
    "print_metrics(\"lstm underSampling\",y_test,y_pre_under_lstm.tolist())"
   ]
  },
  {
   "cell_type": "code",
   "execution_count": 16,
   "metadata": {
    "pycharm": {
     "name": "#%%\n"
    }
   },
   "outputs": [
    {
     "name": "stdout",
     "output_type": "stream",
     "text": [
      "Epoch 1/20\n",
      "252/252 [==============================] - 8s 20ms/step - loss: 0.6656 - accuracy: 0.6234 - recall_6: 0.0046 - val_loss: 1.0269 - val_accuracy: 0.0000e+00 - val_recall_6: 0.0000e+00\n",
      "Epoch 2/20\n",
      "252/252 [==============================] - 4s 15ms/step - loss: 0.6535 - accuracy: 0.6284 - recall_6: 0.0571 - val_loss: 0.9909 - val_accuracy: 0.0796 - val_recall_6: 0.0796\n",
      "Epoch 3/20\n",
      "252/252 [==============================] - 4s 16ms/step - loss: 0.6423 - accuracy: 0.6357 - recall_6: 0.1679 - val_loss: 0.8936 - val_accuracy: 0.2408 - val_recall_6: 0.2408\n",
      "Epoch 4/20\n",
      "252/252 [==============================] - 4s 15ms/step - loss: 0.6364 - accuracy: 0.6418 - recall_6: 0.2137 - val_loss: 0.8660 - val_accuracy: 0.3945 - val_recall_6: 0.3945\n",
      "Epoch 5/20\n",
      "252/252 [==============================] - 4s 16ms/step - loss: 0.6330 - accuracy: 0.6512 - recall_6: 0.2485 - val_loss: 0.9102 - val_accuracy: 0.2970 - val_recall_6: 0.2970\n",
      "Epoch 6/20\n",
      "252/252 [==============================] - 4s 16ms/step - loss: 0.6336 - accuracy: 0.6503 - recall_6: 0.2614 - val_loss: 0.8646 - val_accuracy: 0.2846 - val_recall_6: 0.2846\n",
      "Epoch 7/20\n",
      "252/252 [==============================] - 4s 16ms/step - loss: 0.6297 - accuracy: 0.6543 - recall_6: 0.2797 - val_loss: 1.0456 - val_accuracy: 0.1274 - val_recall_6: 0.1274\n",
      "Epoch 8/20\n",
      "252/252 [==============================] - 4s 16ms/step - loss: 0.6307 - accuracy: 0.6517 - recall_6: 0.2638 - val_loss: 0.8961 - val_accuracy: 0.2632 - val_recall_6: 0.2632\n",
      "Epoch 9/20\n",
      "252/252 [==============================] - 4s 16ms/step - loss: 0.6290 - accuracy: 0.6502 - recall_6: 0.2847 - val_loss: 1.0316 - val_accuracy: 0.2403 - val_recall_6: 0.2403\n"
     ]
    },
    {
     "data": {
      "image/png": "[encoded data removed]",
      "text/plain": [
       "<Figure size 432x288 with 1 Axes>"
      ]
     },
     "metadata": {
      "needs_background": "light"
     },
     "output_type": "display_data"
    },
    {
     "name": "stdout",
     "output_type": "stream",
     "text": [
      "94/94 [==============================] - 1s 8ms/step\n",
      "lstm smote dead recall 0.26 precision 0.49 f1_score 0.34\n",
      "lstm smote alive recall 0.90 precision 0.77 f1_score 0.83\n"
     ]
    }
   ],
   "source": [
    "lstm3 = keras.Sequential()\n",
    "lstm3.add(layers.LSTM(units=100, activation='tanh', return_sequences=True, input_shape=(input_length, 1)))\n",
    "lstm3.add(layers.Dropout(0.5))\n",
    "lstm3.add(layers.LSTM(units=100, activation='tanh', return_sequences=False))\n",
    "lstm3.add(layers.Dropout(0.5))\n",
    "lstm3.add(layers.Dense(1, activation='sigmoid'))\n",
    "\n",
    "lstm3.compile(optimizer='adam',\n",
    "            loss='binary_crossentropy',\n",
    "            metrics=['accuracy',tf.keras.metrics.Recall()])\n",
    "\n",
    "history_lstm3 = lstm3.fit(np.array(x_smote_train), np.array(y_smote_train),validation_split=0.2,callbacks=[callback],epochs=20)\n",
    "plt.plot(history_lstm.history['accuracy'], label='Train')\n",
    "plt.plot(history_lstm.history['val_accuracy'], label='Validation')\n",
    "plt.ylabel('Accuracy')\n",
    "plt.xlabel('Epoch')\n",
    "plt.title('Training and validating accuracy')\n",
    "plt.legend()\n",
    "plt.show()\n",
    "\n",
    "y_pre_smote_lstm = (lstm3.predict(x_test) > 0.5).astype(\"int32\").flatten()\n",
    "print_metrics(\"lstm smote\",y_test,y_pre_smote_lstm.tolist())"
   ]
  },
  {
   "cell_type": "code",
   "execution_count": 18,
   "metadata": {
    "pycharm": {
     "name": "#%%\n"
    }
   },
   "outputs": [
    {
     "name": "stdout",
     "output_type": "stream",
     "text": [
      "Epoch 1/20\n",
      "175/175 [==============================] - 7s 23ms/step - loss: 0.6028 - accuracy: 0.7164 - recall_8: 6.3291e-04 - val_loss: 0.5916 - val_accuracy: 0.7227 - val_recall_8: 0.0000e+00\n",
      "Epoch 2/20\n",
      "175/175 [==============================] - 3s 16ms/step - loss: 0.5976 - accuracy: 0.7175 - recall_8: 0.0000e+00 - val_loss: 0.5919 - val_accuracy: 0.7227 - val_recall_8: 0.0000e+00\n",
      "Epoch 3/20\n",
      "175/175 [==============================] - 3s 16ms/step - loss: 0.5912 - accuracy: 0.7175 - recall_8: 0.0000e+00 - val_loss: 0.5779 - val_accuracy: 0.7227 - val_recall_8: 0.0000e+00\n",
      "Epoch 4/20\n",
      "175/175 [==============================] - 3s 16ms/step - loss: 0.5786 - accuracy: 0.7170 - recall_8: 0.0272 - val_loss: 0.5699 - val_accuracy: 0.7234 - val_recall_8: 0.0026\n",
      "Epoch 5/20\n",
      "175/175 [==============================] - 3s 16ms/step - loss: 0.5779 - accuracy: 0.7164 - recall_8: 0.0297 - val_loss: 0.5680 - val_accuracy: 0.7234 - val_recall_8: 0.0258\n",
      "Epoch 6/20\n",
      "175/175 [==============================] - 3s 16ms/step - loss: 0.5716 - accuracy: 0.7182 - recall_8: 0.0405 - val_loss: 0.5657 - val_accuracy: 0.7262 - val_recall_8: 0.0619\n",
      "Epoch 7/20\n",
      "175/175 [==============================] - 3s 16ms/step - loss: 0.5712 - accuracy: 0.7193 - recall_8: 0.0753 - val_loss: 0.5647 - val_accuracy: 0.7241 - val_recall_8: 0.0438\n",
      "Epoch 8/20\n",
      "175/175 [==============================] - 3s 16ms/step - loss: 0.5697 - accuracy: 0.7211 - recall_8: 0.0823 - val_loss: 0.5647 - val_accuracy: 0.7255 - val_recall_8: 0.0515\n",
      "Epoch 9/20\n",
      "175/175 [==============================] - 3s 16ms/step - loss: 0.5695 - accuracy: 0.7213 - recall_8: 0.0880 - val_loss: 0.5658 - val_accuracy: 0.7198 - val_recall_8: 0.1314\n",
      "Epoch 10/20\n",
      "175/175 [==============================] - 3s 16ms/step - loss: 0.5687 - accuracy: 0.7227 - recall_8: 0.1146 - val_loss: 0.5641 - val_accuracy: 0.7198 - val_recall_8: 0.0928\n",
      "Epoch 11/20\n",
      "175/175 [==============================] - 3s 16ms/step - loss: 0.5659 - accuracy: 0.7236 - recall_8: 0.1076 - val_loss: 0.5643 - val_accuracy: 0.7269 - val_recall_8: 0.0644\n",
      "Epoch 12/20\n",
      "175/175 [==============================] - 3s 16ms/step - loss: 0.5683 - accuracy: 0.7211 - recall_8: 0.1120 - val_loss: 0.5657 - val_accuracy: 0.7248 - val_recall_8: 0.0438\n",
      "Epoch 13/20\n",
      "175/175 [==============================] - 3s 16ms/step - loss: 0.5670 - accuracy: 0.7209 - recall_8: 0.1063 - val_loss: 0.5615 - val_accuracy: 0.7198 - val_recall_8: 0.0670\n",
      "Epoch 14/20\n",
      "175/175 [==============================] - 3s 16ms/step - loss: 0.5647 - accuracy: 0.7189 - recall_8: 0.1152 - val_loss: 0.5612 - val_accuracy: 0.7269 - val_recall_8: 0.0747\n",
      "Epoch 15/20\n",
      "175/175 [==============================] - 3s 16ms/step - loss: 0.5648 - accuracy: 0.7220 - recall_8: 0.1032 - val_loss: 0.5602 - val_accuracy: 0.7255 - val_recall_8: 0.0799\n",
      "Epoch 16/20\n",
      "175/175 [==============================] - 3s 16ms/step - loss: 0.5634 - accuracy: 0.7205 - recall_8: 0.1114 - val_loss: 0.5605 - val_accuracy: 0.7127 - val_recall_8: 0.1959\n",
      "Epoch 17/20\n",
      "175/175 [==============================] - 3s 16ms/step - loss: 0.5568 - accuracy: 0.7239 - recall_8: 0.1278 - val_loss: 0.5518 - val_accuracy: 0.7248 - val_recall_8: 0.0696\n",
      "Epoch 18/20\n",
      "175/175 [==============================] - 3s 16ms/step - loss: 0.5512 - accuracy: 0.7222 - recall_8: 0.1354 - val_loss: 0.5294 - val_accuracy: 0.7241 - val_recall_8: 0.0412\n",
      "Epoch 19/20\n",
      "175/175 [==============================] - 3s 16ms/step - loss: 0.5506 - accuracy: 0.7229 - recall_8: 0.1430 - val_loss: 0.5447 - val_accuracy: 0.7255 - val_recall_8: 0.0799\n",
      "Epoch 20/20\n",
      "175/175 [==============================] - 3s 16ms/step - loss: 0.5501 - accuracy: 0.7222 - recall_8: 0.1215 - val_loss: 0.5427 - val_accuracy: 0.7269 - val_recall_8: 0.1237\n"
     ]
    },
    {
     "data": {
      "image/png": "[encoded data removed]",
      "text/plain": [
       "<Figure size 432x288 with 1 Axes>"
      ]
     },
     "metadata": {
      "needs_background": "light"
     },
     "output_type": "display_data"
    },
    {
     "name": "stdout",
     "output_type": "stream",
     "text": [
      "94/94 [==============================] - 1s 8ms/step\n",
      "lstm random dead recall 0.13 precision 0.56 f1_score 0.21\n",
      "lstm random alive recall 0.96 precision 0.75 f1_score 0.84\n"
     ]
    }
   ],
   "source": [
    "lstm2 = keras.Sequential()\n",
    "lstm2.add(layers.LSTM(units=100, activation='tanh', return_sequences=True, input_shape=(input_length, 1)))\n",
    "lstm2.add(layers.Dropout(0.2))\n",
    "lstm2.add(layers.LSTM(units=50, activation='tanh', return_sequences=False))\n",
    "lstm2.add(layers.Dropout(0.2))\n",
    "lstm2.add(layers.Dense(1, activation='sigmoid'))\n",
    "\n",
    "\n",
    "lstm2.compile(optimizer='adam',\n",
    "            loss='binary_crossentropy',\n",
    "            metrics=['accuracy',tf.keras.metrics.Recall()])\n",
    "\n",
    "history_lstm2 = lstm2.fit(np.array(x_random_train), np.array(y_random_train),validation_split=0.2,callbacks=[callback], epochs=20)\n",
    "plt.plot(history_lstm2.history['accuracy'], label='train')\n",
    "plt.plot(history_lstm2.history['val_accuracy'], label='Validation')\n",
    "plt.ylabel('Accuracy')\n",
    "plt.xlabel('Epoch')\n",
    "plt.title('Training and validating accuracy')\n",
    "plt.legend()\n",
    "plt.show()\n",
    "\n",
    "y_pre_random_lstm = (lstm2.predict(x_test) > 0.5).astype(\"int32\").flatten()\n",
    "print_metrics(\"lstm random\",y_test,y_pre_random_lstm.tolist())"
   ]
  },
  {
   "cell_type": "code",
   "execution_count": 19,
   "metadata": {
    "pycharm": {
     "name": "#%%\n"
    }
   },
   "outputs": [
    {
     "name": "stderr",
     "output_type": "stream",
     "text": [
      "D:\\Anaconda\\envs\\NLP\\lib\\site-packages\\sklearn\\metrics\\_classification.py:1334: UndefinedMetricWarning: Precision is ill-defined and being set to 0.0 due to no predicted samples. Use `zero_division` parameter to control this behavior.\n",
      "  _warn_prf(average, modifier, msg_start, len(result))\n",
      "D:\\Anaconda\\envs\\NLP\\lib\\site-packages\\sklearn\\metrics\\_classification.py:1334: UndefinedMetricWarning: Precision is ill-defined and being set to 0.0 due to no predicted samples. Use `zero_division` parameter to control this behavior.\n",
      "  _warn_prf(average, modifier, msg_start, len(result))\n"
     ]
    },
    {
     "name": "stdout",
     "output_type": "stream",
     "text": [
      "writing..\n",
      "finish..\n"
     ]
    },
    {
     "name": "stderr",
     "output_type": "stream",
     "text": [
      "D:\\Anaconda\\envs\\NLP\\lib\\site-packages\\sklearn\\metrics\\_classification.py:1334: UndefinedMetricWarning: Precision is ill-defined and being set to 0.0 due to no predicted samples. Use `zero_division` parameter to control this behavior.\n",
      "  _warn_prf(average, modifier, msg_start, len(result))\n"
     ]
    }
   ],
   "source": [
    "balance_pre_list = [y_pre_under_zeroR,\n",
    "                    y_pre_under_knn,\n",
    "                    y_pre_under_GNB,\n",
    "                    y_pre_under_MLP,\n",
    "                    y_pre_under_rf,\n",
    "                    y_pre_under_lstm.tolist()\n",
    "                    ]\n",
    "\n",
    "balance_2_pre_list = [y_pre_smote_zeroR,\n",
    "                      y_pre_smote_knn,\n",
    "                      y_pre_smote_GNB,\n",
    "                      y_pre_smote_MLP,\n",
    "                      y_pre_smote_rf,\n",
    "                      y_pre_smote_lstm.tolist()\n",
    "                      ]\n",
    "\n",
    "random_pre_list = [y_pre_random_zeroR,\n",
    "                   y_pre_random_knn,\n",
    "                   y_pre_random_GNB,\n",
    "                   y_pre_random_MLP,\n",
    "                   y_pre_random_rf,\n",
    "                   y_pre_random_lstm.tolist()\n",
    "                   ]\n",
    "\n",
    "test_list = [y_test,y_test,y_test]\n",
    "pre_list =[balance_pre_list, balance_2_pre_list,random_pre_list]\n",
    "\n",
    "def get_metrics(y_true,y_pre):    \n",
    "    result1=[recall_score(y_true, y_pre),\n",
    "             precision_score(y_true, y_pre),\n",
    "             f1_score(y_true, y_pre)]\n",
    "    \n",
    "    y_flip_true = [0 if i else 1 for i in y_true]\n",
    "    y_flip_pre = [0 if i else 1 for i in y_pre]\n",
    "    \n",
    "    result2=[recall_score(y_flip_true, y_flip_pre),\n",
    "             precision_score(y_flip_true, y_flip_pre),\n",
    "             f1_score(y_flip_true, y_flip_pre)]\n",
    "    \n",
    "    return result1,result2\n",
    "\n",
    "result= []\n",
    "for i in range(len(test_list)):\n",
    "    test_y = test_list[i]\n",
    "    pre_y_list = pre_list[i]\n",
    "    result_list1=[]\n",
    "    result_list2=[]\n",
    "    for pre_y in pre_y_list:\n",
    "        result1,result2 = get_metrics(test_y,pre_y)\n",
    "        result_list1+=result1\n",
    "        result_list2+=result2\n",
    "    result.append(result_list1)\n",
    "    result.append(result_list2)\n",
    "\n",
    "with open('./result/percent_result.csv', 'w',newline='') as f:\n",
    "    print(\"writing..\")\n",
    "    writer = csv.writer(f)\n",
    "    for row in result:\n",
    "        writer.writerow(row)\n",
    "print(\"finish..\")\n"
   ]
  },
  {
   "cell_type": "code",
   "execution_count": null,
   "metadata": {},
   "outputs": [],
   "source": []
  }
 ],
 "metadata": {
  "kernelspec": {
   "display_name": "Python 3 (ipykernel)",
   "language": "python",
   "name": "python3"
  },
  "language_info": {
   "codemirror_mode": {
    "name": "ipython",
    "version": 3
   },
   "file_extension": ".py",
   "mimetype": "text/x-python",
   "name": "python",
   "nbconvert_exporter": "python",
   "pygments_lexer": "ipython3",
   "version": "3.8.12"
  },
  "pycharm": {
   "stem_cell": {
    "cell_type": "raw",
    "metadata": {
     "collapsed": false
    },
    "source": []
   }
  }
 },
 "nbformat": 4,
 "nbformat_minor": 1
}
